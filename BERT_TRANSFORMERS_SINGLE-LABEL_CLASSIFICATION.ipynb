{
 "cells": [
  {
   "cell_type": "code",
   "execution_count": 21,
   "id": "0ed258d9",
   "metadata": {},
   "outputs": [
    {
     "name": "stdout",
     "output_type": "stream",
     "text": [
      "Collecting transformers\n",
      "  Downloading transformers-4.23.1-py3-none-any.whl (5.3 MB)\n",
      "     ---------------------------------------- 5.3/5.3 MB 1.9 MB/s eta 0:00:00\n",
      "Requirement already satisfied: tqdm>=4.27 in c:\\users\\cccc\\anaconda3\\lib\\site-packages (from transformers) (4.64.1)\n",
      "Requirement already satisfied: requests in c:\\users\\cccc\\anaconda3\\lib\\site-packages (from transformers) (2.28.1)\n",
      "Requirement already satisfied: packaging>=20.0 in c:\\users\\cccc\\anaconda3\\lib\\site-packages (from transformers) (21.3)\n",
      "Requirement already satisfied: pyyaml>=5.1 in c:\\users\\cccc\\anaconda3\\lib\\site-packages (from transformers) (6.0)\n",
      "Collecting huggingface-hub<1.0,>=0.10.0\n",
      "  Downloading huggingface_hub-0.10.1-py3-none-any.whl (163 kB)\n",
      "     -------------------------------------- 163.5/163.5 kB 3.3 MB/s eta 0:00:00\n",
      "Requirement already satisfied: regex!=2019.12.17 in c:\\users\\cccc\\anaconda3\\lib\\site-packages (from transformers) (2022.7.9)\n",
      "Requirement already satisfied: numpy>=1.17 in c:\\users\\cccc\\anaconda3\\lib\\site-packages (from transformers) (1.21.5)\n",
      "Requirement already satisfied: filelock in c:\\users\\cccc\\anaconda3\\lib\\site-packages (from transformers) (3.6.0)\n",
      "Collecting tokenizers!=0.11.3,<0.14,>=0.11.1\n",
      "  Downloading tokenizers-0.13.1-cp39-cp39-win_amd64.whl (3.3 MB)\n",
      "     ---------------------------------------- 3.3/3.3 MB 1.9 MB/s eta 0:00:00\n",
      "Requirement already satisfied: typing-extensions>=3.7.4.3 in c:\\users\\cccc\\anaconda3\\lib\\site-packages (from huggingface-hub<1.0,>=0.10.0->transformers) (4.3.0)\n",
      "Requirement already satisfied: pyparsing!=3.0.5,>=2.0.2 in c:\\users\\cccc\\anaconda3\\lib\\site-packages (from packaging>=20.0->transformers) (3.0.9)\n",
      "Requirement already satisfied: colorama in c:\\users\\cccc\\anaconda3\\lib\\site-packages (from tqdm>=4.27->transformers) (0.4.5)\n",
      "Requirement already satisfied: charset-normalizer<3,>=2 in c:\\users\\cccc\\anaconda3\\lib\\site-packages (from requests->transformers) (2.0.4)\n",
      "Requirement already satisfied: certifi>=2017.4.17 in c:\\users\\cccc\\anaconda3\\lib\\site-packages (from requests->transformers) (2022.9.14)\n",
      "Requirement already satisfied: urllib3<1.27,>=1.21.1 in c:\\users\\cccc\\anaconda3\\lib\\site-packages (from requests->transformers) (1.26.11)\n",
      "Requirement already satisfied: idna<4,>=2.5 in c:\\users\\cccc\\anaconda3\\lib\\site-packages (from requests->transformers) (3.3)\n",
      "Installing collected packages: tokenizers, huggingface-hub, transformers\n",
      "Successfully installed huggingface-hub-0.10.1 tokenizers-0.13.1 transformers-4.23.1\n"
     ]
    }
   ],
   "source": [
    "# !pip install transformers"
   ]
  },
  {
   "cell_type": "code",
   "execution_count": 18,
   "id": "55420247",
   "metadata": {},
   "outputs": [],
   "source": [
    "import nltk\n"
   ]
  },
  {
   "cell_type": "code",
   "execution_count": 83,
   "id": "460f0d33",
   "metadata": {},
   "outputs": [],
   "source": [
    "import pandas as pd\n",
    "import numpy as np\n",
    "import matplotlib.pyplot as plt\n",
    "import tensorflow as tf\n",
    "import torch\n",
    "from torch.nn import CrossEntropyLoss, BCELoss\n",
    "from torch.utils.data import TensorDataset, DataLoader, RandomSampler, SequentialSampler\n",
    "from tensorflow.keras.preprocessing.sequence import pad_sequences\n",
    "from sklearn.model_selection import train_test_split\n",
    "from sklearn.preprocessing import MultiLabelBinarizer\n",
    "import torch.nn.functional as F\n",
    "from sklearn.metrics import classification_report, confusion_matrix, f1_score, accuracy_score\n",
    "import pickle\n",
    "from transformers import AutoTokenizer, AutoModel\n",
    "from tqdm import tqdm, trange\n",
    "from ast import literal_eval\n",
    "import re\n",
    "import string\n",
    "import sys\n",
    "import argparse\n",
    "from nltk.tokenize import word_tokenize\n"
   ]
  },
  {
   "cell_type": "code",
   "execution_count": 2,
   "id": "b10a0858",
   "metadata": {},
   "outputs": [
    {
     "data": {
      "text/plain": [
       "'NVIDIA GeForce GTX 1660 SUPER'"
      ]
     },
     "execution_count": 2,
     "metadata": {},
     "output_type": "execute_result"
    }
   ],
   "source": [
    "device = torch.device(\"cuda\" if torch.cuda.is_available() else \"cpu\")\n",
    "n_gpu = torch.cuda.device_count()\n",
    "torch.cuda.get_device_name(0)"
   ]
  },
  {
   "cell_type": "code",
   "execution_count": 3,
   "id": "5747b08f",
   "metadata": {},
   "outputs": [],
   "source": [
    "model_path='C:\\\\Users\\\\cccc\\\\TextClassıfıcatıon\\\\HARD_best_weights.pt'"
   ]
  },
  {
   "cell_type": "markdown",
   "id": "0346969e",
   "metadata": {},
   "source": [
    "# Load and Preprocess Training Data"
   ]
  },
  {
   "cell_type": "markdown",
   "id": "8bce99e1",
   "metadata": {},
   "source": [
    "Dataset will be tokenized then split into training and validation sets. The validation set will be used to monitor training. For testing a separate test set will be loaded for analysis."
   ]
  },
  {
   "cell_type": "code",
   "execution_count": 4,
   "id": "b94a2bf2",
   "metadata": {},
   "outputs": [
    {
     "data": {
      "text/html": [
       "<div>\n",
       "<style scoped>\n",
       "    .dataframe tbody tr th:only-of-type {\n",
       "        vertical-align: middle;\n",
       "    }\n",
       "\n",
       "    .dataframe tbody tr th {\n",
       "        vertical-align: top;\n",
       "    }\n",
       "\n",
       "    .dataframe thead th {\n",
       "        text-align: right;\n",
       "    }\n",
       "</style>\n",
       "<table border=\"1\" class=\"dataframe\">\n",
       "  <thead>\n",
       "    <tr style=\"text-align: right;\">\n",
       "      <th></th>\n",
       "      <th>no</th>\n",
       "      <th>Hotel name</th>\n",
       "      <th>rating</th>\n",
       "      <th>user type</th>\n",
       "      <th>room type</th>\n",
       "      <th>nights</th>\n",
       "      <th>review</th>\n",
       "    </tr>\n",
       "  </thead>\n",
       "  <tbody>\n",
       "    <tr>\n",
       "      <th>0</th>\n",
       "      <td>2</td>\n",
       "      <td>فندق 72</td>\n",
       "      <td>2</td>\n",
       "      <td>مسافر منفرد</td>\n",
       "      <td>غرفة ديلوكس مزدوجة أو توأم</td>\n",
       "      <td>أقمت ليلة واحدة</td>\n",
       "      <td>“ممتاز”. النظافة والطاقم متعاون.</td>\n",
       "    </tr>\n",
       "    <tr>\n",
       "      <th>1</th>\n",
       "      <td>3</td>\n",
       "      <td>فندق 72</td>\n",
       "      <td>5</td>\n",
       "      <td>زوج</td>\n",
       "      <td>غرفة ديلوكس مزدوجة أو توأم</td>\n",
       "      <td>أقمت ليلة واحدة</td>\n",
       "      <td>استثنائي. سهولة إنهاء المعاملة في الاستقبال. ل...</td>\n",
       "    </tr>\n",
       "    <tr>\n",
       "      <th>2</th>\n",
       "      <td>16</td>\n",
       "      <td>فندق 72</td>\n",
       "      <td>5</td>\n",
       "      <td>زوج</td>\n",
       "      <td>-</td>\n",
       "      <td>أقمت ليلتين</td>\n",
       "      <td>استثنائي. انصح بأختيار الاسويت و بالاخص غرفه ر...</td>\n",
       "    </tr>\n",
       "    <tr>\n",
       "      <th>3</th>\n",
       "      <td>20</td>\n",
       "      <td>فندق 72</td>\n",
       "      <td>1</td>\n",
       "      <td>زوج</td>\n",
       "      <td>غرفة قياسية مزدوجة</td>\n",
       "      <td>أقمت ليلة واحدة</td>\n",
       "      <td>“استغرب تقييم الفندق كخمس نجوم”. لا شي. يستحق ...</td>\n",
       "    </tr>\n",
       "    <tr>\n",
       "      <th>4</th>\n",
       "      <td>23</td>\n",
       "      <td>فندق 72</td>\n",
       "      <td>4</td>\n",
       "      <td>زوج</td>\n",
       "      <td>غرفة ديلوكس مزدوجة أو توأم</td>\n",
       "      <td>أقمت ليلتين</td>\n",
       "      <td>جيد. المكان جميل وهاديء. كل شي جيد ونظيف بس كا...</td>\n",
       "    </tr>\n",
       "    <tr>\n",
       "      <th>5</th>\n",
       "      <td>24</td>\n",
       "      <td>فندق 72</td>\n",
       "      <td>5</td>\n",
       "      <td>أسرة</td>\n",
       "      <td>غرفة ديلوكس مزدوجة أو توأم</td>\n",
       "      <td>أقمت ليلة واحدة</td>\n",
       "      <td>ممتاز. موقع الفندق ونظافته والاطلاله على البحر...</td>\n",
       "    </tr>\n",
       "    <tr>\n",
       "      <th>6</th>\n",
       "      <td>25</td>\n",
       "      <td>فندق 72</td>\n",
       "      <td>5</td>\n",
       "      <td>زوج</td>\n",
       "      <td>غرفة ديلوكس مزدوجة أو توأم</td>\n",
       "      <td>أقمت ليلة واحدة</td>\n",
       "      <td>“جيدجداً”. الافطار جيد والسرير ممتاز ومريح واط...</td>\n",
       "    </tr>\n",
       "    <tr>\n",
       "      <th>7</th>\n",
       "      <td>26</td>\n",
       "      <td>فندق 72</td>\n",
       "      <td>5</td>\n",
       "      <td>مسافر منفرد</td>\n",
       "      <td>-</td>\n",
       "      <td>أقمت ليلتين</td>\n",
       "      <td>“فندق ممتاز”. الاثاث، النظافه.</td>\n",
       "    </tr>\n",
       "    <tr>\n",
       "      <th>8</th>\n",
       "      <td>27</td>\n",
       "      <td>فندق 72</td>\n",
       "      <td>5</td>\n",
       "      <td>أسرة</td>\n",
       "      <td>غرفة ديلوكس مزدوجة أو توأم</td>\n",
       "      <td>أقمت ليلتين</td>\n",
       "      <td>“الراحة و الهدوء”. مكان مناسب ومريح  انصح به خ...</td>\n",
       "    </tr>\n",
       "    <tr>\n",
       "      <th>9</th>\n",
       "      <td>28</td>\n",
       "      <td>فندق 72</td>\n",
       "      <td>5</td>\n",
       "      <td>زوج</td>\n",
       "      <td>غرفة ديلوكس مزدوجة أو توأم</td>\n",
       "      <td>أقمت ليلة واحدة</td>\n",
       "      <td>استثنائي. المكان روعه تحديدا الغرف المطله على ...</td>\n",
       "    </tr>\n",
       "  </tbody>\n",
       "</table>\n",
       "</div>"
      ],
      "text/plain": [
       "   no Hotel name  rating    user type                   room type  \\\n",
       "0   2    فندق 72       2  مسافر منفرد  غرفة ديلوكس مزدوجة أو توأم   \n",
       "1   3    فندق 72       5          زوج  غرفة ديلوكس مزدوجة أو توأم   \n",
       "2  16    فندق 72       5          زوج                           -   \n",
       "3  20    فندق 72       1          زوج          غرفة قياسية مزدوجة   \n",
       "4  23    فندق 72       4          زوج  غرفة ديلوكس مزدوجة أو توأم   \n",
       "5  24    فندق 72       5         أسرة  غرفة ديلوكس مزدوجة أو توأم   \n",
       "6  25    فندق 72       5          زوج  غرفة ديلوكس مزدوجة أو توأم   \n",
       "7  26    فندق 72       5  مسافر منفرد                           -   \n",
       "8  27    فندق 72       5         أسرة  غرفة ديلوكس مزدوجة أو توأم   \n",
       "9  28    فندق 72       5          زوج  غرفة ديلوكس مزدوجة أو توأم   \n",
       "\n",
       "            nights                                             review  \n",
       "0  أقمت ليلة واحدة                  “ممتاز”. النظافة والطاقم متعاون.   \n",
       "1  أقمت ليلة واحدة  استثنائي. سهولة إنهاء المعاملة في الاستقبال. ل...  \n",
       "2      أقمت ليلتين  استثنائي. انصح بأختيار الاسويت و بالاخص غرفه ر...  \n",
       "3  أقمت ليلة واحدة  “استغرب تقييم الفندق كخمس نجوم”. لا شي. يستحق ...  \n",
       "4      أقمت ليلتين  جيد. المكان جميل وهاديء. كل شي جيد ونظيف بس كا...  \n",
       "5  أقمت ليلة واحدة  ممتاز. موقع الفندق ونظافته والاطلاله على البحر...  \n",
       "6  أقمت ليلة واحدة  “جيدجداً”. الافطار جيد والسرير ممتاز ومريح واط...  \n",
       "7      أقمت ليلتين                    “فندق ممتاز”. الاثاث، النظافه.   \n",
       "8      أقمت ليلتين  “الراحة و الهدوء”. مكان مناسب ومريح  انصح به خ...  \n",
       "9  أقمت ليلة واحدة  استثنائي. المكان روعه تحديدا الغرف المطله على ...  "
      ]
     },
     "execution_count": 4,
     "metadata": {},
     "output_type": "execute_result"
    }
   ],
   "source": [
    "arab_df = pd.read_csv('balanced-reviews.tsv', delimiter='\\t')\n",
    "arab_df.head(10)"
   ]
  },
  {
   "cell_type": "code",
   "execution_count": 5,
   "id": "175c2148",
   "metadata": {},
   "outputs": [
    {
     "data": {
      "text/html": [
       "<div>\n",
       "<style scoped>\n",
       "    .dataframe tbody tr th:only-of-type {\n",
       "        vertical-align: middle;\n",
       "    }\n",
       "\n",
       "    .dataframe tbody tr th {\n",
       "        vertical-align: top;\n",
       "    }\n",
       "\n",
       "    .dataframe thead th {\n",
       "        text-align: right;\n",
       "    }\n",
       "</style>\n",
       "<table border=\"1\" class=\"dataframe\">\n",
       "  <thead>\n",
       "    <tr style=\"text-align: right;\">\n",
       "      <th></th>\n",
       "      <th>label</th>\n",
       "      <th>text</th>\n",
       "    </tr>\n",
       "  </thead>\n",
       "  <tbody>\n",
       "    <tr>\n",
       "      <th>0</th>\n",
       "      <td>0</td>\n",
       "      <td>“ممتاز”. النظافة والطاقم متعاون.</td>\n",
       "    </tr>\n",
       "    <tr>\n",
       "      <th>1</th>\n",
       "      <td>1</td>\n",
       "      <td>استثنائي. سهولة إنهاء المعاملة في الاستقبال. ل...</td>\n",
       "    </tr>\n",
       "    <tr>\n",
       "      <th>2</th>\n",
       "      <td>1</td>\n",
       "      <td>استثنائي. انصح بأختيار الاسويت و بالاخص غرفه ر...</td>\n",
       "    </tr>\n",
       "    <tr>\n",
       "      <th>3</th>\n",
       "      <td>0</td>\n",
       "      <td>“استغرب تقييم الفندق كخمس نجوم”. لا شي. يستحق ...</td>\n",
       "    </tr>\n",
       "    <tr>\n",
       "      <th>4</th>\n",
       "      <td>1</td>\n",
       "      <td>جيد. المكان جميل وهاديء. كل شي جيد ونظيف بس كا...</td>\n",
       "    </tr>\n",
       "  </tbody>\n",
       "</table>\n",
       "</div>"
      ],
      "text/plain": [
       "   label                                               text\n",
       "0      0                  “ممتاز”. النظافة والطاقم متعاون. \n",
       "1      1  استثنائي. سهولة إنهاء المعاملة في الاستقبال. ل...\n",
       "2      1  استثنائي. انصح بأختيار الاسويت و بالاخص غرفه ر...\n",
       "3      0  “استغرب تقييم الفندق كخمس نجوم”. لا شي. يستحق ...\n",
       "4      1  جيد. المكان جميل وهاديء. كل شي جيد ونظيف بس كا..."
      ]
     },
     "execution_count": 5,
     "metadata": {},
     "output_type": "execute_result"
    }
   ],
   "source": [
    "arab_df = arab_df[['rating', 'review']] # we are interested in rating and review only\n",
    "# code rating as +ve if > 3, -ve if less, no 3s in dataset \n",
    "arab_df['rating'] = arab_df['rating'].apply(lambda x: 0 if x < 3 else 1)\n",
    "# rename columns to fit default constructor in fastai\n",
    "arab_df.columns = ['label', 'text']\n",
    "arab_df.head()"
   ]
  },
  {
   "cell_type": "code",
   "execution_count": 6,
   "id": "2b8d7632",
   "metadata": {},
   "outputs": [
    {
     "name": "stdout",
     "output_type": "stream",
     "text": [
      "Null values:  False\n"
     ]
    }
   ],
   "source": [
    "print('Null values: ', arab_df.isnull().values.any())"
   ]
  },
  {
   "cell_type": "code",
   "execution_count": 7,
   "id": "40d8a5b1",
   "metadata": {},
   "outputs": [
    {
     "data": {
      "text/plain": [
       "0    52849\n",
       "1    52849\n",
       "Name: label, dtype: int64"
      ]
     },
     "execution_count": 7,
     "metadata": {},
     "output_type": "execute_result"
    }
   ],
   "source": [
    "#checking if the dataset is balanced or not\n",
    "arab_df['label'].value_counts()"
   ]
  },
  {
   "cell_type": "code",
   "execution_count": 8,
   "id": "d5e427ec",
   "metadata": {},
   "outputs": [
    {
     "data": {
      "text/plain": [
       "1654"
      ]
     },
     "execution_count": 8,
     "metadata": {},
     "output_type": "execute_result"
    }
   ],
   "source": [
    "#checking if there is any duplicated data\n",
    "arab_df.duplicated().sum()"
   ]
  },
  {
   "cell_type": "code",
   "execution_count": 9,
   "id": "0447d6b7",
   "metadata": {},
   "outputs": [],
   "source": [
    "#dropping duplicated values \n",
    "arab_df.drop_duplicates(\n",
    "    subset=None, \n",
    "    keep='first', \n",
    "    inplace=True, \n",
    "    ignore_index=True\n",
    "    )"
   ]
  },
  {
   "cell_type": "code",
   "execution_count": 25,
   "id": "cd4fc97b",
   "metadata": {},
   "outputs": [],
   "source": [
    "arabic_punctuations = '''`÷×؛<>_()*&^%][ـ،/:\"؟.,'{}~¦+|!”…“–ـ '''\n",
    "english_punctuations = string.punctuation\n",
    "punctuations_list = arabic_punctuations + english_punctuations\n",
    "\n",
    "def remove_diacritics(text):\n",
    "    arabic_diacritics = re.compile(\"\"\" ّ    | # Tashdid\n",
    "                             َ    | # Fatha\n",
    "                             ً    | # Tanwin Fath\n",
    "                             ُ    | # Damma\n",
    "                             ٌ    | # Tanwin Damm\n",
    "                             ِ    | # Kasra\n",
    "                             ٍ    | # Tanwin Kasr\n",
    "                             ْ    | # Sukun\n",
    "                             ـ     # Tatwil/Kashida\n",
    "                         \"\"\", re.VERBOSE)\n",
    "    text = re.sub(arabic_diacritics, '', str(text))\n",
    "    return text\n",
    "\n",
    "def remove_emoji(text):\n",
    "    regrex_pattern = re.compile(pattern = \"[\"\n",
    "        u\"\\U0001F600-\\U0001F64F\"  # emoticons\n",
    "        u\"\\U0001F300-\\U0001F5FF\"  # symbols & pictographs\n",
    "        u\"\\U0001F680-\\U0001F6FF\"  # transport & map symbols\n",
    "        u\"\\U0001F1E0-\\U0001F1FF\"  # flags (iOS)\n",
    "                           \"]+\", flags = re.UNICODE)\n",
    "    return regrex_pattern.sub(r'',text)\n",
    "def normalize_arabic(text):\n",
    "    text = re.sub(\"[إأآا]\", \"ا\", text)\n",
    "    text = re.sub(\"ى\", \"ي\", text)\n",
    "    text = re.sub(\"ؤ\", \"ء\", text)\n",
    "    text = re.sub(\"ئ\", \"ء\", text)\n",
    "    text = re.sub(\"ة\", \"ه\", text)\n",
    "    text = re.sub(\"گ\", \"ك\", text)\n",
    "    return text\n",
    "def clean_text(text):\n",
    "    text = re.sub('[‘’“”…]', '', str(text))\n",
    "    text = \"\".join([word for word in text if word not in string.punctuation])\n",
    "    text = remove_emoji(text)\n",
    "    text = normalize_arabic(text)\n",
    "    text = remove_diacritics(text)\n",
    "    tokens = word_tokenize(text)\n",
    "    text = ' '.join([word for word in tokens])\n",
    "    return text"
   ]
  },
  {
   "cell_type": "code",
   "execution_count": 26,
   "id": "1acbbfdb",
   "metadata": {},
   "outputs": [],
   "source": [
    "# splitting data into training and testing\n",
    "from sklearn.model_selection import train_test_split\n",
    "ara_train, ara_test = train_test_split(arab_df, test_size=0.20)"
   ]
  },
  {
   "cell_type": "code",
   "execution_count": 24,
   "id": "cb7b81a9",
   "metadata": {},
   "outputs": [
    {
     "name": "stderr",
     "output_type": "stream",
     "text": [
      "[nltk_data] Downloading package punkt to\n",
      "[nltk_data]     C:\\Users\\cccc\\AppData\\Roaming\\nltk_data...\n",
      "[nltk_data]   Unzipping tokenizers\\punkt.zip.\n"
     ]
    },
    {
     "data": {
      "text/plain": [
       "True"
      ]
     },
     "execution_count": 24,
     "metadata": {},
     "output_type": "execute_result"
    }
   ],
   "source": [
    "# nltk.download('punkt')"
   ]
  },
  {
   "cell_type": "code",
   "execution_count": 27,
   "id": "187961fa",
   "metadata": {},
   "outputs": [],
   "source": [
    "ara_train['cleanedtext'] = ara_train.text.apply(lambda x: clean_text(x))\n",
    "ara_test['cleanedtext'] = ara_test.text.apply(lambda x: clean_text(x))\n",
    "\n",
    "#setting the training data\n",
    "labels = list(ara_train.label.values)\n",
    "reviews = list(ara_train.cleanedtext.values)\n",
    "\n",
    "#setting the testting data\n",
    "test_labels = list(ara_test.label.values)\n",
    "test_reviews = list(ara_test.cleanedtext.values)"
   ]
  },
  {
   "cell_type": "code",
   "execution_count": 28,
   "id": "7dcd4091",
   "metadata": {},
   "outputs": [
    {
     "name": "stdout",
     "output_type": "stream",
     "text": [
      "average train sentence length:  23.776524298672435\n",
      "stdev train sentence length:  24.329313940960457\n"
     ]
    }
   ],
   "source": [
    "print('average train sentence length: ', ara_train['cleanedtext'].str.split().str.len().mean())\n",
    "print('stdev train sentence length: ', ara_train['cleanedtext'].str.split().str.len().std())"
   ]
  },
  {
   "cell_type": "code",
   "execution_count": 29,
   "id": "22159b9a",
   "metadata": {},
   "outputs": [
    {
     "name": "stdout",
     "output_type": "stream",
     "text": [
      "average test sentence length:  23.697006103128455\n",
      "stdev test sentence length:  24.471268356679495\n"
     ]
    }
   ],
   "source": [
    "print('average test sentence length: ', ara_test['cleanedtext'].str.split().str.len().mean())\n",
    "print('stdev test sentence length: ', ara_test['cleanedtext'].str.split().str.len().std())"
   ]
  },
  {
   "cell_type": "markdown",
   "id": "4cc90818",
   "metadata": {},
   "source": [
    "# Choosing Sequence Length"
   ]
  },
  {
   "cell_type": "markdown",
   "id": "db631d15",
   "metadata": {},
   "source": [
    "BERT works with fixed-length sequences. We’ll use a simple strategy to choose the max length. Let’s store the token length of each review:"
   ]
  },
  {
   "cell_type": "code",
   "execution_count": 30,
   "id": "8bf42447",
   "metadata": {},
   "outputs": [],
   "source": [
    "ara_train['text_len'] = ara_train.loc[:,'text'].apply(lambda x:len(x.split()))"
   ]
  },
  {
   "cell_type": "code",
   "execution_count": 31,
   "id": "dfed6614",
   "metadata": {},
   "outputs": [
    {
     "data": {
      "text/plain": [
       "<seaborn.axisgrid.FacetGrid at 0x1fa4e5764c0>"
      ]
     },
     "execution_count": 31,
     "metadata": {},
     "output_type": "execute_result"
    },
    {
     "data": {
      "image/png": "[encoded data removed]",
      "text/plain": [
       "<Figure size 500x500 with 1 Axes>"
      ]
     },
     "metadata": {},
     "output_type": "display_data"
    }
   ],
   "source": [
    "import seaborn as sb\n",
    "sb.displot(ara_train.text_len,bins=512)"
   ]
  },
  {
   "cell_type": "code",
   "execution_count": 32,
   "id": "fa52b955",
   "metadata": {},
   "outputs": [
    {
     "data": {
      "application/vnd.jupyter.widget-view+json": {
       "model_id": "769bc0bcf6b94e018e638eb3861b59bc",
       "version_major": 2,
       "version_minor": 0
      },
      "text/plain": [
       "Downloading:   0%|          | 0.00/62.0 [00:00<?, ?B/s]"
      ]
     },
     "metadata": {},
     "output_type": "display_data"
    },
    {
     "name": "stderr",
     "output_type": "stream",
     "text": [
      "C:\\Users\\cccc\\anaconda3\\envs\\demo\\lib\\site-packages\\huggingface_hub\\file_download.py:123: UserWarning: `huggingface_hub` cache-system uses symlinks by default to efficiently store duplicated files but your machine does not support them in C:\\Users\\cccc\\.cache\\huggingface\\hub. Caching files will still work but in a degraded version that might require more space on your disk. This warning can be disabled by setting the `HF_HUB_DISABLE_SYMLINKS_WARNING` environment variable. For more details, see https://huggingface.co/docs/huggingface_hub/how-to-cache#limitations.\n",
      "To support symlinks on Windows, you either need to activate Developer Mode or to run Python as an administrator. In order to see activate developer mode, see this article: https://docs.microsoft.com/en-us/windows/apps/get-started/enable-your-device-for-development\n",
      "  warnings.warn(message)\n"
     ]
    },
    {
     "data": {
      "application/vnd.jupyter.widget-view+json": {
       "model_id": "28d2124178fc4b6586624751f3a9451a",
       "version_major": 2,
       "version_minor": 0
      },
      "text/plain": [
       "Downloading:   0%|          | 0.00/491 [00:00<?, ?B/s]"
      ]
     },
     "metadata": {},
     "output_type": "display_data"
    },
    {
     "data": {
      "application/vnd.jupyter.widget-view+json": {
       "model_id": "bed91544b3c949f0bf665a3e33ecdb50",
       "version_major": 2,
       "version_minor": 0
      },
      "text/plain": [
       "Downloading:   0%|          | 0.00/334k [00:00<?, ?B/s]"
      ]
     },
     "metadata": {},
     "output_type": "display_data"
    },
    {
     "data": {
      "application/vnd.jupyter.widget-view+json": {
       "model_id": "d96831ef2a5d495fb7b7bbf78c1ee796",
       "version_major": 2,
       "version_minor": 0
      },
      "text/plain": [
       "Downloading:   0%|          | 0.00/112 [00:00<?, ?B/s]"
      ]
     },
     "metadata": {},
     "output_type": "display_data"
    },
    {
     "name": "stderr",
     "output_type": "stream",
     "text": [
      "Truncation was not explicitly activated but `max_length` is provided a specific value, please use `truncation=True` to explicitly truncate examples to max length. Defaulting to 'longest_first' truncation strategy. If you encode pairs of sequences (GLUE-style) with the tokenizer you can select this strategy more precisely by providing a specific strategy to `truncation`.\n",
      "C:\\Users\\cccc\\anaconda3\\envs\\demo\\lib\\site-packages\\transformers\\tokenization_utils_base.py:2302: FutureWarning: The `pad_to_max_length` argument is deprecated and will be removed in a future version, use `padding=True` or `padding='longest'` to pad to the longest sequence in the batch, or use `padding='max_length'` to pad to a max length. In this case, you can give a specific length with `max_length` (e.g. `max_length=45`) or leave max_length to None to pad to the maximal input size of the model (e.g. 512 for Bert).\n",
      "  warnings.warn(\n"
     ]
    },
    {
     "name": "stdout",
     "output_type": "stream",
     "text": [
      "tokenizer outputs:  dict_keys(['input_ids', 'token_type_ids', 'attention_mask'])\n"
     ]
    }
   ],
   "source": [
    "max_length = 60\n",
    "ara_train = ara_train.reset_index(drop=True)\n",
    "# Select a batch size for training. For fine-tuning with XLNet, the authors recommend a batch size of 32, 48, or 128. We will use 32 here to avoid memory issues.\n",
    "batch_size = 32\n",
    "tokenizer = AutoTokenizer.from_pretrained(\"asafaya/bert-base-arabic\") # tokenizer\n",
    "encodings = tokenizer.batch_encode_plus(reviews,max_length=max_length,pad_to_max_length=True) # tokenizer's encoding method\n",
    "print('tokenizer outputs: ', encodings.keys())"
   ]
  },
  {
   "cell_type": "code",
   "execution_count": 33,
   "id": "5256e8e4",
   "metadata": {},
   "outputs": [
    {
     "name": "stdout",
     "output_type": "stream",
     "text": [
      "tokenizer outputs:  dict_keys(['input_ids', 'token_type_ids', 'attention_mask'])\n"
     ]
    }
   ],
   "source": [
    "encodings = tokenizer.batch_encode_plus(reviews,max_length=max_length,pad_to_max_length=True) # tokenizer's encoding method\n",
    "print('tokenizer outputs: ', encodings.keys())"
   ]
  },
  {
   "cell_type": "code",
   "execution_count": 34,
   "id": "892fcd49",
   "metadata": {},
   "outputs": [],
   "source": [
    "input_ids = encodings['input_ids'] # tokenized and encoded sentences\n",
    "token_type_ids = encodings['token_type_ids'] # token type ids\n",
    "attention_masks = encodings['attention_mask'] # attention masks"
   ]
  },
  {
   "cell_type": "code",
   "execution_count": 35,
   "id": "c8ed12ea",
   "metadata": {},
   "outputs": [],
   "source": [
    "train_inputs, validation_inputs, train_labels, validation_labels, train_token_types, validation_token_types, train_masks, validation_masks = train_test_split(input_ids, labels, token_type_ids,attention_masks,\n",
    "                                                            random_state=2020, test_size=0.10)"
   ]
  },
  {
   "cell_type": "code",
   "execution_count": 36,
   "id": "b913d060",
   "metadata": {},
   "outputs": [],
   "source": [
    "# converting all numpy arrays to tensors\n",
    "train_inputs = torch.tensor(train_inputs)\n",
    "train_labels = torch.tensor(train_labels)\n",
    "train_masks = torch.tensor(train_masks)\n",
    "train_token_types = torch.tensor(train_token_types)\n",
    "\n",
    "validation_inputs = torch.tensor(validation_inputs)\n",
    "validation_labels = torch.tensor(validation_labels)\n",
    "validation_masks = torch.tensor(validation_masks)\n",
    "validation_token_types = torch.tensor(validation_token_types)"
   ]
  },
  {
   "cell_type": "code",
   "execution_count": 37,
   "id": "ccbaf91d",
   "metadata": {},
   "outputs": [],
   "source": [
    "# creating data loader and loading data into it using random sampler\n",
    "train_data = TensorDataset(train_inputs, train_masks, train_labels, train_token_types)\n",
    "train_sampler = RandomSampler(train_data)\n",
    "train_dataloader = DataLoader(train_data, sampler=train_sampler, batch_size=batch_size)\n",
    "\n",
    "validation_data = TensorDataset(validation_inputs, validation_masks, validation_labels, validation_token_types)\n",
    "validation_sampler = RandomSampler(validation_data)\n",
    "validation_dataloader = DataLoader(validation_data, sampler=validation_sampler, batch_size=batch_size)"
   ]
  },
  {
   "cell_type": "code",
   "execution_count": 38,
   "id": "388a131f",
   "metadata": {},
   "outputs": [],
   "source": [
    "# saving data loaders\n",
    "torch.save(validation_dataloader,'validation_HARDdata_loader')\n",
    "torch.save(train_dataloader,'train_HARDdata_loader')"
   ]
  },
  {
   "cell_type": "code",
   "execution_count": null,
   "id": "673c52ea",
   "metadata": {},
   "outputs": [],
   "source": [
    "#device =  torch.device('cpu')"
   ]
  },
  {
   "cell_type": "code",
   "execution_count": 42,
   "id": "e48f7b2a",
   "metadata": {},
   "outputs": [
    {
     "name": "stderr",
     "output_type": "stream",
     "text": [
      "Some weights of the model checkpoint at asafaya/bert-base-arabic were not used when initializing BertModel: ['cls.predictions.decoder.weight', 'cls.predictions.decoder.bias', 'cls.predictions.transform.LayerNorm.bias', 'cls.predictions.transform.LayerNorm.weight', 'cls.predictions.bias', 'cls.predictions.transform.dense.bias', 'cls.predictions.transform.dense.weight']\n",
      "- This IS expected if you are initializing BertModel from the checkpoint of a model trained on another task or with another architecture (e.g. initializing a BertForSequenceClassification model from a BertForPreTraining model).\n",
      "- This IS NOT expected if you are initializing BertModel from the checkpoint of a model that you expect to be exactly identical (initializing a BertForSequenceClassification model from a BertForSequenceClassification model).\n"
     ]
    },
    {
     "data": {
      "text/plain": [
       "BERTClass(\n",
       "  (bert_model): BertModel(\n",
       "    (embeddings): BertEmbeddings(\n",
       "      (word_embeddings): Embedding(32000, 768, padding_idx=0)\n",
       "      (position_embeddings): Embedding(512, 768)\n",
       "      (token_type_embeddings): Embedding(2, 768)\n",
       "      (LayerNorm): LayerNorm((768,), eps=1e-12, elementwise_affine=True)\n",
       "      (dropout): Dropout(p=0.1, inplace=False)\n",
       "    )\n",
       "    (encoder): BertEncoder(\n",
       "      (layer): ModuleList(\n",
       "        (0): BertLayer(\n",
       "          (attention): BertAttention(\n",
       "            (self): BertSelfAttention(\n",
       "              (query): Linear(in_features=768, out_features=768, bias=True)\n",
       "              (key): Linear(in_features=768, out_features=768, bias=True)\n",
       "              (value): Linear(in_features=768, out_features=768, bias=True)\n",
       "              (dropout): Dropout(p=0.1, inplace=False)\n",
       "            )\n",
       "            (output): BertSelfOutput(\n",
       "              (dense): Linear(in_features=768, out_features=768, bias=True)\n",
       "              (LayerNorm): LayerNorm((768,), eps=1e-12, elementwise_affine=True)\n",
       "              (dropout): Dropout(p=0.1, inplace=False)\n",
       "            )\n",
       "          )\n",
       "          (intermediate): BertIntermediate(\n",
       "            (dense): Linear(in_features=768, out_features=3072, bias=True)\n",
       "            (intermediate_act_fn): GELUActivation()\n",
       "          )\n",
       "          (output): BertOutput(\n",
       "            (dense): Linear(in_features=3072, out_features=768, bias=True)\n",
       "            (LayerNorm): LayerNorm((768,), eps=1e-12, elementwise_affine=True)\n",
       "            (dropout): Dropout(p=0.1, inplace=False)\n",
       "          )\n",
       "        )\n",
       "        (1): BertLayer(\n",
       "          (attention): BertAttention(\n",
       "            (self): BertSelfAttention(\n",
       "              (query): Linear(in_features=768, out_features=768, bias=True)\n",
       "              (key): Linear(in_features=768, out_features=768, bias=True)\n",
       "              (value): Linear(in_features=768, out_features=768, bias=True)\n",
       "              (dropout): Dropout(p=0.1, inplace=False)\n",
       "            )\n",
       "            (output): BertSelfOutput(\n",
       "              (dense): Linear(in_features=768, out_features=768, bias=True)\n",
       "              (LayerNorm): LayerNorm((768,), eps=1e-12, elementwise_affine=True)\n",
       "              (dropout): Dropout(p=0.1, inplace=False)\n",
       "            )\n",
       "          )\n",
       "          (intermediate): BertIntermediate(\n",
       "            (dense): Linear(in_features=768, out_features=3072, bias=True)\n",
       "            (intermediate_act_fn): GELUActivation()\n",
       "          )\n",
       "          (output): BertOutput(\n",
       "            (dense): Linear(in_features=3072, out_features=768, bias=True)\n",
       "            (LayerNorm): LayerNorm((768,), eps=1e-12, elementwise_affine=True)\n",
       "            (dropout): Dropout(p=0.1, inplace=False)\n",
       "          )\n",
       "        )\n",
       "        (2): BertLayer(\n",
       "          (attention): BertAttention(\n",
       "            (self): BertSelfAttention(\n",
       "              (query): Linear(in_features=768, out_features=768, bias=True)\n",
       "              (key): Linear(in_features=768, out_features=768, bias=True)\n",
       "              (value): Linear(in_features=768, out_features=768, bias=True)\n",
       "              (dropout): Dropout(p=0.1, inplace=False)\n",
       "            )\n",
       "            (output): BertSelfOutput(\n",
       "              (dense): Linear(in_features=768, out_features=768, bias=True)\n",
       "              (LayerNorm): LayerNorm((768,), eps=1e-12, elementwise_affine=True)\n",
       "              (dropout): Dropout(p=0.1, inplace=False)\n",
       "            )\n",
       "          )\n",
       "          (intermediate): BertIntermediate(\n",
       "            (dense): Linear(in_features=768, out_features=3072, bias=True)\n",
       "            (intermediate_act_fn): GELUActivation()\n",
       "          )\n",
       "          (output): BertOutput(\n",
       "            (dense): Linear(in_features=3072, out_features=768, bias=True)\n",
       "            (LayerNorm): LayerNorm((768,), eps=1e-12, elementwise_affine=True)\n",
       "            (dropout): Dropout(p=0.1, inplace=False)\n",
       "          )\n",
       "        )\n",
       "        (3): BertLayer(\n",
       "          (attention): BertAttention(\n",
       "            (self): BertSelfAttention(\n",
       "              (query): Linear(in_features=768, out_features=768, bias=True)\n",
       "              (key): Linear(in_features=768, out_features=768, bias=True)\n",
       "              (value): Linear(in_features=768, out_features=768, bias=True)\n",
       "              (dropout): Dropout(p=0.1, inplace=False)\n",
       "            )\n",
       "            (output): BertSelfOutput(\n",
       "              (dense): Linear(in_features=768, out_features=768, bias=True)\n",
       "              (LayerNorm): LayerNorm((768,), eps=1e-12, elementwise_affine=True)\n",
       "              (dropout): Dropout(p=0.1, inplace=False)\n",
       "            )\n",
       "          )\n",
       "          (intermediate): BertIntermediate(\n",
       "            (dense): Linear(in_features=768, out_features=3072, bias=True)\n",
       "            (intermediate_act_fn): GELUActivation()\n",
       "          )\n",
       "          (output): BertOutput(\n",
       "            (dense): Linear(in_features=3072, out_features=768, bias=True)\n",
       "            (LayerNorm): LayerNorm((768,), eps=1e-12, elementwise_affine=True)\n",
       "            (dropout): Dropout(p=0.1, inplace=False)\n",
       "          )\n",
       "        )\n",
       "        (4): BertLayer(\n",
       "          (attention): BertAttention(\n",
       "            (self): BertSelfAttention(\n",
       "              (query): Linear(in_features=768, out_features=768, bias=True)\n",
       "              (key): Linear(in_features=768, out_features=768, bias=True)\n",
       "              (value): Linear(in_features=768, out_features=768, bias=True)\n",
       "              (dropout): Dropout(p=0.1, inplace=False)\n",
       "            )\n",
       "            (output): BertSelfOutput(\n",
       "              (dense): Linear(in_features=768, out_features=768, bias=True)\n",
       "              (LayerNorm): LayerNorm((768,), eps=1e-12, elementwise_affine=True)\n",
       "              (dropout): Dropout(p=0.1, inplace=False)\n",
       "            )\n",
       "          )\n",
       "          (intermediate): BertIntermediate(\n",
       "            (dense): Linear(in_features=768, out_features=3072, bias=True)\n",
       "            (intermediate_act_fn): GELUActivation()\n",
       "          )\n",
       "          (output): BertOutput(\n",
       "            (dense): Linear(in_features=3072, out_features=768, bias=True)\n",
       "            (LayerNorm): LayerNorm((768,), eps=1e-12, elementwise_affine=True)\n",
       "            (dropout): Dropout(p=0.1, inplace=False)\n",
       "          )\n",
       "        )\n",
       "        (5): BertLayer(\n",
       "          (attention): BertAttention(\n",
       "            (self): BertSelfAttention(\n",
       "              (query): Linear(in_features=768, out_features=768, bias=True)\n",
       "              (key): Linear(in_features=768, out_features=768, bias=True)\n",
       "              (value): Linear(in_features=768, out_features=768, bias=True)\n",
       "              (dropout): Dropout(p=0.1, inplace=False)\n",
       "            )\n",
       "            (output): BertSelfOutput(\n",
       "              (dense): Linear(in_features=768, out_features=768, bias=True)\n",
       "              (LayerNorm): LayerNorm((768,), eps=1e-12, elementwise_affine=True)\n",
       "              (dropout): Dropout(p=0.1, inplace=False)\n",
       "            )\n",
       "          )\n",
       "          (intermediate): BertIntermediate(\n",
       "            (dense): Linear(in_features=768, out_features=3072, bias=True)\n",
       "            (intermediate_act_fn): GELUActivation()\n",
       "          )\n",
       "          (output): BertOutput(\n",
       "            (dense): Linear(in_features=3072, out_features=768, bias=True)\n",
       "            (LayerNorm): LayerNorm((768,), eps=1e-12, elementwise_affine=True)\n",
       "            (dropout): Dropout(p=0.1, inplace=False)\n",
       "          )\n",
       "        )\n",
       "        (6): BertLayer(\n",
       "          (attention): BertAttention(\n",
       "            (self): BertSelfAttention(\n",
       "              (query): Linear(in_features=768, out_features=768, bias=True)\n",
       "              (key): Linear(in_features=768, out_features=768, bias=True)\n",
       "              (value): Linear(in_features=768, out_features=768, bias=True)\n",
       "              (dropout): Dropout(p=0.1, inplace=False)\n",
       "            )\n",
       "            (output): BertSelfOutput(\n",
       "              (dense): Linear(in_features=768, out_features=768, bias=True)\n",
       "              (LayerNorm): LayerNorm((768,), eps=1e-12, elementwise_affine=True)\n",
       "              (dropout): Dropout(p=0.1, inplace=False)\n",
       "            )\n",
       "          )\n",
       "          (intermediate): BertIntermediate(\n",
       "            (dense): Linear(in_features=768, out_features=3072, bias=True)\n",
       "            (intermediate_act_fn): GELUActivation()\n",
       "          )\n",
       "          (output): BertOutput(\n",
       "            (dense): Linear(in_features=3072, out_features=768, bias=True)\n",
       "            (LayerNorm): LayerNorm((768,), eps=1e-12, elementwise_affine=True)\n",
       "            (dropout): Dropout(p=0.1, inplace=False)\n",
       "          )\n",
       "        )\n",
       "        (7): BertLayer(\n",
       "          (attention): BertAttention(\n",
       "            (self): BertSelfAttention(\n",
       "              (query): Linear(in_features=768, out_features=768, bias=True)\n",
       "              (key): Linear(in_features=768, out_features=768, bias=True)\n",
       "              (value): Linear(in_features=768, out_features=768, bias=True)\n",
       "              (dropout): Dropout(p=0.1, inplace=False)\n",
       "            )\n",
       "            (output): BertSelfOutput(\n",
       "              (dense): Linear(in_features=768, out_features=768, bias=True)\n",
       "              (LayerNorm): LayerNorm((768,), eps=1e-12, elementwise_affine=True)\n",
       "              (dropout): Dropout(p=0.1, inplace=False)\n",
       "            )\n",
       "          )\n",
       "          (intermediate): BertIntermediate(\n",
       "            (dense): Linear(in_features=768, out_features=3072, bias=True)\n",
       "            (intermediate_act_fn): GELUActivation()\n",
       "          )\n",
       "          (output): BertOutput(\n",
       "            (dense): Linear(in_features=3072, out_features=768, bias=True)\n",
       "            (LayerNorm): LayerNorm((768,), eps=1e-12, elementwise_affine=True)\n",
       "            (dropout): Dropout(p=0.1, inplace=False)\n",
       "          )\n",
       "        )\n",
       "        (8): BertLayer(\n",
       "          (attention): BertAttention(\n",
       "            (self): BertSelfAttention(\n",
       "              (query): Linear(in_features=768, out_features=768, bias=True)\n",
       "              (key): Linear(in_features=768, out_features=768, bias=True)\n",
       "              (value): Linear(in_features=768, out_features=768, bias=True)\n",
       "              (dropout): Dropout(p=0.1, inplace=False)\n",
       "            )\n",
       "            (output): BertSelfOutput(\n",
       "              (dense): Linear(in_features=768, out_features=768, bias=True)\n",
       "              (LayerNorm): LayerNorm((768,), eps=1e-12, elementwise_affine=True)\n",
       "              (dropout): Dropout(p=0.1, inplace=False)\n",
       "            )\n",
       "          )\n",
       "          (intermediate): BertIntermediate(\n",
       "            (dense): Linear(in_features=768, out_features=3072, bias=True)\n",
       "            (intermediate_act_fn): GELUActivation()\n",
       "          )\n",
       "          (output): BertOutput(\n",
       "            (dense): Linear(in_features=3072, out_features=768, bias=True)\n",
       "            (LayerNorm): LayerNorm((768,), eps=1e-12, elementwise_affine=True)\n",
       "            (dropout): Dropout(p=0.1, inplace=False)\n",
       "          )\n",
       "        )\n",
       "        (9): BertLayer(\n",
       "          (attention): BertAttention(\n",
       "            (self): BertSelfAttention(\n",
       "              (query): Linear(in_features=768, out_features=768, bias=True)\n",
       "              (key): Linear(in_features=768, out_features=768, bias=True)\n",
       "              (value): Linear(in_features=768, out_features=768, bias=True)\n",
       "              (dropout): Dropout(p=0.1, inplace=False)\n",
       "            )\n",
       "            (output): BertSelfOutput(\n",
       "              (dense): Linear(in_features=768, out_features=768, bias=True)\n",
       "              (LayerNorm): LayerNorm((768,), eps=1e-12, elementwise_affine=True)\n",
       "              (dropout): Dropout(p=0.1, inplace=False)\n",
       "            )\n",
       "          )\n",
       "          (intermediate): BertIntermediate(\n",
       "            (dense): Linear(in_features=768, out_features=3072, bias=True)\n",
       "            (intermediate_act_fn): GELUActivation()\n",
       "          )\n",
       "          (output): BertOutput(\n",
       "            (dense): Linear(in_features=3072, out_features=768, bias=True)\n",
       "            (LayerNorm): LayerNorm((768,), eps=1e-12, elementwise_affine=True)\n",
       "            (dropout): Dropout(p=0.1, inplace=False)\n",
       "          )\n",
       "        )\n",
       "        (10): BertLayer(\n",
       "          (attention): BertAttention(\n",
       "            (self): BertSelfAttention(\n",
       "              (query): Linear(in_features=768, out_features=768, bias=True)\n",
       "              (key): Linear(in_features=768, out_features=768, bias=True)\n",
       "              (value): Linear(in_features=768, out_features=768, bias=True)\n",
       "              (dropout): Dropout(p=0.1, inplace=False)\n",
       "            )\n",
       "            (output): BertSelfOutput(\n",
       "              (dense): Linear(in_features=768, out_features=768, bias=True)\n",
       "              (LayerNorm): LayerNorm((768,), eps=1e-12, elementwise_affine=True)\n",
       "              (dropout): Dropout(p=0.1, inplace=False)\n",
       "            )\n",
       "          )\n",
       "          (intermediate): BertIntermediate(\n",
       "            (dense): Linear(in_features=768, out_features=3072, bias=True)\n",
       "            (intermediate_act_fn): GELUActivation()\n",
       "          )\n",
       "          (output): BertOutput(\n",
       "            (dense): Linear(in_features=3072, out_features=768, bias=True)\n",
       "            (LayerNorm): LayerNorm((768,), eps=1e-12, elementwise_affine=True)\n",
       "            (dropout): Dropout(p=0.1, inplace=False)\n",
       "          )\n",
       "        )\n",
       "        (11): BertLayer(\n",
       "          (attention): BertAttention(\n",
       "            (self): BertSelfAttention(\n",
       "              (query): Linear(in_features=768, out_features=768, bias=True)\n",
       "              (key): Linear(in_features=768, out_features=768, bias=True)\n",
       "              (value): Linear(in_features=768, out_features=768, bias=True)\n",
       "              (dropout): Dropout(p=0.1, inplace=False)\n",
       "            )\n",
       "            (output): BertSelfOutput(\n",
       "              (dense): Linear(in_features=768, out_features=768, bias=True)\n",
       "              (LayerNorm): LayerNorm((768,), eps=1e-12, elementwise_affine=True)\n",
       "              (dropout): Dropout(p=0.1, inplace=False)\n",
       "            )\n",
       "          )\n",
       "          (intermediate): BertIntermediate(\n",
       "            (dense): Linear(in_features=768, out_features=3072, bias=True)\n",
       "            (intermediate_act_fn): GELUActivation()\n",
       "          )\n",
       "          (output): BertOutput(\n",
       "            (dense): Linear(in_features=3072, out_features=768, bias=True)\n",
       "            (LayerNorm): LayerNorm((768,), eps=1e-12, elementwise_affine=True)\n",
       "            (dropout): Dropout(p=0.1, inplace=False)\n",
       "          )\n",
       "        )\n",
       "      )\n",
       "    )\n",
       "    (pooler): BertPooler(\n",
       "      (dense): Linear(in_features=768, out_features=768, bias=True)\n",
       "      (activation): Tanh()\n",
       "    )\n",
       "  )\n",
       "  (dropout): Dropout(p=0.3, inplace=False)\n",
       "  (linear): Linear(in_features=768, out_features=2, bias=True)\n",
       ")"
      ]
     },
     "execution_count": 42,
     "metadata": {},
     "output_type": "execute_result"
    }
   ],
   "source": [
    "# loading pretrained BERT model\n",
    "class BERTClass(torch.nn.Module):\n",
    "    def __init__(self):\n",
    "        super(BERTClass, self).__init__()\n",
    "        self.bert_model = AutoModel.from_pretrained(\"asafaya/bert-base-arabic\", return_dict=True)\n",
    "        self.dropout = torch.nn.Dropout(0.3)\n",
    "        self.linear = torch.nn.Linear(768, 2)\n",
    "    \n",
    "    def forward(self, input_ids, attn_mask, token_type_ids):\n",
    "        output = self.bert_model(\n",
    "            input_ids, \n",
    "            attention_mask=attn_mask, \n",
    "            token_type_ids=token_type_ids\n",
    "        )\n",
    "        output_dropout = self.dropout(output.pooler_output)\n",
    "        output = self.linear(output_dropout)\n",
    "        return output\n",
    "\n",
    "model = BERTClass()\n",
    "model.to(device)"
   ]
  },
  {
   "cell_type": "code",
   "execution_count": 43,
   "id": "a038d667",
   "metadata": {},
   "outputs": [],
   "source": [
    "# setting custom optimization parameters. You may implement a scheduler here as well.\n",
    "param_optimizer = list(model.named_parameters())\n",
    "no_decay = ['bias', 'gamma', 'beta']\n",
    "optimizer_grouped_parameters = [\n",
    "    {'params': [p for n, p in param_optimizer if not any(nd in n for nd in no_decay)],\n",
    "     'weight_decay_rate': 0.01},\n",
    "    {'params': [p for n, p in param_optimizer if any(nd in n for nd in no_decay)],\n",
    "     'weight_decay_rate': 0.0}\n",
    "]"
   ]
  },
  {
   "cell_type": "code",
   "execution_count": 44,
   "id": "aa04298a",
   "metadata": {},
   "outputs": [],
   "source": [
    "# initialising optimizer\n",
    "from torch.optim import AdamW\n",
    "optimizer = AdamW(optimizer_grouped_parameters,lr=2e-5)"
   ]
  },
  {
   "cell_type": "code",
   "execution_count": 45,
   "id": "edef9513",
   "metadata": {},
   "outputs": [],
   "source": [
    "class EarlyStopping:\n",
    "    \"\"\"Early stops the training if validation loss doesn't improve after a given patience.\"\"\"\n",
    "    def __init__(self, patience=3, verbose=False, delta=0, path='checkpoint.pt', trace_func=print):\n",
    "        \"\"\"\n",
    "        Args:\n",
    "            patience (int): How long to wait after last time validation loss improved.\n",
    "                            Default: 7\n",
    "            verbose (bool): If True, prints a message for each validation loss improvement. \n",
    "                            Default: False\n",
    "            delta (float): Minimum change in the monitored quantity to qualify as an improvement.\n",
    "                            Default: 0\n",
    "            path (str): Path for the checkpoint to be saved to.\n",
    "                            Default: 'checkpoint.pt'\n",
    "            trace_func (function): trace print function.\n",
    "                            Default: print            \n",
    "        \"\"\"\n",
    "        self.patience = patience\n",
    "        self.verbose = verbose\n",
    "        self.counter = 0\n",
    "        self.best_score = None\n",
    "        self.early_stop = False\n",
    "        self.val_loss_min = np.Inf\n",
    "        self.delta = delta\n",
    "        self.path = path\n",
    "        self.trace_func = trace_func\n",
    "    def __call__(self, val_loss, model):\n",
    "\n",
    "        score = -val_loss\n",
    "\n",
    "        if self.best_score is None:\n",
    "            self.best_score = score\n",
    "            self.save_checkpoint(val_loss, model)\n",
    "        elif score < self.best_score + self.delta:\n",
    "            self.counter += 1\n",
    "            self.trace_func(f'EarlyStopping counter: {self.counter} out of {self.patience}')\n",
    "            if self.counter >= self.patience:\n",
    "                self.early_stop = True\n",
    "        else:\n",
    "            self.best_score = score\n",
    "            self.save_checkpoint(val_loss, model)\n",
    "            self.counter = 0\n",
    "\n",
    "    def save_checkpoint(self, val_loss, model):\n",
    "        '''Saves model when validation loss decrease.'''\n",
    "        if self.verbose:\n",
    "            self.trace_func(f'Validation loss decreased ({self.val_loss_min:.6f} --> {val_loss:.6f}).  Saving model ...')\n",
    "        torch.save(model.state_dict(), self.path)\n",
    "        self.val_loss_min = val_loss"
   ]
  },
  {
   "cell_type": "code",
   "execution_count": 46,
   "id": "85445fbd",
   "metadata": {},
   "outputs": [],
   "source": [
    "# initialize the early_stopping object\n",
    "early_stopping = EarlyStopping(patience=5, path=model_path, verbose=True)"
   ]
  },
  {
   "cell_type": "markdown",
   "id": "b2e0e18e",
   "metadata": {},
   "source": [
    "# Training and Validation"
   ]
  },
  {
   "cell_type": "code",
   "execution_count": 80,
   "id": "1dd4971f",
   "metadata": {},
   "outputs": [
    {
     "name": "stderr",
     "output_type": "stream",
     "text": [
      "\r",
      "Epoch:   0%|                                                                                    | 0/50 [00:00<?, ?it/s]"
     ]
    },
    {
     "name": "stdout",
     "output_type": "stream",
     "text": [
      "Train loss: 0.009801963859604966\n",
      "Validation loss: 0.296794252874941\n",
      "F1 Validation Accuracy:  95.1826045170591\n",
      "Flat Validation Accuracy:  95.1826045170591\n",
      "Validation loss decreased (inf --> 0.296794).  Saving model ...\n"
     ]
    },
    {
     "name": "stderr",
     "output_type": "stream",
     "text": [
      "\r",
      "Epoch:   2%|█▍                                                                      | 1/50 [16:16<13:17:39, 976.72s/it]"
     ]
    },
    {
     "name": "stdout",
     "output_type": "stream",
     "text": [
      "Train loss: 0.010049022582502967\n",
      "Validation loss: 0.29104472082852023\n",
      "F1 Validation Accuracy:  95.03844305622296\n",
      "Flat Validation Accuracy:  95.03844305622296\n",
      "Validation loss decreased (0.296794 --> 0.291045).  Saving model ...\n"
     ]
    },
    {
     "name": "stderr",
     "output_type": "stream",
     "text": [
      "\r",
      "Epoch:   4%|██▉                                                                     | 2/50 [32:33<13:01:24, 976.76s/it]"
     ]
    },
    {
     "name": "stdout",
     "output_type": "stream",
     "text": [
      "Train loss: 0.00840148954262164\n",
      "Validation loss: 0.3193050138929424\n"
     ]
    },
    {
     "name": "stderr",
     "output_type": "stream",
     "text": [
      "\r",
      "Epoch:   6%|████▎                                                                   | 3/50 [48:49<12:44:49, 976.36s/it]"
     ]
    },
    {
     "name": "stdout",
     "output_type": "stream",
     "text": [
      "F1 Validation Accuracy:  94.72609322441133\n",
      "Flat Validation Accuracy:  94.72609322441134\n",
      "EarlyStopping counter: 1 out of 5\n",
      "Train loss: 0.008458583957855785\n",
      "Validation loss: 0.3377506749450128\n"
     ]
    },
    {
     "name": "stderr",
     "output_type": "stream",
     "text": [
      "\r",
      "Epoch:   8%|█████▌                                                                | 4/50 [1:05:02<12:27:37, 975.15s/it]"
     ]
    },
    {
     "name": "stdout",
     "output_type": "stream",
     "text": [
      "F1 Validation Accuracy:  94.79817395482941\n",
      "Flat Validation Accuracy:  94.79817395482941\n",
      "EarlyStopping counter: 2 out of 5\n",
      "Train loss: 0.007848009761237111\n",
      "Validation loss: 0.304607739090713\n"
     ]
    },
    {
     "name": "stderr",
     "output_type": "stream",
     "text": [
      "\r",
      "Epoch:  10%|███████                                                               | 5/50 [1:21:15<12:10:47, 974.39s/it]"
     ]
    },
    {
     "name": "stdout",
     "output_type": "stream",
     "text": [
      "F1 Validation Accuracy:  94.72609322441133\n",
      "Flat Validation Accuracy:  94.72609322441134\n",
      "EarlyStopping counter: 3 out of 5\n",
      "Train loss: 0.006698804640146598\n",
      "Validation loss: 0.32149268941507964\n"
     ]
    },
    {
     "name": "stderr",
     "output_type": "stream",
     "text": [
      "\r",
      "Epoch:  12%|████████▍                                                             | 6/50 [1:37:28<11:54:06, 973.79s/it]"
     ]
    },
    {
     "name": "stdout",
     "output_type": "stream",
     "text": [
      "F1 Validation Accuracy:  94.99038923594426\n",
      "Flat Validation Accuracy:  94.99038923594426\n",
      "EarlyStopping counter: 4 out of 5\n",
      "Train loss: 0.007795440891264341\n",
      "Validation loss: 0.33370966846430544\n"
     ]
    },
    {
     "name": "stderr",
     "output_type": "stream",
     "text": [
      "\r",
      "Epoch:  12%|████████▎                                                            | 6/50 [1:53:43<13:53:57, 1137.22s/it]"
     ]
    },
    {
     "name": "stdout",
     "output_type": "stream",
     "text": [
      "F1 Validation Accuracy:  94.93032196059586\n",
      "Flat Validation Accuracy:  94.93032196059586\n",
      "EarlyStopping counter: 5 out of 5\n",
      "Early stopping\n"
     ]
    },
    {
     "name": "stderr",
     "output_type": "stream",
     "text": [
      "\n"
     ]
    }
   ],
   "source": [
    "val_acc_list = []\n",
    "# Store our loss and accuracy for plotting\n",
    "train_loss_set = []\n",
    "valid_loss_set = []\n",
    "\n",
    "# Number of training epochs (authors recommend between 2 and 4)\n",
    "epochs =50\n",
    "\n",
    "# trange is a tqdm wrapper around the normal python range\n",
    "for _ in trange(epochs, desc=\"Epoch\"):\n",
    "    # set model to training mode \n",
    "    model.train()\n",
    "    \n",
    "    # Tracking variables of traning\n",
    "    tr_loss = 0 #running loss\n",
    "    nb_tr_examples, nb_tr_steps = 0, 0\n",
    "    \n",
    "     # Tracking variables of validation\n",
    "    vl_loss = 0 #running loss\n",
    "    nb_vl_examples, nb_vl_steps = 0, 0\n",
    "\n",
    "    # train the data for one epoch\n",
    "    for step, batch in enumerate(train_dataloader):\n",
    "        batch = tuple(t.to(device) for t in batch)\n",
    "        # unpack the inputs from dataloader\n",
    "        b_input_ids, b_input_mask, b_labels, b_token_types = batch\n",
    "        # clearing the gradients\n",
    "        optimizer.zero_grad()\n",
    "\n",
    "        # forward pass\n",
    "        outputs = model(b_input_ids, b_input_mask ,b_token_types)\n",
    "        logits = outputs\n",
    "        loss_func = CrossEntropyLoss()\n",
    "        # converting logits and labels to appropriate shape \n",
    "        loss = loss_func(logits,b_labels) \n",
    "        train_loss_set.append(loss.item())    \n",
    "\n",
    "\n",
    "        # backward pass\n",
    "        loss.backward()\n",
    "        # update parameters and take a step using the computed gradient\n",
    "        optimizer.step()\n",
    "        \n",
    "        # Update tracking variables\n",
    "        tr_loss += loss.item()\n",
    "        nb_tr_examples += b_input_ids.size(0)\n",
    "        nb_tr_steps += 1\n",
    "\n",
    "    print(\"Train loss: {}\".format(tr_loss/nb_tr_steps))\n",
    "\n",
    "    #################################################################\n",
    "    #validation \n",
    "    \n",
    "    # set model to evaluation mode\n",
    "    model.eval()\n",
    "    \n",
    "    # variables to gather outputs\n",
    "    logit_preds,true_labels,pred_labels,tokenized_texts  = [],[],[],[]\n",
    "\n",
    "\n",
    "    # predict\n",
    "    for i, batch in enumerate(validation_dataloader):\n",
    "        batch = tuple(t.to(device) for t in batch) \n",
    "        # Unpack the inputs from our dataloader\n",
    "        b_input_ids, b_input_mask, b_labels, b_token_types = batch\n",
    "        with torch.no_grad():\n",
    "            # forward pass\n",
    "            outs = model(b_input_ids, b_input_mask ,b_token_types)\n",
    "            # Calculate Validation Loss\n",
    "            logits_val = outs\n",
    "            \n",
    "            loss_func_val = CrossEntropyLoss() \n",
    "            loss_val = loss_func_val(logits_val,b_labels) \n",
    "            valid_loss_set.append(loss_val.item())\n",
    "            \n",
    "            vl_loss += loss_val.item()\n",
    "            nb_vl_examples += b_input_ids.size(0)\n",
    "            nb_vl_steps += 1\n",
    "\n",
    "            b_logit_pred = outs\n",
    "            pred_label = torch.argmax(b_logit_pred, dim=1)\n",
    "\n",
    "            # converting tensors to numpy arrays\n",
    "            b_logit_pred = b_logit_pred.detach().cpu()\n",
    "            pred_label = pred_label.to('cpu')\n",
    "            b_labels = b_labels.to('cpu')\n",
    "            \n",
    "        tokenized_texts.append(b_input_ids)\n",
    "        logit_preds.append(b_logit_pred)\n",
    "        true_labels.append(b_labels)\n",
    "        pred_labels.append(pred_label)\n",
    "        \n",
    "    print(\"Validation loss: {}\".format(vl_loss/nb_vl_steps))\n",
    "    \n",
    "    # flatten outputs\n",
    "    pred_labels = [item for sublist in pred_labels for item in sublist]\n",
    "    true_labels = [item for sublist in true_labels for item in sublist]\n",
    "    \n",
    "#     Calculate Accuracy\n",
    "#     threshold = 0.50\n",
    "#     pred_bools = [pl>threshold for pl in pred_labels]\n",
    "    val_f1_accuracy = f1_score(true_labels,pred_labels,average='micro')*100\n",
    "    val_flat_accuracy = accuracy_score(true_labels, pred_labels)*100   \n",
    "        \n",
    "\n",
    "    print('F1 Validation Accuracy: ', val_f1_accuracy)\n",
    "    print('Flat Validation Accuracy: ', val_flat_accuracy)\n",
    "    \n",
    "    # early_stopping needs the validation loss to check if it has decresed, \n",
    "    # and if it has, it will make a checkpoint of the current model\n",
    "    early_stopping(vl_loss/nb_vl_steps, model)\n",
    "\n",
    "    if early_stopping.early_stop:\n",
    "        print(\"Early stopping\")\n",
    "        break"
   ]
  },
  {
   "cell_type": "code",
   "execution_count": 84,
   "id": "358d0a67",
   "metadata": {},
   "outputs": [
    {
     "data": {
      "image/png": "[encoded data removed]",
      "text/plain": [
       "<Figure size 1500x800 with 1 Axes>"
      ]
     },
     "metadata": {},
     "output_type": "display_data"
    }
   ],
   "source": [
    "plt.figure(figsize=(15,8))\n",
    "plt.title(\"Training loss\")\n",
    "plt.xlabel(\"Batch\")\n",
    "plt.ylabel(\"Loss\")\n",
    "plt.plot(train_loss_set)\n",
    "plt.show()"
   ]
  },
  {
   "cell_type": "code",
   "execution_count": 86,
   "id": "e632b385",
   "metadata": {},
   "outputs": [
    {
     "data": {
      "image/png": "[encoded data removed]",
      "text/plain": [
       "<Figure size 1500x800 with 1 Axes>"
      ]
     },
     "metadata": {},
     "output_type": "display_data"
    },
    {
     "data": {
      "image/png": "[encoded data removed]",
      "text/plain": [
       "<Figure size 1500x800 with 1 Axes>"
      ]
     },
     "metadata": {},
     "output_type": "display_data"
    }
   ],
   "source": [
    "plt.figure(figsize=(15,8))\n",
    "plt.title(\"valıdatıon loss\")\n",
    "plt.xlabel(\"Batch\")\n",
    "plt.ylabel(\"Loss\")\n",
    "plt.plot(valid_loss_set)\n",
    "plt.show()"
   ]
  },
  {
   "cell_type": "markdown",
   "id": "e2a2a4ec",
   "metadata": {},
   "source": [
    "# Save The Model "
   ]
  },
  {
   "cell_type": "code",
   "execution_count": 87,
   "id": "08407793",
   "metadata": {},
   "outputs": [],
   "source": [
    "# Saving the model for future runs\n",
    "import pickle\n",
    "with open('model_pickle','wb') as file:\n",
    "    pickle.dump(model,file)"
   ]
  },
  {
   "cell_type": "code",
   "execution_count": 88,
   "id": "71fc8471",
   "metadata": {},
   "outputs": [
    {
     "data": {
      "text/plain": [
       "<All keys matched successfully>"
      ]
     },
     "execution_count": 88,
     "metadata": {},
     "output_type": "execute_result"
    }
   ],
   "source": [
    "# load the last checkpoint with the best model\n",
    "model.load_state_dict(torch.load(model_path))"
   ]
  },
  {
   "cell_type": "code",
   "execution_count": 89,
   "id": "064fe39a",
   "metadata": {},
   "outputs": [
    {
     "name": "stderr",
     "output_type": "stream",
     "text": [
      "C:\\Users\\cccc\\anaconda3\\envs\\demo\\lib\\site-packages\\transformers\\tokenization_utils_base.py:2302: FutureWarning: The `pad_to_max_length` argument is deprecated and will be removed in a future version, use `padding=True` or `padding='longest'` to pad to the longest sequence in the batch, or use `padding='max_length'` to pad to a max length. In this case, you can give a specific length with `max_length` (e.g. `max_length=45`) or leave max_length to None to pad to the maximal input size of the model (e.g. 512 for Bert).\n",
      "  warnings.warn(\n"
     ]
    }
   ],
   "source": [
    "# Encoding input data\n",
    "test_encodings = tokenizer.batch_encode_plus(test_reviews,max_length=max_length,pad_to_max_length=True)\n",
    "test_input_ids = test_encodings['input_ids']\n",
    "test_token_type_ids = test_encodings['token_type_ids']\n",
    "test_attention_masks = test_encodings['attention_mask']"
   ]
  },
  {
   "cell_type": "code",
   "execution_count": 90,
   "id": "3b94dc9a",
   "metadata": {},
   "outputs": [],
   "source": [
    "# Make tensors out of data\n",
    "test_inputs = torch.tensor(test_input_ids)\n",
    "test_labels = torch.tensor(test_labels)\n",
    "test_masks = torch.tensor(test_attention_masks)\n",
    "test_token_types = torch.tensor(test_token_type_ids)\n",
    "# Create test dataloader\n",
    "test_data = TensorDataset(test_inputs, test_masks, test_labels, test_token_types)\n",
    "test_sampler = SequentialSampler(test_data)\n",
    "test_dataloader = DataLoader(test_data, sampler=test_sampler, batch_size=batch_size)"
   ]
  },
  {
   "cell_type": "code",
   "execution_count": 125,
   "id": "3f33eb8d",
   "metadata": {},
   "outputs": [
    {
     "name": "stderr",
     "output_type": "stream",
     "text": [
      "C:\\Users\\cccc\\AppData\\Local\\Temp\\ipykernel_13568\\3278113523.py:22: UserWarning: Implicit dimension choice for softmax has been deprecated. Change the call to include dim=X as an argument.\n",
      "  b_logit_pred = F.softmax(b_logit_pred)\n"
     ]
    }
   ],
   "source": [
    "# testing \n",
    "\n",
    "# put model in evaluation mode \n",
    "model.eval()\n",
    "\n",
    "#track variables\n",
    "logit_preds,true_labels,pred_labels,tokenized_texts  = [],[],[],[]\n",
    "\n",
    "# predict\n",
    "# reading input from each batch\n",
    "for i, batch in enumerate(test_dataloader):\n",
    "    batch = tuple(t.to(device) for t in batch)\n",
    "    # unpack the inputs from test dataloader\n",
    "    b_input_ids, b_input_mask, b_labels, b_token_types = batch\n",
    "    with torch.no_grad():\n",
    "        # forward pass\n",
    "        outs = model(b_input_ids, b_input_mask ,b_token_types)\n",
    "        b_logit_pred = outs\n",
    "#         pred_label = torch.sigmoid(b_logit_pred)\n",
    "#         # Apply softmax to calculate probabilities\n",
    "        pred_label = torch.argmax(b_logit_pred, dim=1)\n",
    "        b_logit_pred = F.softmax(b_logit_pred)\n",
    "\n",
    "        # converting into numpy arrays \n",
    "        b_logit_pred = b_logit_pred.detach().cpu()\n",
    "        pred_label = pred_label.to('cpu')\n",
    "        b_labels = b_labels.to('cpu')\n",
    "        \n",
    "    # appending output variables \n",
    "    tokenized_texts.append(b_input_ids)\n",
    "    logit_preds.append(b_logit_pred)\n",
    "    pred_labels.append(pred_label)  \n",
    "    true_labels.append(b_labels) \n",
    "    \n",
    "# flatten output variables\n",
    "tokenized_texts = [item for sublist in tokenized_texts for item in sublist]\n",
    "pred_labels = [item for sublist in pred_labels for item in sublist]\n",
    "true_labels = [item for sublist in true_labels for item in sublist]\n",
    " \n",
    "# Converting flattened binary values to boolean values\n",
    "true_bools = [tl==1 for tl in true_labels]"
   ]
  },
  {
   "cell_type": "code",
   "execution_count": 126,
   "id": "c1744f54",
   "metadata": {},
   "outputs": [
    {
     "name": "stdout",
     "output_type": "stream",
     "text": [
      "Test F1 Accuracy:  0.9498774568696238\n",
      "Test Flat Accuracy:  0.9498774568696238 \n",
      "\n",
      "              precision    recall  f1-score   support\n",
      "\n",
      "    posıtıve       0.96      0.94      0.95     10376\n",
      "    negatıve       0.94      0.96      0.95     10433\n",
      "\n",
      "    accuracy                           0.95     20809\n",
      "   macro avg       0.95      0.95      0.95     20809\n",
      "weighted avg       0.95      0.95      0.95     20809\n",
      "\n"
     ]
    }
   ],
   "source": [
    "# pred_bools = [pl>0.50 for pl in pred_labels] #boolean output after thresholding\n",
    "\n",
    "# Print and save classification report\n",
    "print('Test F1 Accuracy: ', f1_score(true_labels, pred_labels,average='micro'))\n",
    "print('Test Flat Accuracy: ', accuracy_score(true_labels, pred_labels),'\\n')\n",
    "clf_report = classification_report(true_labels,pred_labels,target_names=['posıtıve', 'negatıve'])\n",
    "pickle.dump(clf_report, open('HARD_Arabic_classification_report.txt','wb'))\n",
    "print(clf_report)"
   ]
  },
  {
   "cell_type": "code",
   "execution_count": 127,
   "id": "9e65ad85",
   "metadata": {},
   "outputs": [
    {
     "name": "stdout",
     "output_type": "stream",
     "text": [
      "Best Threshold:  0.1\n",
      "Test F1 Accuracy:  0.9498774568696238\n",
      "Test Flat Accuracy:  0.9498774568696238 \n",
      "\n",
      "              precision    recall  f1-score   support\n",
      "\n",
      "    posıtıve       0.96      0.94      0.95     10376\n",
      "    negatıve       0.94      0.96      0.95     10433\n",
      "\n",
      "    accuracy                           0.95     20809\n",
      "   macro avg       0.95      0.95      0.95     20809\n",
      "weighted avg       0.95      0.95      0.95     20809\n",
      "\n"
     ]
    }
   ],
   "source": [
    "# Calculate Accuracy - maximize F1 accuracy by tuning threshold values. First with 'macro_thresholds' on the order of e^-1 then with 'micro_thresholds' on the order of e^-2\n",
    "\n",
    "macro_thresholds = np.array(range(1,10))/10\n",
    "\n",
    "f1_results, flat_acc_results = [], []\n",
    "for th in macro_thresholds:\n",
    "    pred_bools = [pl>th for pl in pred_labels]\n",
    "    test_f1_accuracy = f1_score(true_bools,pred_bools,average='micro')\n",
    "    test_flat_accuracy = accuracy_score(true_bools, pred_bools)\n",
    "    f1_results.append(test_f1_accuracy)\n",
    "    flat_acc_results.append(test_flat_accuracy)\n",
    "\n",
    "best_macro_th = macro_thresholds[np.argmax(f1_results)] #best macro threshold value\n",
    "\n",
    "micro_thresholds = (np.array(range(10))/100)+best_macro_th #calculating micro threshold values\n",
    "\n",
    "f1_results, flat_acc_results = [], []\n",
    "for th in micro_thresholds:\n",
    "    pred_bools = [pl>th for pl in pred_labels]\n",
    "    test_f1_accuracy = f1_score(true_bools,pred_bools,average='micro')\n",
    "    test_flat_accuracy = accuracy_score(true_bools, pred_bools)\n",
    "    f1_results.append(test_f1_accuracy)\n",
    "    flat_acc_results.append(test_flat_accuracy)\n",
    "\n",
    "best_f1_idx = np.argmax(f1_results) #best threshold value\n",
    "\n",
    "# Printing and saving classification report\n",
    "print('Best Threshold: ', micro_thresholds[best_f1_idx])\n",
    "print('Test F1 Accuracy: ', f1_results[best_f1_idx])\n",
    "print('Test Flat Accuracy: ', flat_acc_results[best_f1_idx], '\\n')\n",
    "\n",
    "best_pred_bools = [pl>micro_thresholds[best_f1_idx] for pl in pred_labels]\n",
    "clf_report_optimized = classification_report(true_bools,best_pred_bools, target_names=['posıtıve', 'negatıve'])\n",
    "pickle.dump(clf_report_optimized, open('HARD_Arabic_classification_report_optimized.txt','wb'))\n",
    "print(clf_report_optimized)"
   ]
  },
  {
   "cell_type": "code",
   "execution_count": 122,
   "id": "56a84c1c",
   "metadata": {},
   "outputs": [],
   "source": [
    "import seaborn as sns\n",
    "def show_confusion_matrix(confusion_matrix):\n",
    "    hmap = sns.heatmap(confusion_matrix, annot=True, fmt=\"d\", cmap=\"Blues\")\n",
    "    hmap.yaxis.set_ticklabels(hmap.yaxis.get_ticklabels(), rotation=0, ha='right')\n",
    "    hmap.xaxis.set_ticklabels(hmap.xaxis.get_ticklabels(), rotation=30, ha='right')\n",
    "    plt.ylabel('True sentiment')\n",
    "    plt.xlabel('Predicted sentiment');\n",
    "\n",
    "cm = confusion_matrix(true_labels, pred_labels)\n",
    "show_confusion_matrix(df_cm)\n"
   ]
  },
  {
   "cell_type": "markdown",
   "id": "a73558e8",
   "metadata": {},
   "source": [
    "# Arabic_Reviews_Prediction"
   ]
  },
  {
   "cell_type": "markdown",
   "id": "f9fa08aa",
   "metadata": {},
   "source": [
    "# Load and Preprocess Training Data"
   ]
  },
  {
   "cell_type": "code",
   "execution_count": 129,
   "id": "46c1d811",
   "metadata": {},
   "outputs": [],
   "source": [
    "file1 = 'AR_HOTE_SB1_TEST.xml.csv'\n",
    "file2 = 'AR_HOTE_SB2_TEST.xml.csv'\n",
    "file3 = 'AR_Hotels_Train_SB1.xml.csv'\n",
    "file4 = 'AR_Hotels_Train_SB2.xml.csv'"
   ]
  },
  {
   "cell_type": "code",
   "execution_count": 130,
   "id": "ea0a97c2",
   "metadata": {},
   "outputs": [
    {
     "name": "stdout",
     "output_type": "stream",
     "text": [
      "Merging multiple CSV files...\n"
     ]
    }
   ],
   "source": [
    "print(\"Merging multiple CSV files...\")\n",
    "\n",
    "# merge\n",
    "ara_test = pd.concat(\n",
    "   map(pd.read_csv, [file1, file2, file3, file4]), ignore_index=True)"
   ]
  },
  {
   "cell_type": "code",
   "execution_count": 131,
   "id": "45579c4e",
   "metadata": {},
   "outputs": [
    {
     "data": {
      "text/html": [
       "<div>\n",
       "<style scoped>\n",
       "    .dataframe tbody tr th:only-of-type {\n",
       "        vertical-align: middle;\n",
       "    }\n",
       "\n",
       "    .dataframe tbody tr th {\n",
       "        vertical-align: top;\n",
       "    }\n",
       "\n",
       "    .dataframe thead th {\n",
       "        text-align: right;\n",
       "    }\n",
       "</style>\n",
       "<table border=\"1\" class=\"dataframe\">\n",
       "  <thead>\n",
       "    <tr style=\"text-align: right;\">\n",
       "      <th></th>\n",
       "      <th>Unnamed: 0</th>\n",
       "      <th>rid</th>\n",
       "      <th>polarity</th>\n",
       "      <th>category</th>\n",
       "      <th>sentence</th>\n",
       "    </tr>\n",
       "  </thead>\n",
       "  <tbody>\n",
       "    <tr>\n",
       "      <th>0</th>\n",
       "      <td>0</td>\n",
       "      <td>NaN</td>\n",
       "      <td>NaN</td>\n",
       "      <td>NaN</td>\n",
       "      <td>NaN</td>\n",
       "    </tr>\n",
       "    <tr>\n",
       "      <th>1</th>\n",
       "      <td>1</td>\n",
       "      <td>287.0</td>\n",
       "      <td>negative</td>\n",
       "      <td>ROOMS_AMENITIES#GENERAL</td>\n",
       "      <td>['كانت رحلتي لهذا المرفق موفقه ، لكن كانت بعض ...</td>\n",
       "    </tr>\n",
       "    <tr>\n",
       "      <th>2</th>\n",
       "      <td>2</td>\n",
       "      <td>287.0</td>\n",
       "      <td>positive</td>\n",
       "      <td>FACILITIES#GENERAL</td>\n",
       "      <td>['كانت رحلتي لهذا المرفق موفقه ، لكن كانت بعض ...</td>\n",
       "    </tr>\n",
       "    <tr>\n",
       "      <th>3</th>\n",
       "      <td>3</td>\n",
       "      <td>1039.0</td>\n",
       "      <td>negative</td>\n",
       "      <td>ROOMS_AMENITIES#GENERAL</td>\n",
       "      <td>['رضى النزيل الاجهزة الكهربائية غير سليمة الشا...</td>\n",
       "    </tr>\n",
       "    <tr>\n",
       "      <th>4</th>\n",
       "      <td>4</td>\n",
       "      <td>1039.0</td>\n",
       "      <td>negative</td>\n",
       "      <td>ROOMS_AMENITIES#GENERAL</td>\n",
       "      <td>['رضى النزيل الاجهزة الكهربائية غير سليمة الشا...</td>\n",
       "    </tr>\n",
       "  </tbody>\n",
       "</table>\n",
       "</div>"
      ],
      "text/plain": [
       "   Unnamed: 0     rid  polarity                 category  \\\n",
       "0           0     NaN       NaN                      NaN   \n",
       "1           1   287.0  negative  ROOMS_AMENITIES#GENERAL   \n",
       "2           2   287.0  positive       FACILITIES#GENERAL   \n",
       "3           3  1039.0  negative  ROOMS_AMENITIES#GENERAL   \n",
       "4           4  1039.0  negative  ROOMS_AMENITIES#GENERAL   \n",
       "\n",
       "                                            sentence  \n",
       "0                                                NaN  \n",
       "1  ['كانت رحلتي لهذا المرفق موفقه ، لكن كانت بعض ...  \n",
       "2  ['كانت رحلتي لهذا المرفق موفقه ، لكن كانت بعض ...  \n",
       "3  ['رضى النزيل الاجهزة الكهربائية غير سليمة الشا...  \n",
       "4  ['رضى النزيل الاجهزة الكهربائية غير سليمة الشا...  "
      ]
     },
     "execution_count": 131,
     "metadata": {},
     "output_type": "execute_result"
    }
   ],
   "source": [
    "ara_test.head()"
   ]
  },
  {
   "cell_type": "code",
   "execution_count": 132,
   "id": "fc1b3e05",
   "metadata": {},
   "outputs": [
    {
     "data": {
      "text/plain": [
       "positive    14002\n",
       "negative     8407\n",
       "neutral      1495\n",
       "conflict      124\n",
       "Name: polarity, dtype: int64"
      ]
     },
     "execution_count": 132,
     "metadata": {},
     "output_type": "execute_result"
    }
   ],
   "source": [
    "ara_test['polarity'].value_counts()"
   ]
  },
  {
   "cell_type": "code",
   "execution_count": 133,
   "id": "a68ae326",
   "metadata": {},
   "outputs": [],
   "source": [
    "# exclude the neutral and cnoflıct from the dataset because of our model traıned on just two polarıtıes posıtıve and negatıve\n",
    "ara_test.drop(ara_test[(ara_test['polarity'] =='conflict') | (ara_test['polarity'] =='neutral')].index, inplace=True)"
   ]
  },
  {
   "cell_type": "code",
   "execution_count": 134,
   "id": "2d04b944",
   "metadata": {},
   "outputs": [
    {
     "data": {
      "text/plain": [
       "positive    14002\n",
       "negative     8407\n",
       "Name: polarity, dtype: int64"
      ]
     },
     "execution_count": 134,
     "metadata": {},
     "output_type": "execute_result"
    }
   ],
   "source": [
    "ara_test['polarity'].value_counts()"
   ]
  },
  {
   "cell_type": "code",
   "execution_count": 135,
   "id": "d6210afc",
   "metadata": {},
   "outputs": [
    {
     "name": "stderr",
     "output_type": "stream",
     "text": [
      "C:\\Users\\cccc\\AppData\\Local\\Temp\\ipykernel_13568\\612961551.py:3: SettingWithCopyWarning: \n",
      "A value is trying to be set on a copy of a slice from a DataFrame.\n",
      "Try using .loc[row_indexer,col_indexer] = value instead\n",
      "\n",
      "See the caveats in the documentation: https://pandas.pydata.org/pandas-docs/stable/user_guide/indexing.html#returning-a-view-versus-a-copy\n",
      "  df_test['polarity'] = ara_test['polarity'].apply(lambda x: 0 if x == 'negative' else 1)\n"
     ]
    },
    {
     "data": {
      "text/html": [
       "<div>\n",
       "<style scoped>\n",
       "    .dataframe tbody tr th:only-of-type {\n",
       "        vertical-align: middle;\n",
       "    }\n",
       "\n",
       "    .dataframe tbody tr th {\n",
       "        vertical-align: top;\n",
       "    }\n",
       "\n",
       "    .dataframe thead th {\n",
       "        text-align: right;\n",
       "    }\n",
       "</style>\n",
       "<table border=\"1\" class=\"dataframe\">\n",
       "  <thead>\n",
       "    <tr style=\"text-align: right;\">\n",
       "      <th></th>\n",
       "      <th>label</th>\n",
       "      <th>review</th>\n",
       "    </tr>\n",
       "  </thead>\n",
       "  <tbody>\n",
       "    <tr>\n",
       "      <th>0</th>\n",
       "      <td>1</td>\n",
       "      <td>NaN</td>\n",
       "    </tr>\n",
       "    <tr>\n",
       "      <th>1</th>\n",
       "      <td>0</td>\n",
       "      <td>['كانت رحلتي لهذا المرفق موفقه ، لكن كانت بعض ...</td>\n",
       "    </tr>\n",
       "    <tr>\n",
       "      <th>2</th>\n",
       "      <td>1</td>\n",
       "      <td>['كانت رحلتي لهذا المرفق موفقه ، لكن كانت بعض ...</td>\n",
       "    </tr>\n",
       "    <tr>\n",
       "      <th>3</th>\n",
       "      <td>0</td>\n",
       "      <td>['رضى النزيل الاجهزة الكهربائية غير سليمة الشا...</td>\n",
       "    </tr>\n",
       "    <tr>\n",
       "      <th>4</th>\n",
       "      <td>0</td>\n",
       "      <td>['رضى النزيل الاجهزة الكهربائية غير سليمة الشا...</td>\n",
       "    </tr>\n",
       "  </tbody>\n",
       "</table>\n",
       "</div>"
      ],
      "text/plain": [
       "   label                                             review\n",
       "0      1                                                NaN\n",
       "1      0  ['كانت رحلتي لهذا المرفق موفقه ، لكن كانت بعض ...\n",
       "2      1  ['كانت رحلتي لهذا المرفق موفقه ، لكن كانت بعض ...\n",
       "3      0  ['رضى النزيل الاجهزة الكهربائية غير سليمة الشا...\n",
       "4      0  ['رضى النزيل الاجهزة الكهربائية غير سليمة الشا..."
      ]
     },
     "execution_count": 135,
     "metadata": {},
     "output_type": "execute_result"
    }
   ],
   "source": [
    "df_test = ara_test[['polarity', 'sentence']] # we are interested in rating and review only\n",
    "# code rating as +ve if > 3, -ve if less, no 3s in dataset \n",
    "df_test['polarity'] = ara_test['polarity'].apply(lambda x: 0 if x == 'negative' else 1)\n",
    "# rename columns to fit default constructor in fastai\n",
    "df_test.columns = ['label', 'review']\n",
    "df_test.head()"
   ]
  },
  {
   "cell_type": "code",
   "execution_count": 136,
   "id": "d76406fe",
   "metadata": {},
   "outputs": [
    {
     "data": {
      "text/plain": [
       "label     0\n",
       "review    4\n",
       "dtype: int64"
      ]
     },
     "execution_count": 136,
     "metadata": {},
     "output_type": "execute_result"
    }
   ],
   "source": [
    "# check ıf there ıs any null values\n",
    "df_test.isnull().sum()"
   ]
  },
  {
   "cell_type": "code",
   "execution_count": 137,
   "id": "1bdb6738",
   "metadata": {},
   "outputs": [
    {
     "name": "stderr",
     "output_type": "stream",
     "text": [
      "C:\\Users\\cccc\\AppData\\Local\\Temp\\ipykernel_13568\\1781431545.py:2: SettingWithCopyWarning: \n",
      "A value is trying to be set on a copy of a slice from a DataFrame\n",
      "\n",
      "See the caveats in the documentation: https://pandas.pydata.org/pandas-docs/stable/user_guide/indexing.html#returning-a-view-versus-a-copy\n",
      "  df_test.dropna(inplace=True)\n"
     ]
    }
   ],
   "source": [
    "# dropping the null values\n",
    "df_test.dropna(inplace=True)"
   ]
  },
  {
   "cell_type": "code",
   "execution_count": 138,
   "id": "154438f8",
   "metadata": {},
   "outputs": [
    {
     "data": {
      "text/plain": [
       "1    14002\n",
       "0     8407\n",
       "Name: label, dtype: int64"
      ]
     },
     "execution_count": 138,
     "metadata": {},
     "output_type": "execute_result"
    }
   ],
   "source": [
    "df_test['label'].value_counts()"
   ]
  },
  {
   "cell_type": "code",
   "execution_count": 139,
   "id": "069b05dd",
   "metadata": {},
   "outputs": [
    {
     "data": {
      "text/plain": [
       "19450"
      ]
     },
     "execution_count": 139,
     "metadata": {},
     "output_type": "execute_result"
    }
   ],
   "source": [
    "# check ıf there ıs any duplıcated values\n",
    "df_test.duplicated().sum()"
   ]
  },
  {
   "cell_type": "code",
   "execution_count": 140,
   "id": "36eebd7a",
   "metadata": {},
   "outputs": [
    {
     "name": "stderr",
     "output_type": "stream",
     "text": [
      "C:\\Users\\cccc\\AppData\\Local\\Temp\\ipykernel_13568\\1780530119.py:2: SettingWithCopyWarning: \n",
      "A value is trying to be set on a copy of a slice from a DataFrame\n",
      "\n",
      "See the caveats in the documentation: https://pandas.pydata.org/pandas-docs/stable/user_guide/indexing.html#returning-a-view-versus-a-copy\n",
      "  df_test.drop_duplicates(subset=['review'],keep='first',inplace=True,ignore_index=True)\n"
     ]
    },
    {
     "data": {
      "text/html": [
       "<div>\n",
       "<style scoped>\n",
       "    .dataframe tbody tr th:only-of-type {\n",
       "        vertical-align: middle;\n",
       "    }\n",
       "\n",
       "    .dataframe tbody tr th {\n",
       "        vertical-align: top;\n",
       "    }\n",
       "\n",
       "    .dataframe thead th {\n",
       "        text-align: right;\n",
       "    }\n",
       "</style>\n",
       "<table border=\"1\" class=\"dataframe\">\n",
       "  <thead>\n",
       "    <tr style=\"text-align: right;\">\n",
       "      <th></th>\n",
       "      <th>label</th>\n",
       "      <th>review</th>\n",
       "    </tr>\n",
       "  </thead>\n",
       "  <tbody>\n",
       "    <tr>\n",
       "      <th>0</th>\n",
       "      <td>0</td>\n",
       "      <td>['كانت رحلتي لهذا المرفق موفقه ، لكن كانت بعض ...</td>\n",
       "    </tr>\n",
       "    <tr>\n",
       "      <th>1</th>\n",
       "      <td>0</td>\n",
       "      <td>['رضى النزيل الاجهزة الكهربائية غير سليمة الشا...</td>\n",
       "    </tr>\n",
       "    <tr>\n",
       "      <th>2</th>\n",
       "      <td>1</td>\n",
       "      <td>['انها زيارتى الرابعة الغرفة ممتازة كانت بالدو...</td>\n",
       "    </tr>\n",
       "    <tr>\n",
       "      <th>3</th>\n",
       "      <td>0</td>\n",
       "      <td>['الطعام بارد، فريق العمل غير متمرس، المديرون ...</td>\n",
       "    </tr>\n",
       "    <tr>\n",
       "      <th>4</th>\n",
       "      <td>1</td>\n",
       "      <td>['خدمات مريحة هذا الفندق من الفنادق المميزة فى...</td>\n",
       "    </tr>\n",
       "  </tbody>\n",
       "</table>\n",
       "</div>"
      ],
      "text/plain": [
       "   label                                             review\n",
       "0      0  ['كانت رحلتي لهذا المرفق موفقه ، لكن كانت بعض ...\n",
       "1      0  ['رضى النزيل الاجهزة الكهربائية غير سليمة الشا...\n",
       "2      1  ['انها زيارتى الرابعة الغرفة ممتازة كانت بالدو...\n",
       "3      0  ['الطعام بارد، فريق العمل غير متمرس، المديرون ...\n",
       "4      1  ['خدمات مريحة هذا الفندق من الفنادق المميزة فى..."
      ]
     },
     "execution_count": 140,
     "metadata": {},
     "output_type": "execute_result"
    }
   ],
   "source": [
    "# droppıng the duplıcated values\n",
    "df_test.drop_duplicates(subset=['review'],keep='first',inplace=True,ignore_index=True)\n",
    "df_test.head()"
   ]
  },
  {
   "cell_type": "code",
   "execution_count": 141,
   "id": "d535625e",
   "metadata": {},
   "outputs": [
    {
     "data": {
      "text/plain": [
       "1    1555\n",
       "0     734\n",
       "Name: label, dtype: int64"
      ]
     },
     "execution_count": 141,
     "metadata": {},
     "output_type": "execute_result"
    }
   ],
   "source": [
    "# as we can see the dataset ıs unbalanced\n",
    "df_test['label'].value_counts()"
   ]
  },
  {
   "cell_type": "code",
   "execution_count": 142,
   "id": "76fe4558",
   "metadata": {},
   "outputs": [],
   "source": [
    "# to make dataset ıs balanced we wıll use Undersampling method\n",
    "# Class count\n",
    "count_class_1, count_class_0 = df_test.label.value_counts()\n",
    "\n",
    "# Divide by class\n",
    "df_class_0 = df_test[df_test['label'] == 0]\n",
    "df_class_1 = df_test[df_test['label'] == 1]"
   ]
  },
  {
   "cell_type": "code",
   "execution_count": 143,
   "id": "040e6ecf",
   "metadata": {},
   "outputs": [
    {
     "name": "stdout",
     "output_type": "stream",
     "text": [
      "Random under-sampling:\n",
      "1    734\n",
      "0    734\n",
      "Name: label, dtype: int64\n"
     ]
    }
   ],
   "source": [
    "# Undersample 1-class and concat the DataFrames of both class\n",
    "df_class_1_under = df_class_1.sample(count_class_0)\n",
    "df_test_balanced = pd.concat([df_class_1_under, df_class_0], axis=0)\n",
    "\n",
    "print('Random under-sampling:')\n",
    "print(df_test_balanced.label.value_counts())"
   ]
  },
  {
   "cell_type": "code",
   "execution_count": 144,
   "id": "1f1cc9f4",
   "metadata": {},
   "outputs": [],
   "source": [
    "arabic_punctuations = '''`÷×؛<>_()*&^%][ـ،/:\"؟.,'{}~¦+|!”…“–ـ $'''\n",
    "english_punctuations = string.punctuation\n",
    "punctuations_list = arabic_punctuations + english_punctuations\n",
    "\n",
    "def remove_diacritics(text):\n",
    "    arabic_diacritics = re.compile(\"\"\" ّ    | # Tashdid\n",
    "                             َ    | # Fatha\n",
    "                             ً    | # Tanwin Fath\n",
    "                             ُ    | # Damma\n",
    "                             ٌ    | # Tanwin Damm\n",
    "                             ِ    | # Kasra\n",
    "                             ٍ    | # Tanwin Kasr\n",
    "                             ْ    | # Sukun\n",
    "                             ـ     # Tatwil/Kashida\n",
    "                         \"\"\", re.VERBOSE)\n",
    "    text = re.sub(arabic_diacritics, '', str(text))\n",
    "    return text\n",
    "\n",
    "def remove_emoji(text):\n",
    "    regrex_pattern = re.compile(pattern = \"[\"\n",
    "        u\"\\U0001F600-\\U0001F64F\"  # emoticons\n",
    "        u\"\\U0001F300-\\U0001F5FF\"  # symbols & pictographs\n",
    "        u\"\\U0001F680-\\U0001F6FF\"  # transport & map symbols\n",
    "        u\"\\U0001F1E0-\\U0001F1FF\"  # flags (iOS)\n",
    "                           \"]+\", flags = re.UNICODE)\n",
    "    return regrex_pattern.sub(r'',text)\n",
    "def normalize_arabic(text):\n",
    "    text = re.sub(\"[إأآا]\", \"ا\", text)\n",
    "    text = re.sub(\"ى\", \"ي\", text)\n",
    "    text = re.sub(\"ؤ\", \"ء\", text)\n",
    "    text = re.sub(\"ئ\", \"ء\", text)\n",
    "    text = re.sub(\"ة\", \"ه\", text)\n",
    "    text = re.sub(\"گ\", \"ك\", text)\n",
    "    return text\n",
    "def clean_text(text):\n",
    "    text = re.sub('[‘’“”…]', '', str(text))\n",
    "    text = \"\".join([word for word in text if word not in string.punctuation])\n",
    "    text = remove_emoji(text)\n",
    "    text = normalize_arabic(text)\n",
    "    text = remove_diacritics(text)\n",
    "    tokens = word_tokenize(text)\n",
    "    text = ' '.join([word for word in tokens])\n",
    "    return text"
   ]
  },
  {
   "cell_type": "code",
   "execution_count": 145,
   "id": "d1540e6b",
   "metadata": {},
   "outputs": [],
   "source": [
    "df_test_balanced['cleanedtext'] = df_test_balanced.review.apply(lambda x: clean_text(x))\n",
    "df_test_balanced['cleanedtext'] = df_test_balanced['cleanedtext'].astype(str)\n",
    "#setting the training data\n",
    "labels = list(df_test_balanced.label.values)\n",
    "reviews = list(df_test_balanced.cleanedtext.values)"
   ]
  },
  {
   "cell_type": "code",
   "execution_count": 146,
   "id": "2aae48b4",
   "metadata": {},
   "outputs": [
    {
     "name": "stdout",
     "output_type": "stream",
     "text": [
      "average train sentence length:  54.02179836512261\n",
      "stdev train sentence length:  13.662433941084203\n"
     ]
    }
   ],
   "source": [
    "print('average train sentence length: ', df_test_balanced['cleanedtext'].str.split().str.len().mean())\n",
    "print('stdev train sentence length: ', df_test_balanced['cleanedtext'].str.split().str.len().std())"
   ]
  },
  {
   "cell_type": "code",
   "execution_count": 147,
   "id": "67134f7c",
   "metadata": {},
   "outputs": [
    {
     "name": "stderr",
     "output_type": "stream",
     "text": [
      "Truncation was not explicitly activated but `max_length` is provided a specific value, please use `truncation=True` to explicitly truncate examples to max length. Defaulting to 'longest_first' truncation strategy. If you encode pairs of sequences (GLUE-style) with the tokenizer you can select this strategy more precisely by providing a specific strategy to `truncation`.\n",
      "C:\\Users\\cccc\\anaconda3\\envs\\demo\\lib\\site-packages\\transformers\\tokenization_utils_base.py:2302: FutureWarning: The `pad_to_max_length` argument is deprecated and will be removed in a future version, use `padding=True` or `padding='longest'` to pad to the longest sequence in the batch, or use `padding='max_length'` to pad to a max length. In this case, you can give a specific length with `max_length` (e.g. `max_length=45`) or leave max_length to None to pad to the maximal input size of the model (e.g. 512 for Bert).\n",
      "  warnings.warn(\n"
     ]
    },
    {
     "name": "stdout",
     "output_type": "stream",
     "text": [
      "tokenizer outputs:  dict_keys(['input_ids', 'token_type_ids', 'attention_mask'])\n"
     ]
    }
   ],
   "source": [
    "max_length = 100\n",
    "df_test_balanced = df_test_balanced.reset_index(drop=True)\n",
    "# Select a batch size for training. For fine-tuning with XLNet, the authors recommend a batch size of 32, 48, or 128. We will use 32 here to avoid memory issues.\n",
    "batch_size = 16\n",
    "tokenizer = AutoTokenizer.from_pretrained(\"asafaya/bert-base-arabic\") # tokenizer\n",
    "encodings = tokenizer.batch_encode_plus(reviews,max_length=max_length,pad_to_max_length=True) # tokenizer's encoding method\n",
    "print('tokenizer outputs: ', encodings.keys())"
   ]
  },
  {
   "cell_type": "code",
   "execution_count": 148,
   "id": "d8d6376f",
   "metadata": {},
   "outputs": [],
   "source": [
    "# Encoding input data\n",
    "test_encodings = tokenizer.batch_encode_plus(reviews,max_length=max_length,pad_to_max_length=True)\n",
    "test_input_ids = test_encodings['input_ids']\n",
    "test_token_type_ids = test_encodings['token_type_ids']\n",
    "test_attention_masks = test_encodings['attention_mask']"
   ]
  },
  {
   "cell_type": "code",
   "execution_count": 149,
   "id": "3fb6c284",
   "metadata": {},
   "outputs": [],
   "source": [
    "# Make tensors out of data\n",
    "test_inputs = torch.tensor(test_input_ids)\n",
    "test_labels = torch.tensor(labels)\n",
    "test_masks = torch.tensor(test_attention_masks)\n",
    "test_token_types = torch.tensor(test_token_type_ids)\n",
    "# Create test dataloader\n",
    "test_data = TensorDataset(test_inputs, test_masks, test_labels, test_token_types)\n",
    "test_sampler = SequentialSampler(test_data)\n",
    "test_dataloader = DataLoader(test_data, sampler=test_sampler, batch_size=batch_size)"
   ]
  },
  {
   "cell_type": "markdown",
   "id": "184fb702",
   "metadata": {},
   "source": [
    "# Load Saved Model"
   ]
  },
  {
   "cell_type": "code",
   "execution_count": 150,
   "id": "30c26536",
   "metadata": {},
   "outputs": [],
   "source": [
    "with open('model_pickle','rb') as file:\n",
    "    bert_model = pickle.load(file)"
   ]
  },
  {
   "cell_type": "code",
   "execution_count": 151,
   "id": "47a24dea",
   "metadata": {},
   "outputs": [
    {
     "name": "stderr",
     "output_type": "stream",
     "text": [
      "C:\\Users\\cccc\\AppData\\Local\\Temp\\ipykernel_13568\\3379750798.py:22: UserWarning: Implicit dimension choice for softmax has been deprecated. Change the call to include dim=X as an argument.\n",
      "  b_logit_pred = F.softmax(b_logit_pred)\n"
     ]
    }
   ],
   "source": [
    "# testing \n",
    "\n",
    "# put model in evaluation mode \n",
    "model.eval()\n",
    "\n",
    "#track variables\n",
    "logit_preds,true_labels,pred_labels,tokenized_texts  = [],[],[],[]\n",
    "\n",
    "# predict\n",
    "# reading input from each batch\n",
    "for i, batch in enumerate(test_dataloader):\n",
    "    batch = tuple(t.to(device) for t in batch)\n",
    "    # unpack the inputs from test dataloader\n",
    "    b_input_ids, b_input_mask, b_labels, b_token_types = batch\n",
    "    with torch.no_grad():\n",
    "        # forward pass\n",
    "        outs = bert_model(b_input_ids, b_input_mask ,b_token_types)\n",
    "        b_logit_pred = outs\n",
    "#         pred_label = torch.sigmoid(b_logit_pred)\n",
    "#         # Apply softmax to calculate probabilities\n",
    "        pred_label = torch.argmax(b_logit_pred, dim=1)\n",
    "        b_logit_pred = F.softmax(b_logit_pred)\n",
    "\n",
    "        # converting into numpy arrays \n",
    "        b_logit_pred = b_logit_pred.detach().cpu()\n",
    "        pred_label = pred_label.to('cpu')\n",
    "        b_labels = b_labels.to('cpu')\n",
    "        \n",
    "    # appending output variables \n",
    "    tokenized_texts.append(b_input_ids)\n",
    "    logit_preds.append(b_logit_pred)\n",
    "    pred_labels.append(pred_label)  \n",
    "    true_labels.append(b_labels) \n",
    "    \n",
    "# flatten output variables\n",
    "tokenized_texts = [item for sublist in tokenized_texts for item in sublist]\n",
    "pred_labels = [item for sublist in pred_labels for item in sublist]\n",
    "true_labels = [item for sublist in true_labels for item in sublist]\n",
    " \n",
    "# Converting flattened binary values to boolean values\n",
    "true_bools = [tl==1 for tl in true_labels]"
   ]
  },
  {
   "cell_type": "code",
   "execution_count": 152,
   "id": "fc9399a9",
   "metadata": {},
   "outputs": [
    {
     "name": "stdout",
     "output_type": "stream",
     "text": [
      "Test F1 Accuracy:  0.9100817438692099\n",
      "Test Flat Accuracy:  0.9100817438692098 \n",
      "\n",
      "              precision    recall  f1-score   support\n",
      "\n",
      "    posıtıve       0.90      0.92      0.91       734\n",
      "    negatıve       0.92      0.90      0.91       734\n",
      "\n",
      "    accuracy                           0.91      1468\n",
      "   macro avg       0.91      0.91      0.91      1468\n",
      "weighted avg       0.91      0.91      0.91      1468\n",
      "\n"
     ]
    }
   ],
   "source": [
    "# pred_bools = [pl>0.50 for pl in pred_labels] #boolean output after thresholding\n",
    "\n",
    "# Print and save classification report\n",
    "print('Test F1 Accuracy: ', f1_score(true_labels, pred_labels,average='micro'))\n",
    "print('Test Flat Accuracy: ', accuracy_score(true_labels, pred_labels),'\\n')\n",
    "clf_report = classification_report(true_labels,pred_labels,target_names=['posıtıve', 'negatıve'])\n",
    "pickle.dump(clf_report, open('HARD_Arabic_classification_report.txt','wb'))\n",
    "print(clf_report)"
   ]
  },
  {
   "cell_type": "code",
   "execution_count": null,
   "id": "192e725d",
   "metadata": {},
   "outputs": [],
   "source": []
  },
  {
   "cell_type": "code",
   "execution_count": null,
   "id": "eaa40269",
   "metadata": {},
   "outputs": [],
   "source": []
  }
 ],
 "metadata": {
  "kernelspec": {
   "display_name": "demo",
   "language": "python",
   "name": "demo"
  },
  "language_info": {
   "codemirror_mode": {
    "name": "ipython",
    "version": 3
   },
   "file_extension": ".py",
   "mimetype": "text/x-python",
   "name": "python",
   "nbconvert_exporter": "python",
   "pygments_lexer": "ipython3",
   "version": "3.9.13"
  }
 },
 "nbformat": 4,
 "nbformat_minor": 5
}
