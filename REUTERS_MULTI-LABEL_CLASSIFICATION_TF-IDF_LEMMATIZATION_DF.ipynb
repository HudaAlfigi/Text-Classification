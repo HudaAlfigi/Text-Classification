{
 "cells": [
  {
   "cell_type": "code",
   "execution_count": 36,
   "metadata": {},
   "outputs": [],
   "source": [
    "import nltk\n",
    "from nltk.corpus import reuters\n",
    "from sklearn.feature_extraction.text import TfidfVectorizer,CountVectorizer\n",
    "import numpy as np\n",
    "import pandas as pd\n",
    "from nltk import word_tokenize\n",
    "from nltk.stem.porter import PorterStemmer\n",
    "from nltk.stem.wordnet import WordNetLemmatizer\n",
    "from sklearn.metrics import f1_score,precision_score,recall_score\n",
    "from sklearn.metrics import accuracy_score , classification_report,confusion_matrix\n",
    "from nltk.corpus import stopwords\n",
    "import re\n",
    "import string  \n",
    "from collections import Counter\n",
    "from sklearn.preprocessing import MultiLabelBinarizer"
   ]
  },
  {
   "cell_type": "code",
   "execution_count": 2,
   "metadata": {},
   "outputs": [
    {
     "data": {
      "text/plain": [
       "'\\n      The Reuters-21578 benchmark corpus, ApteMod version\\n\\nThis is a publically available version of the well-known Reuters-21578\\n\"ApteMod\" corpus for text categorization.  It has been used in\\npublications like these:\\n\\n * Yiming Yang and X. Liu. \"A re-examination of text categorization\\n   methods\".  1999.  Proceedings of 22nd Annual International SIGIR.\\n   http://citeseer.nj.nec.com/yang99reexamination.html\\n\\n * Thorsten Joachims. \"Text categorization with support vector\\n   machines: learning with many relevant features\".  1998. Proceedings\\n   of ECML-98, 10th European Conference on Machine Learning.\\n   http://citeseer.nj.nec.com/joachims98text.html\\n\\nApteMod is a collection of 10,788 documents from the Reuters financial\\nnewswire service, partitioned into a training set with 7769 documents\\nand a test set with 3019 documents.  The total size of the corpus is\\nabout 43 MB.  It is also available for download from\\nhttp://kdd.ics.uci.edu/databases/reuters21578/reuters21578.html ,\\nwhich includes a more extensive history of the data revisions.\\n\\nThe distribution of categories in the ApteMod corpus is highly skewed,\\nwith 36.7% of the documents in the most common category, and only\\n0.0185% (2 documents) in each of the five least common categories.\\nIn fact, the original data source is even more skewed---in creating\\nthe corpus, any categories that did not contain at least one document\\nin the training set and one document in the test set were removed from\\nthe corpus by its original creator.\\n\\nIn the ApteMod corpus, each document belongs to one or more\\ncategories.  There are 90 categories in the corpus.  The average\\nnumber of categories per document is 1.235, and the average number of\\ndocuments per category is about 148, or 1.37% of the corpus.\\n\\n -Ken Williams\\n  ken@mathforum.org\\n\\n         Copyright & Notification \\n\\n(extracted from the README at the UCI address above)\\n\\nThe copyright for the text of newswire articles and Reuters\\nannotations in the Reuters-21578 collection resides with Reuters Ltd.\\nReuters Ltd. and Carnegie Group, Inc. have agreed to allow the free\\ndistribution of this data *for research purposes only*.  \\n\\nIf you publish results based on this data set, please acknowledge\\nits use, refer to the data set by the name \"Reuters-21578,\\nDistribution 1.0\", and inform your readers of the current location of\\nthe data set (see \"Availability & Questions\").\\n\\n'"
      ]
     },
     "execution_count": 2,
     "metadata": {},
     "output_type": "execute_result"
    }
   ],
   "source": [
    "#trying to understand the dataset \n",
    "reuters.readme()"
   ]
  },
  {
   "cell_type": "code",
   "execution_count": 4,
   "metadata": {
    "scrolled": true
   },
   "outputs": [
    {
     "name": "stdout",
     "output_type": "stream",
     "text": [
      "Article #1\n",
      "ASIAN EXPORTERS FEAR DAMAGE FROM U.S.-JAPAN RIFT\n",
      "  Mounting trade friction between the\n",
      "  U.S. And Japan has raised fears among many of Asia's exporting\n",
      "  nations that the row could inflict far-reaching economic\n",
      "  damage, businessmen and officials said.\n",
      "      They told Reuter correspondents in Asian capitals a U.S.\n",
      "  Move against Japan might boost protectionist sentiment in the\n",
      "  U.S. And lead to curbs on American imports of their products.\n",
      "      But some exporters said that while the conflict would hurt\n",
      "  them in the long-run, in the short-term Tokyo's loss might be\n",
      "  their gain.\n",
      "      The U.S. Has said it will impose 300 mln dlrs of tariffs on\n",
      "  imports of Japanese electronics goods on April 17, in\n",
      "  retaliation for Japan's alleged failure to stick to a pact not\n",
      "  to sell semiconductors on world markets at below cost.\n",
      "      Unofficial Japanese estimates put the impact of the tariffs\n",
      "  at 10 billion dlrs and spokesmen for major electronics firms\n",
      "  said they would virtually halt exports of products hit by the\n",
      "  new taxes.\n",
      "      \"We wouldn't be able to do business,\" said a spokesman for\n",
      "  leading Japanese electronics firm Matsushita Electric\n",
      "  Industrial Co Ltd &lt;MC.T>.\n",
      "      \"If the tariffs remain in place for any length of time\n",
      "  beyond a few months it will mean the complete erosion of\n",
      "  exports (of goods subject to tariffs) to the U.S.,\" said Tom\n",
      "  Murtha, a stock analyst at the Tokyo office of broker &lt;James\n",
      "  Capel and Co>.\n",
      "      In Taiwan, businessmen and officials are also worried.\n",
      "      \"We are aware of the seriousness of the U.S. Threat against\n",
      "  Japan because it serves as a warning to us,\" said a senior\n",
      "  Taiwanese trade official who asked not to be named.\n",
      "      Taiwan had a trade trade surplus of 15.6 billion dlrs last\n",
      "  year, 95 pct of it with the U.S.\n",
      "      The surplus helped swell Taiwan's foreign exchange reserves\n",
      "  to 53 billion dlrs, among the world's largest.\n",
      "      \"We must quickly open our markets, remove trade barriers and\n",
      "  cut import tariffs to allow imports of U.S. Products, if we\n",
      "  want to defuse problems from possible U.S. Retaliation,\" said\n",
      "  Paul Sheen, chairman of textile exporters &lt;Taiwan Safe Group>.\n",
      "      A senior official of South Korea's trade promotion\n",
      "  association said the trade dispute between the U.S. And Japan\n",
      "  might also lead to pressure on South Korea, whose chief exports\n",
      "  are similar to those of Japan.\n",
      "      Last year South Korea had a trade surplus of 7.1 billion\n",
      "  dlrs with the U.S., Up from 4.9 billion dlrs in 1985.\n",
      "      In Malaysia, trade officers and businessmen said tough\n",
      "  curbs against Japan might allow hard-hit producers of\n",
      "  semiconductors in third countries to expand their sales to the\n",
      "  U.S.\n",
      "      In Hong Kong, where newspapers have alleged Japan has been\n",
      "  selling below-cost semiconductors, some electronics\n",
      "  manufacturers share that view. But other businessmen said such\n",
      "  a short-term commercial advantage would be outweighed by\n",
      "  further U.S. Pressure to block imports.\n",
      "      \"That is a very short-term view,\" said Lawrence Mills,\n",
      "  director-general of the Federation of Hong Kong Industry.\n",
      "      \"If the whole purpose is to prevent imports, one day it will\n",
      "  be extended to other sources. Much more serious for Hong Kong\n",
      "  is the disadvantage of action restraining trade,\" he said.\n",
      "      The U.S. Last year was Hong Kong's biggest export market,\n",
      "  accounting for over 30 pct of domestically produced exports.\n",
      "      The Australian government is awaiting the outcome of trade\n",
      "  talks between the U.S. And Japan with interest and concern,\n",
      "  Industry Minister John Button said in Canberra last Friday.\n",
      "      \"This kind of deterioration in trade relations between two\n",
      "  countries which are major trading partners of ours is a very\n",
      "  serious matter,\" Button said.\n",
      "      He said Australia's concerns centred on coal and beef,\n",
      "  Australia's two largest exports to Japan and also significant\n",
      "  U.S. Exports to that country.\n",
      "      Meanwhile U.S.-Japanese diplomatic manoeuvres to solve the\n",
      "  trade stand-off continue.\n",
      "      Japan's ruling Liberal Democratic Party yesterday outlined\n",
      "  a package of economic measures to boost the Japanese economy.\n",
      "      The measures proposed include a large supplementary budget\n",
      "  and record public works spending in the first half of the\n",
      "  financial year.\n",
      "      They also call for stepped-up spending as an emergency\n",
      "  measure to stimulate the economy despite Prime Minister\n",
      "  Yasuhiro Nakasone's avowed fiscal reform program.\n",
      "      Deputy U.S. Trade Representative Michael Smith and Makoto\n",
      "  Kuroda, Japan's deputy minister of International Trade and\n",
      "  Industry (MITI), are due to meet in Washington this week in an\n",
      "  effort to end the dispute.\n",
      "  \n",
      "\n",
      "\n",
      "Article #2\n",
      "CHINA DAILY SAYS VERMIN EAT 7-12 PCT GRAIN STOCKS\n",
      "  A survey of 19 provinces and seven cities\n",
      "  showed vermin consume between seven and 12 pct of China's grain\n",
      "  stocks, the China Daily said.\n",
      "      It also said that each year 1.575 mln tonnes, or 25 pct, of\n",
      "  China's fruit output are left to rot, and 2.1 mln tonnes, or up\n",
      "  to 30 pct, of its vegetables. The paper blamed the waste on\n",
      "  inadequate storage and bad preservation methods.\n",
      "      It said the government had launched a national programme to\n",
      "  reduce waste, calling for improved technology in storage and\n",
      "  preservation, and greater production of additives. The paper\n",
      "  gave no further details.\n",
      "  \n",
      "\n",
      "\n",
      "Article #3\n",
      "JAPAN TO REVISE LONG-TERM ENERGY DEMAND DOWNWARDS\n",
      "  The Ministry of International Trade and\n",
      "  Industry (MITI) will revise its long-term energy supply/demand\n",
      "  outlook by August to meet a forecast downtrend in Japanese\n",
      "  energy demand, ministry officials said.\n",
      "      MITI is expected to lower the projection for primary energy\n",
      "  supplies in the year 2000 to 550 mln kilolitres (kl) from 600\n",
      "  mln, they said.\n",
      "      The decision follows the emergence of structural changes in\n",
      "  Japanese industry following the rise in the value of the yen\n",
      "  and a decline in domestic electric power demand.\n",
      "      MITI is planning to work out a revised energy supply/demand\n",
      "  outlook through deliberations of committee meetings of the\n",
      "  Agency of Natural Resources and Energy, the officials said.\n",
      "      They said MITI will also review the breakdown of energy\n",
      "  supply sources, including oil, nuclear, coal and natural gas.\n",
      "      Nuclear energy provided the bulk of Japan's electric power\n",
      "  in the fiscal year ended March 31, supplying an estimated 27\n",
      "  pct on a kilowatt/hour basis, followed by oil (23 pct) and\n",
      "  liquefied natural gas (21 pct), they noted.\n",
      "  \n",
      "\n",
      "\n",
      "Article #4\n",
      "THAI TRADE DEFICIT WIDENS IN FIRST QUARTER\n",
      "  Thailand's trade deficit widened to 4.5\n",
      "  billion baht in the first quarter of 1987 from 2.1 billion a\n",
      "  year ago, the Business Economics Department said.\n",
      "      It said Janunary/March imports rose to 65.1 billion baht\n",
      "  from 58.7 billion. Thailand's improved business climate this\n",
      "  year resulted in a 27 pct increase in imports of raw materials\n",
      "  and semi-finished products.\n",
      "      The country's oil import bill, however, fell 23 pct in the\n",
      "  first quarter due to lower oil prices.\n",
      "      The department said first quarter exports expanded to 60.6\n",
      "  billion baht from 56.6 billion.\n",
      "      Export growth was smaller than expected due to lower\n",
      "  earnings from many key commodities including rice whose\n",
      "  earnings declined 18 pct, maize 66 pct, sugar 45 pct, tin 26\n",
      "  pct and canned pineapples seven pct.\n",
      "      Products registering high export growth were jewellery up\n",
      "  64 pct, clothing 57 pct and rubber 35 pct.\n",
      "  \n",
      "\n",
      "\n",
      "Article #5\n",
      "INDONESIA SEES CPO PRICE RISING SHARPLY\n",
      "  Indonesia expects crude palm oil (CPO)\n",
      "  prices to rise sharply to between 450 and 550 dlrs a tonne FOB\n",
      "  sometime this year because of better European demand and a fall\n",
      "  in Malaysian output, Hasrul Harahap, junior minister for tree\n",
      "  crops, told Indonesian reporters.\n",
      "      Prices of Malaysian and Sumatran CPO are now around 332\n",
      "  dlrs a tonne CIF for delivery in Rotterdam, traders said.\n",
      "      Harahap said Indonesia would maintain its exports, despite\n",
      "  making recent palm oil purchases from Malaysia, so that it\n",
      "  could possibly increase its international market share.\n",
      "      Indonesia, the world's second largest producer of palm oil\n",
      "  after Malaysia, has been forced to import palm oil to ensure\n",
      "  supplies during the Moslem fasting month of Ramadan.\n",
      "      Harahap said it was better to import to cover a temporary\n",
      "  shortage than to lose export markets.\n",
      "      Indonesian exports of CPO in calendar 1986 were 530,500\n",
      "  tonnes, against 468,500 in 1985, according to central bank\n",
      "  figures.\n",
      "  \n",
      "\n",
      "\n"
     ]
    }
   ],
   "source": [
    "# List the raw text of the first 5 articles. \n",
    "for i in range(5):\n",
    "    print('Article #' + str(i+1))\n",
    "    print(reuters.raw(reuters.fileids()[i]))"
   ]
  },
  {
   "cell_type": "markdown",
   "metadata": {},
   "source": [
    "# Represent train and test docs"
   ]
  },
  {
   "cell_type": "code",
   "execution_count": 8,
   "metadata": {},
   "outputs": [],
   "source": [
    "# #extracting train and test documents \n",
    "# train_docs = list(filter(lambda doc: doc.startswith(\"train\"),\n",
    "#                         reuters.fileids()));\n",
    "# test_docs = list(filter(lambda doc: doc.startswith(\"test\"),\n",
    "#                         reuters.fileids()));"
   ]
  },
  {
   "cell_type": "code",
   "execution_count": 12,
   "metadata": {},
   "outputs": [],
   "source": [
    "#extracting train and test documents \n",
    "train_documents, train_categories = zip(*[(reuters.raw(i), reuters.categories(i))\n",
    "for i in reuters.fileids() if i.startswith('training/')])\n",
    "test_documents, test_categories = zip(*[(reuters.raw(i), reuters.categories(i))\n",
    "for i in reuters.fileids() if i.startswith('test/')])"
   ]
  },
  {
   "cell_type": "code",
   "execution_count": 13,
   "metadata": {},
   "outputs": [
    {
     "name": "stdout",
     "output_type": "stream",
     "text": [
      "Number of docs in the train set:7769\n",
      "Number of docs in the test set: 3019\n"
     ]
    }
   ],
   "source": [
    "print('Number of docs in the train set:' + str(len(train_documents)))\n",
    "print('Number of docs in the test set: ' + str(len(test_documents)))"
   ]
  },
  {
   "cell_type": "markdown",
   "metadata": {},
   "source": [
    "# Cleaning text\n"
   ]
  },
  {
   "cell_type": "code",
   "execution_count": 14,
   "metadata": {},
   "outputs": [],
   "source": [
    "   \n",
    "codes = ['\\r', '\\n', '\\t','lt']\n",
    "def clean_text(text):\n",
    "    '''Make text lowercase, remove text in square brackets, remove punctuation and remove words containing numbers.'''\n",
    "    text = text.lower() #Make text lowercase\n",
    "    text = re.sub('\\[.*?\\]', '',str(text))\n",
    "    text = re.sub('[%s]' % re.escape(string.punctuation), '', str(text)) #remove punctuation\n",
    "    text = re.sub('\\w*\\d\\w*', '', str(text)) #remove words containing numbers\n",
    "    text = re.sub('[‘’“”…]', '', str(text))\n",
    "    text = re.sub(r'dlrs', 'dollar', text)  # replace dlrs abreviation \n",
    "    text = re.sub(r'pct', 'percent', text)  # replace pct abreviation  \n",
    "    for code in codes:\n",
    "        text = re.sub(code, ' ', text)  # get rid of escape codes\n",
    "    text = re.sub('\\s+', ' ', text) # replace multiple spacess with one space   \n",
    "    return text\n",
    "    "
   ]
  },
  {
   "cell_type": "code",
   "execution_count": 16,
   "metadata": {
    "scrolled": true
   },
   "outputs": [],
   "source": [
    "#invoking the cleaning function to the training docs\n",
    "cleaned_train_documents = []\n",
    "for i in range(0,len(train_documents)):    \n",
    "    cleaned_train_documents.append(clean_text(str(train_documents[i])))"
   ]
  },
  {
   "cell_type": "code",
   "execution_count": 17,
   "metadata": {},
   "outputs": [],
   "source": [
    "#invoking the cleaning function to the testing docs\n",
    "cleaned_test_documents = []\n",
    "for i in range(0,len(test_documents)):\n",
    "    cleaned_test_documents.append(clean_text(str(test_documents[i])))"
   ]
  },
  {
   "cell_type": "markdown",
   "metadata": {},
   "source": [
    "# Tokenization\n"
   ]
  },
  {
   "cell_type": "code",
   "execution_count": 18,
   "metadata": {},
   "outputs": [],
   "source": [
    "lemmatizer = WordNetLemmatizer()\n",
    "\n",
    "def toknize(text):\n",
    "    stop_words = set(stopwords.words(\"english\"))\n",
    "    tokens = word_tokenize(text) #split document into individual words(tokens)\n",
    "    tokens= [word for word in tokens if word not in stop_words] #filter out stop words if requested\n",
    "    tokens = [word for word in tokens if word.isalpha()] #remove remaining tokens that are not alphabetic\n",
    "    tokens = [word for word in tokens if len(word) > 2] #filter out tokens that are one or two characters long\n",
    "    tokens = [word for word in tokens if len(word) < 21] # filter out tokens that are more than twenty characters long\n",
    "    lemmas= [lemmatizer.lemmatize(word) for word in tokens] #apply word lemmatization\n",
    "    # recreate the document string from parsed words\n",
    "    text = ''\n",
    "    for lema in lemmas:\n",
    "        text = text + ' ' + lema\n",
    "    return tokens,text"
   ]
  },
  {
   "cell_type": "code",
   "execution_count": 19,
   "metadata": {},
   "outputs": [],
   "source": [
    "train_text = [] # list of document strings for sklearn TF-IDF\n",
    "train_tokens = []  # list of token lists\n",
    "for doc in cleaned_train_documents:\n",
    "    text_string = doc\n",
    "    # parse words one at a time in document string\n",
    "    tokens,text_string = toknize(text_string)\n",
    "    train_tokens.append(tokens)\n",
    "    train_text.append(text_string)\n"
   ]
  },
  {
   "cell_type": "code",
   "execution_count": 20,
   "metadata": {},
   "outputs": [
    {
     "name": "stdout",
     "output_type": "stream",
     "text": [
      "\n",
      "Number of training documents: 7769\n",
      "\n",
      "First item after text preprocessing, train_text[0]\n",
      "  bahia cocoa review shower continued throughout week bahia cocoa zone alleviating drought since early january improving prospect coming temporao hough normal humidity level restored comissaria smith said weekly review dry period mean temporao late year arrival week ended february bag kilo making cumulative total season mln stage last year seems cocoa delivered earlier consignment included arrival figure comissaria smith said still doubt much old crop cocoa still available harvesting practically come end total bahia crop estimate around mln bag sale standing almost mln hundred thousand bag still hand farmer middleman exporter processor doubt much cocoa would fit export shipper experiencing dificu y obtaining bahia superior certificate view lower quality recent week farmer sold good part cocoa held consignment comissaria smith said spot bean price rose cruzados per arroba kilo bean shipper reluctant offer nearby shipment limited sale booked march shipment dollar per tonne port named new crop sale also light open port junejuly going dollar dollar new york july augsept dollar per tonne fob routine sale butter made marchapril sold dollar aprilmay butter went time new york may junejuly dollar augsept dollar time new york sept octdec dollar time new york dec comissaria smith said destination covertible currency area uruguay open port cake sale registered dollar marchapril dollar may dollar aug time new york dec octdec buyer argentina uruguay convertible currency area liquor sale limited marchapril selling dollar junejuly dollar time new york july augsept dollar time new york sept octdec time new york dec comissaria smith said total bahia sale currently estimated mln bag crop mln bag crop final figure period february expected published brazilian cocoa trade commission carnival end midday february\n",
      "\n",
      "Number of training token lists: 7769\n",
      "\n",
      "First list of tokens after text preprocessing, train_tokens[0]\n",
      " ['bahia', 'cocoa', 'review', 'showers', 'continued', 'throughout', 'week', 'bahia', 'cocoa', 'zone', 'alleviating', 'drought', 'since', 'early', 'january', 'improving', 'prospects', 'coming', 'temporao', 'hough', 'normal', 'humidity', 'levels', 'restored', 'comissaria', 'smith', 'said', 'weekly', 'review', 'dry', 'period', 'means', 'temporao', 'late', 'year', 'arrivals', 'week', 'ended', 'february', 'bags', 'kilos', 'making', 'cumulative', 'total', 'season', 'mln', 'stage', 'last', 'year', 'seems', 'cocoa', 'delivered', 'earlier', 'consignment', 'included', 'arrivals', 'figures', 'comissaria', 'smith', 'said', 'still', 'doubt', 'much', 'old', 'crop', 'cocoa', 'still', 'available', 'harvesting', 'practically', 'come', 'end', 'total', 'bahia', 'crop', 'estimates', 'around', 'mln', 'bags', 'sales', 'standing', 'almost', 'mln', 'hundred', 'thousand', 'bags', 'still', 'hands', 'farmers', 'middlemen', 'exporters', 'processors', 'doubts', 'much', 'cocoa', 'would', 'fit', 'export', 'shippers', 'experiencing', 'dificu', 'ies', 'obtaining', 'bahia', 'superior', 'certificates', 'view', 'lower', 'quality', 'recent', 'weeks', 'farmers', 'sold', 'good', 'part', 'cocoa', 'held', 'consignment', 'comissaria', 'smith', 'said', 'spot', 'bean', 'prices', 'rose', 'cruzados', 'per', 'arroba', 'kilos', 'bean', 'shippers', 'reluctant', 'offer', 'nearby', 'shipment', 'limited', 'sales', 'booked', 'march', 'shipment', 'dollar', 'per', 'tonne', 'ports', 'named', 'new', 'crop', 'sales', 'also', 'light', 'open', 'ports', 'junejuly', 'going', 'dollar', 'dollar', 'new', 'york', 'july', 'augsept', 'dollar', 'per', 'tonne', 'fob', 'routine', 'sales', 'butter', 'made', 'marchapril', 'sold', 'dollar', 'aprilmay', 'butter', 'went', 'times', 'new', 'york', 'may', 'junejuly', 'dollar', 'augsept', 'dollar', 'times', 'new', 'york', 'sept', 'octdec', 'dollar', 'times', 'new', 'york', 'dec', 'comissaria', 'smith', 'said', 'destinations', 'covertible', 'currency', 'areas', 'uruguay', 'open', 'ports', 'cake', 'sales', 'registered', 'dollar', 'marchapril', 'dollar', 'may', 'dollar', 'aug', 'times', 'new', 'york', 'dec', 'octdec', 'buyers', 'argentina', 'uruguay', 'convertible', 'currency', 'areas', 'liquor', 'sales', 'limited', 'marchapril', 'selling', 'dollar', 'junejuly', 'dollar', 'times', 'new', 'york', 'july', 'augsept', 'dollar', 'times', 'new', 'york', 'sept', 'octdec', 'times', 'new', 'york', 'dec', 'comissaria', 'smith', 'said', 'total', 'bahia', 'sales', 'currently', 'estimated', 'mln', 'bags', 'crop', 'mln', 'bags', 'crop', 'final', 'figures', 'period', 'february', 'expected', 'published', 'brazilian', 'cocoa', 'trade', 'commission', 'carnival', 'ends', 'midday', 'february']\n"
     ]
    }
   ],
   "source": [
    "print('\\nNumber of training documents:',len(train_text))\n",
    "print('\\nFirst item after text preprocessing, train_text[0]\\n',train_text[0])\n",
    "print('\\nNumber of training token lists:',len(train_tokens))\n",
    "print('\\nFirst list of tokens after text preprocessing, train_tokens[0]\\n',train_tokens[0])"
   ]
  },
  {
   "cell_type": "code",
   "execution_count": 21,
   "metadata": {},
   "outputs": [],
   "source": [
    "test_tokens = []  # list of token lists\n",
    "test_text = [] # list of document strings for sklearn TF-IDF\n",
    "for doc in cleaned_test_documents:\n",
    "    text_string = doc\n",
    "    # parse words one at a time in document string\n",
    "    tokens,text_string = toknize(text_string)\n",
    "    test_tokens.append(text_string)\n",
    "    test_text.append(text_string)\n"
   ]
  },
  {
   "cell_type": "markdown",
   "metadata": {},
   "source": [
    "# Exploratory Data Analysis (EDA)"
   ]
  },
  {
   "cell_type": "markdown",
   "metadata": {},
   "source": [
    "### Counting The Number Of Words In The Corpus\n"
   ]
  },
  {
   "cell_type": "code",
   "execution_count": 22,
   "metadata": {},
   "outputs": [
    {
     "name": "stdout",
     "output_type": "stream",
     "text": [
      "There are 603572 words in the data corpus\n"
     ]
    }
   ],
   "source": [
    "indexes = [word for doc in train_tokens for word in doc]  \n",
    "print(f\"There are {len(indexes)} words in the data corpus\")"
   ]
  },
  {
   "cell_type": "markdown",
   "metadata": {},
   "source": [
    "### The top 50 most common words:"
   ]
  },
  {
   "cell_type": "code",
   "execution_count": 23,
   "metadata": {},
   "outputs": [
    {
     "name": "stdout",
     "output_type": "stream",
     "text": [
      "[('said', 18838), ('mln', 13089), ('dollar', 9811), ('percent', 7398), ('cts', 5775), ('year', 5082), ('net', 4561), ('billion', 4104), ('loss', 4001), ('would', 3400), ('company', 2974), ('inc', 2894), ('shr', 2614), ('bank', 2587), ('last', 2393), ('trade', 2313), ('corp', 2301), ('oil', 2266), ('share', 2259), ('profit', 2243), ('market', 2030), ('new', 2010), ('one', 1925), ('stock', 1916), ('also', 1908), ('shares', 1895), ('tonnes', 1857), ('two', 1723), ('march', 1663), ('qtr', 1657), ('prices', 1649), ('sales', 1587), ('revs', 1565), ('per', 1513), ('february', 1511), ('january', 1484), ('april', 1459), ('group', 1419), ('may', 1355), ('first', 1345), ('rate', 1341), ('quarter', 1337), ('price', 1274), ('offer', 1256), ('exchange', 1184), ('agreement', 1126), ('government', 1126), ('foreign', 1101), ('japan', 1098), ('rose', 1095)]\n",
      "27160\n"
     ]
    }
   ],
   "source": [
    "corpus_freq = Counter(indexes).most_common()\n",
    "print(corpus_freq[:50])\n",
    "print(len(corpus_freq))"
   ]
  },
  {
   "cell_type": "markdown",
   "metadata": {},
   "source": [
    "### How many words occur just once in the data set?\n"
   ]
  },
  {
   "cell_type": "code",
   "execution_count": 23,
   "metadata": {},
   "outputs": [
    {
     "name": "stdout",
     "output_type": "stream",
     "text": [
      "There are 10697 words that occur just once in the data corpus totaling 1638886 words\n"
     ]
    }
   ],
   "source": [
    "uniques = [word for word,freq in Counter(indexes).items() if freq == 1]\n",
    "print(f\"There are {len(uniques)} words that occur just once in the data corpus totaling 1638886 words\")"
   ]
  },
  {
   "cell_type": "markdown",
   "metadata": {},
   "source": [
    "### Number Of Words Without Duplication"
   ]
  },
  {
   "cell_type": "code",
   "execution_count": 25,
   "metadata": {},
   "outputs": [
    {
     "name": "stdout",
     "output_type": "stream",
     "text": [
      "There are 27160 words in the data corpus that represent the vocabulary\n"
     ]
    }
   ],
   "source": [
    "unique_indexes = list(set(indexes))\n",
    "print(f\"There are {len(unique_indexes)} words in the data corpus that represent the vocabulary\")"
   ]
  },
  {
   "cell_type": "markdown",
   "metadata": {},
   "source": [
    "### How often does each word occur?\n"
   ]
  },
  {
   "cell_type": "code",
   "execution_count": 24,
   "metadata": {},
   "outputs": [
    {
     "data": {
      "text/html": [
       "<div>\n",
       "<style scoped>\n",
       "    .dataframe tbody tr th:only-of-type {\n",
       "        vertical-align: middle;\n",
       "    }\n",
       "\n",
       "    .dataframe tbody tr th {\n",
       "        vertical-align: top;\n",
       "    }\n",
       "\n",
       "    .dataframe thead th {\n",
       "        text-align: right;\n",
       "    }\n",
       "</style>\n",
       "<table border=\"1\" class=\"dataframe\">\n",
       "  <thead>\n",
       "    <tr style=\"text-align: right;\">\n",
       "      <th></th>\n",
       "      <th>words</th>\n",
       "      <th>num of words</th>\n",
       "    </tr>\n",
       "  </thead>\n",
       "  <tbody>\n",
       "    <tr>\n",
       "      <th>0</th>\n",
       "      <td>said</td>\n",
       "      <td>18838</td>\n",
       "    </tr>\n",
       "    <tr>\n",
       "      <th>1</th>\n",
       "      <td>mln</td>\n",
       "      <td>13089</td>\n",
       "    </tr>\n",
       "    <tr>\n",
       "      <th>2</th>\n",
       "      <td>dollar</td>\n",
       "      <td>9811</td>\n",
       "    </tr>\n",
       "    <tr>\n",
       "      <th>3</th>\n",
       "      <td>percent</td>\n",
       "      <td>7398</td>\n",
       "    </tr>\n",
       "    <tr>\n",
       "      <th>4</th>\n",
       "      <td>cts</td>\n",
       "      <td>5775</td>\n",
       "    </tr>\n",
       "    <tr>\n",
       "      <th>5</th>\n",
       "      <td>year</td>\n",
       "      <td>5082</td>\n",
       "    </tr>\n",
       "    <tr>\n",
       "      <th>6</th>\n",
       "      <td>net</td>\n",
       "      <td>4561</td>\n",
       "    </tr>\n",
       "    <tr>\n",
       "      <th>7</th>\n",
       "      <td>billion</td>\n",
       "      <td>4104</td>\n",
       "    </tr>\n",
       "    <tr>\n",
       "      <th>8</th>\n",
       "      <td>loss</td>\n",
       "      <td>4001</td>\n",
       "    </tr>\n",
       "    <tr>\n",
       "      <th>9</th>\n",
       "      <td>would</td>\n",
       "      <td>3400</td>\n",
       "    </tr>\n",
       "  </tbody>\n",
       "</table>\n",
       "</div>"
      ],
      "text/plain": [
       "     words  num of words\n",
       "0     said         18838\n",
       "1      mln         13089\n",
       "2   dollar          9811\n",
       "3  percent          7398\n",
       "4      cts          5775\n",
       "5     year          5082\n",
       "6      net          4561\n",
       "7  billion          4104\n",
       "8     loss          4001\n",
       "9    would          3400"
      ]
     },
     "execution_count": 24,
     "metadata": {},
     "output_type": "execute_result"
    }
   ],
   "source": [
    "vocabulary_df = pd.DataFrame(Counter(indexes).most_common(),columns=['words', 'num of words'])\n",
    "vocabulary_df.head(10)"
   ]
  },
  {
   "cell_type": "markdown",
   "metadata": {},
   "source": [
    "### How many words are in each document?\n"
   ]
  },
  {
   "cell_type": "code",
   "execution_count": 25,
   "metadata": {},
   "outputs": [
    {
     "name": "stdout",
     "output_type": "stream",
     "text": [
      "Number of words in Rueters News Articles: 0 to 807\n",
      "There are a total of 603572 words in the data corpus\n"
     ]
    }
   ],
   "source": [
    "doc_sizes = ([len(lst) for lst in train_tokens]) # num of words in each document\n",
    "print(f\"Number of words in Rueters News Articles: {min(doc_sizes)} to {max(doc_sizes)}\")\n",
    "print(f\"There are a total of {sum(doc_sizes)} words in the data corpus\")"
   ]
  },
  {
   "cell_type": "markdown",
   "metadata": {},
   "source": [
    "# Learn and transform train and test documents using tf-idf\n"
   ]
  },
  {
   "cell_type": "code",
   "execution_count": 28,
   "metadata": {},
   "outputs": [
    {
     "name": "stderr",
     "output_type": "stream",
     "text": [
      "C:\\Users\\HP\\anaconda_new\\lib\\site-packages\\sklearn\\utils\\deprecation.py:87: FutureWarning: Function get_feature_names is deprecated; get_feature_names is deprecated in 1.0 and will be removed in 1.2. Please use get_feature_names_out instead.\n",
      "  warnings.warn(msg, category=FutureWarning)\n"
     ]
    }
   ],
   "source": [
    "# Learn and transform train documents\n",
    "vectorizer = TfidfVectorizer(tokenizer=word_tokenize,max_df=0.95, min_df=3,max_features=1000)\n",
    "vectorised_train_documents = vectorizer.fit_transform(train_text)\n",
    "# transform test documents\n",
    "vectorised_test_documents = vectorizer.transform(test_text)\n",
    "train_feature_names= vectorizer.get_feature_names()"
   ]
  },
  {
   "cell_type": "code",
   "execution_count": 31,
   "metadata": {},
   "outputs": [
    {
     "data": {
      "text/html": [
       "<div>\n",
       "<style scoped>\n",
       "    .dataframe tbody tr th:only-of-type {\n",
       "        vertical-align: middle;\n",
       "    }\n",
       "\n",
       "    .dataframe tbody tr th {\n",
       "        vertical-align: top;\n",
       "    }\n",
       "\n",
       "    .dataframe thead th {\n",
       "        text-align: right;\n",
       "    }\n",
       "</style>\n",
       "<table border=\"1\" class=\"dataframe\">\n",
       "  <thead>\n",
       "    <tr style=\"text-align: right;\">\n",
       "      <th></th>\n",
       "      <th>able</th>\n",
       "      <th>accept</th>\n",
       "      <th>accepted</th>\n",
       "      <th>accord</th>\n",
       "      <th>according</th>\n",
       "      <th>account</th>\n",
       "      <th>accounting</th>\n",
       "      <th>acquire</th>\n",
       "      <th>acquired</th>\n",
       "      <th>acquisition</th>\n",
       "      <th>...</th>\n",
       "      <th>year</th>\n",
       "      <th>yearago</th>\n",
       "      <th>yearonyear</th>\n",
       "      <th>yen</th>\n",
       "      <th>yesterday</th>\n",
       "      <th>yet</th>\n",
       "      <th>yeutter</th>\n",
       "      <th>yield</th>\n",
       "      <th>york</th>\n",
       "      <th>zealand</th>\n",
       "    </tr>\n",
       "  </thead>\n",
       "  <tbody>\n",
       "    <tr>\n",
       "      <th>0</th>\n",
       "      <td>0.0</td>\n",
       "      <td>0.0</td>\n",
       "      <td>0.0</td>\n",
       "      <td>0.0</td>\n",
       "      <td>0.0</td>\n",
       "      <td>0.0</td>\n",
       "      <td>0.0</td>\n",
       "      <td>0.000000</td>\n",
       "      <td>0.0</td>\n",
       "      <td>0.0</td>\n",
       "      <td>...</td>\n",
       "      <td>0.039583</td>\n",
       "      <td>0.000000</td>\n",
       "      <td>0.00000</td>\n",
       "      <td>0.0</td>\n",
       "      <td>0.00000</td>\n",
       "      <td>0.0</td>\n",
       "      <td>0.0</td>\n",
       "      <td>0.0</td>\n",
       "      <td>0.35135</td>\n",
       "      <td>0.00000</td>\n",
       "    </tr>\n",
       "    <tr>\n",
       "      <th>1</th>\n",
       "      <td>0.0</td>\n",
       "      <td>0.0</td>\n",
       "      <td>0.0</td>\n",
       "      <td>0.0</td>\n",
       "      <td>0.0</td>\n",
       "      <td>0.0</td>\n",
       "      <td>0.0</td>\n",
       "      <td>0.071301</td>\n",
       "      <td>0.0</td>\n",
       "      <td>0.0</td>\n",
       "      <td>...</td>\n",
       "      <td>0.033978</td>\n",
       "      <td>0.000000</td>\n",
       "      <td>0.00000</td>\n",
       "      <td>0.0</td>\n",
       "      <td>0.00000</td>\n",
       "      <td>0.0</td>\n",
       "      <td>0.0</td>\n",
       "      <td>0.0</td>\n",
       "      <td>0.00000</td>\n",
       "      <td>0.00000</td>\n",
       "    </tr>\n",
       "    <tr>\n",
       "      <th>2</th>\n",
       "      <td>0.0</td>\n",
       "      <td>0.0</td>\n",
       "      <td>0.0</td>\n",
       "      <td>0.0</td>\n",
       "      <td>0.0</td>\n",
       "      <td>0.0</td>\n",
       "      <td>0.0</td>\n",
       "      <td>0.000000</td>\n",
       "      <td>0.0</td>\n",
       "      <td>0.0</td>\n",
       "      <td>...</td>\n",
       "      <td>0.095733</td>\n",
       "      <td>0.000000</td>\n",
       "      <td>0.13972</td>\n",
       "      <td>0.0</td>\n",
       "      <td>0.00000</td>\n",
       "      <td>0.0</td>\n",
       "      <td>0.0</td>\n",
       "      <td>0.0</td>\n",
       "      <td>0.00000</td>\n",
       "      <td>0.13972</td>\n",
       "    </tr>\n",
       "    <tr>\n",
       "      <th>3</th>\n",
       "      <td>0.0</td>\n",
       "      <td>0.0</td>\n",
       "      <td>0.0</td>\n",
       "      <td>0.0</td>\n",
       "      <td>0.0</td>\n",
       "      <td>0.0</td>\n",
       "      <td>0.0</td>\n",
       "      <td>0.000000</td>\n",
       "      <td>0.0</td>\n",
       "      <td>0.0</td>\n",
       "      <td>...</td>\n",
       "      <td>0.000000</td>\n",
       "      <td>0.000000</td>\n",
       "      <td>0.00000</td>\n",
       "      <td>0.0</td>\n",
       "      <td>0.10364</td>\n",
       "      <td>0.0</td>\n",
       "      <td>0.0</td>\n",
       "      <td>0.0</td>\n",
       "      <td>0.00000</td>\n",
       "      <td>0.00000</td>\n",
       "    </tr>\n",
       "    <tr>\n",
       "      <th>4</th>\n",
       "      <td>0.0</td>\n",
       "      <td>0.0</td>\n",
       "      <td>0.0</td>\n",
       "      <td>0.0</td>\n",
       "      <td>0.0</td>\n",
       "      <td>0.0</td>\n",
       "      <td>0.0</td>\n",
       "      <td>0.000000</td>\n",
       "      <td>0.0</td>\n",
       "      <td>0.0</td>\n",
       "      <td>...</td>\n",
       "      <td>0.066271</td>\n",
       "      <td>0.181574</td>\n",
       "      <td>0.00000</td>\n",
       "      <td>0.0</td>\n",
       "      <td>0.00000</td>\n",
       "      <td>0.0</td>\n",
       "      <td>0.0</td>\n",
       "      <td>0.0</td>\n",
       "      <td>0.00000</td>\n",
       "      <td>0.00000</td>\n",
       "    </tr>\n",
       "  </tbody>\n",
       "</table>\n",
       "<p>5 rows × 1000 columns</p>\n",
       "</div>"
      ],
      "text/plain": [
       "   able  accept  accepted  accord  according  account  accounting   acquire  \\\n",
       "0   0.0     0.0       0.0     0.0        0.0      0.0         0.0  0.000000   \n",
       "1   0.0     0.0       0.0     0.0        0.0      0.0         0.0  0.071301   \n",
       "2   0.0     0.0       0.0     0.0        0.0      0.0         0.0  0.000000   \n",
       "3   0.0     0.0       0.0     0.0        0.0      0.0         0.0  0.000000   \n",
       "4   0.0     0.0       0.0     0.0        0.0      0.0         0.0  0.000000   \n",
       "\n",
       "   acquired  acquisition  ...      year   yearago  yearonyear  yen  yesterday  \\\n",
       "0       0.0          0.0  ...  0.039583  0.000000     0.00000  0.0    0.00000   \n",
       "1       0.0          0.0  ...  0.033978  0.000000     0.00000  0.0    0.00000   \n",
       "2       0.0          0.0  ...  0.095733  0.000000     0.13972  0.0    0.00000   \n",
       "3       0.0          0.0  ...  0.000000  0.000000     0.00000  0.0    0.10364   \n",
       "4       0.0          0.0  ...  0.066271  0.181574     0.00000  0.0    0.00000   \n",
       "\n",
       "   yet  yeutter  yield     york  zealand  \n",
       "0  0.0      0.0    0.0  0.35135  0.00000  \n",
       "1  0.0      0.0    0.0  0.00000  0.00000  \n",
       "2  0.0      0.0    0.0  0.00000  0.13972  \n",
       "3  0.0      0.0    0.0  0.00000  0.00000  \n",
       "4  0.0      0.0    0.0  0.00000  0.00000  \n",
       "\n",
       "[5 rows x 1000 columns]"
      ]
     },
     "execution_count": 31,
     "metadata": {},
     "output_type": "execute_result"
    }
   ],
   "source": [
    "#transform the sparse matrix to dense matrix and creat Daraframe of feature space  \n",
    "vectorised_train_documents_df= pd.DataFrame(vectorised_train_documents.todense(), columns = train_feature_names)\n",
    "vectorised_train_documents_df.head()"
   ]
  },
  {
   "cell_type": "code",
   "execution_count": 160,
   "metadata": {},
   "outputs": [],
   "source": [
    "# for col in vectorised_train_documents.nonzero()[1]:# 1 means presenting the frequent of each term by the term \n",
    "#     print(train_feature_names[col], ' ',vectorised_train_documents[0,col])#tf-idf for first doc "
   ]
  },
  {
   "cell_type": "code",
   "execution_count": 32,
   "metadata": {},
   "outputs": [
    {
     "name": "stderr",
     "output_type": "stream",
     "text": [
      "C:\\Users\\HP\\anaconda_new\\lib\\site-packages\\sklearn\\utils\\deprecation.py:87: FutureWarning: Function get_feature_names is deprecated; get_feature_names is deprecated in 1.0 and will be removed in 1.2. Please use get_feature_names_out instead.\n",
      "  warnings.warn(msg, category=FutureWarning)\n"
     ]
    },
    {
     "data": {
      "image/png": "[encoded data removed]",
      "text/plain": [
       "<Figure size 576x396 with 1 Axes>"
      ]
     },
     "metadata": {},
     "output_type": "display_data"
    },
    {
     "data": {
      "text/plain": [
       "<AxesSubplot:title={'center':'Frequency Distribution of Top 50 tokens'}>"
      ]
     },
     "execution_count": 32,
     "metadata": {},
     "output_type": "execute_result"
    }
   ],
   "source": [
    "from yellowbrick.text import FreqDistVisualizer\n",
    "features = vectorizer.get_feature_names()\n",
    "visualizer = FreqDistVisualizer(features=features, orient='v')\n",
    "visualizer.fit(vectorised_train_documents)\n",
    "visualizer.show()"
   ]
  },
  {
   "cell_type": "markdown",
   "metadata": {},
   "source": [
    "# Visualize the dataset with T-SNE"
   ]
  },
  {
   "cell_type": "code",
   "execution_count": 33,
   "metadata": {},
   "outputs": [
    {
     "name": "stderr",
     "output_type": "stream",
     "text": [
      "C:\\Users\\HP\\anaconda_new\\lib\\site-packages\\sklearn\\manifold\\_t_sne.py:780: FutureWarning: The default initialization in TSNE will change from 'random' to 'pca' in 1.2.\n",
      "  warnings.warn(\n",
      "C:\\Users\\HP\\anaconda_new\\lib\\site-packages\\sklearn\\manifold\\_t_sne.py:790: FutureWarning: The default learning rate in TSNE will change from 200.0 to 'auto' in 1.2.\n",
      "  warnings.warn(\n",
      "*c* argument looks like a single numeric RGB or RGBA sequence, which should be avoided as value-mapping will have precedence in case its length matches with *x* & *y*.  Please use the *color* keyword-argument or provide a 2D array with a single row if you intend to specify the same RGB or RGBA value for all points.\n"
     ]
    },
    {
     "data": {
      "image/png": "[encoded data removed]",
      "text/plain": [
       "<Figure size 576x396 with 1 Axes>"
      ]
     },
     "metadata": {},
     "output_type": "display_data"
    },
    {
     "data": {
      "text/plain": [
       "<AxesSubplot:title={'center':'TSNE Projection of 7769 Documents'}>"
      ]
     },
     "execution_count": 33,
     "metadata": {},
     "output_type": "execute_result"
    }
   ],
   "source": [
    "from yellowbrick.text import TSNEVisualizer\n",
    "tsne = TSNEVisualizer()\n",
    "tsne.fit(vectorised_train_documents)\n",
    "tsne.show()"
   ]
  },
  {
   "cell_type": "code",
   "execution_count": 217,
   "metadata": {},
   "outputs": [],
   "source": [
    "# from yellowbrick.text import UMAPVisualizer\n",
    "# from sklearn.cluster import KMeans\n",
    "\n",
    "# umap = UMAPVisualizer(metric=\"cosine\")\n",
    "# umap.fit(vectorised_train_documents)\n",
    "# umap.show()"
   ]
  },
  {
   "cell_type": "code",
   "execution_count": 218,
   "metadata": {},
   "outputs": [],
   "source": [
    "# from sklearn.decomposition import PCA"
   ]
  },
  {
   "cell_type": "code",
   "execution_count": 219,
   "metadata": {},
   "outputs": [],
   "source": [
    "# pca_out = PCA(1000).fit(vectorised_train_documents_df)"
   ]
  },
  {
   "cell_type": "code",
   "execution_count": 220,
   "metadata": {},
   "outputs": [],
   "source": [
    "# print(pca_out.explained_variance_ratio_)\n",
    "# print(len(pca_out.explained_variance_ratio_))"
   ]
  },
  {
   "cell_type": "code",
   "execution_count": 221,
   "metadata": {},
   "outputs": [],
   "source": [
    "# print(np.max((pca_out.components_)))\n",
    "# print(pca_out.components_)\n",
    "# print(type(pca_out.components_))"
   ]
  },
  {
   "cell_type": "code",
   "execution_count": 222,
   "metadata": {},
   "outputs": [],
   "source": [
    "# print(np.sum(pca_out.explained_variance_))"
   ]
  },
  {
   "cell_type": "code",
   "execution_count": 223,
   "metadata": {},
   "outputs": [],
   "source": [
    "# np.cumsum(pca_out.explained_variance_ratio_)\n"
   ]
  },
  {
   "cell_type": "code",
   "execution_count": 224,
   "metadata": {},
   "outputs": [],
   "source": [
    "# loadings = pca_out.components_\n",
    "# num_pc = pca_out.n_features_\n",
    "# pc_list = [\"PC\"+str(i) for i in list(range(1, num_pc+1))]\n",
    "# loadings_df = pd.DataFrame.from_dict(dict(zip(pc_list, loadings)))\n",
    "# loadings_df['variable'] = vectorised_train_documents_df.columns.values\n",
    "# loadings_df = loadings_df.set_index('variable')\n",
    "# loadings_df"
   ]
  },
  {
   "cell_type": "markdown",
   "metadata": {},
   "source": [
    "# Train and Evaluate Classifiers\n"
   ]
  },
  {
   "cell_type": "code",
   "execution_count": 34,
   "metadata": {},
   "outputs": [],
   "source": [
    "from sklearn.metrics import accuracy_score, precision_score, recall_score, f1_score, confusion_matrix, hamming_loss\n",
    "\n",
    "ModelsPerformance = {}\n",
    "\n",
    "def metricsReport(modelName, test_labels, predictions):\n",
    "    accuracy = accuracy_score(test_labels, predictions)\n",
    "\n",
    "    macro_precision = precision_score(test_labels, predictions, average='macro')\n",
    "    macro_recall = recall_score(test_labels, predictions, average='macro')\n",
    "    macro_f1 = f1_score(test_labels, predictions, average='macro')\n",
    "\n",
    "    micro_precision = precision_score(test_labels, predictions, average='micro')\n",
    "    micro_recall = recall_score(test_labels, predictions, average='micro')\n",
    "    micro_f1 = f1_score(test_labels, predictions, average='micro')\n",
    "    hamLoss = hamming_loss(test_labels, predictions)\n",
    "    print(\"------\" + modelName + \" Model Metrics-----\")\n",
    "    print(\"Accuracy: {:.4f}\\nHamming Loss: {:.4f}\\nPrecision:\\n  - Macro: {:.4f}\\n  - Micro: {:.4f}\\nRecall:\\n  - Macro: {:.4f}\\n  - Micro: {:.4f}\\nF1-measure:\\n  - Macro: {:.4f}\\n  - Micro: {:.4f}\"\\\n",
    "          .format(accuracy, hamLoss, macro_precision, micro_precision, macro_recall, micro_recall, macro_f1, micro_f1))\n",
    "    ModelsPerformance[modelName] = micro_f1"
   ]
  },
  {
   "cell_type": "markdown",
   "metadata": {},
   "source": [
    "# Transform Multilabel labels\n"
   ]
  },
  {
   "cell_type": "code",
   "execution_count": 37,
   "metadata": {},
   "outputs": [],
   "source": [
    "#encode multi-label per instance \n",
    "mlb = MultiLabelBinarizer()\n",
    "train_labels = mlb.fit_transform(train_categories)\n",
    "test_labels = mlb.transform(test_categories)"
   ]
  },
  {
   "cell_type": "code",
   "execution_count": 38,
   "metadata": {
    "scrolled": true
   },
   "outputs": [
    {
     "data": {
      "text/plain": [
       "array(['acq', 'alum', 'barley', 'bop', 'carcass', 'castor-oil', 'cocoa',\n",
       "       'coconut', 'coconut-oil', 'coffee', 'copper', 'copra-cake', 'corn',\n",
       "       'cotton', 'cotton-oil', 'cpi', 'cpu', 'crude', 'dfl', 'dlr', 'dmk',\n",
       "       'earn', 'fuel', 'gas', 'gnp', 'gold', 'grain', 'groundnut',\n",
       "       'groundnut-oil', 'heat', 'hog', 'housing', 'income', 'instal-debt',\n",
       "       'interest', 'ipi', 'iron-steel', 'jet', 'jobs', 'l-cattle', 'lead',\n",
       "       'lei', 'lin-oil', 'livestock', 'lumber', 'meal-feed', 'money-fx',\n",
       "       'money-supply', 'naphtha', 'nat-gas', 'nickel', 'nkr', 'nzdlr',\n",
       "       'oat', 'oilseed', 'orange', 'palladium', 'palm-oil', 'palmkernel',\n",
       "       'pet-chem', 'platinum', 'potato', 'propane', 'rand', 'rape-oil',\n",
       "       'rapeseed', 'reserves', 'retail', 'rice', 'rubber', 'rye', 'ship',\n",
       "       'silver', 'sorghum', 'soy-meal', 'soy-oil', 'soybean',\n",
       "       'strategic-metal', 'sugar', 'sun-meal', 'sun-oil', 'sunseed',\n",
       "       'tea', 'tin', 'trade', 'veg-oil', 'wheat', 'wpi', 'yen', 'zinc'],\n",
       "      dtype=object)"
      ]
     },
     "execution_count": 38,
     "metadata": {},
     "output_type": "execute_result"
    }
   ],
   "source": [
    "mlb.classes_"
   ]
  },
  {
   "cell_type": "code",
   "execution_count": 39,
   "metadata": {},
   "outputs": [
    {
     "data": {
      "text/html": [
       "<div>\n",
       "<style scoped>\n",
       "    .dataframe tbody tr th:only-of-type {\n",
       "        vertical-align: middle;\n",
       "    }\n",
       "\n",
       "    .dataframe tbody tr th {\n",
       "        vertical-align: top;\n",
       "    }\n",
       "\n",
       "    .dataframe thead th {\n",
       "        text-align: right;\n",
       "    }\n",
       "</style>\n",
       "<table border=\"1\" class=\"dataframe\">\n",
       "  <thead>\n",
       "    <tr style=\"text-align: right;\">\n",
       "      <th></th>\n",
       "      <th>acq</th>\n",
       "      <th>alum</th>\n",
       "      <th>barley</th>\n",
       "      <th>bop</th>\n",
       "      <th>carcass</th>\n",
       "      <th>castor-oil</th>\n",
       "      <th>cocoa</th>\n",
       "      <th>coconut</th>\n",
       "      <th>coconut-oil</th>\n",
       "      <th>coffee</th>\n",
       "      <th>...</th>\n",
       "      <th>sun-oil</th>\n",
       "      <th>sunseed</th>\n",
       "      <th>tea</th>\n",
       "      <th>tin</th>\n",
       "      <th>trade</th>\n",
       "      <th>veg-oil</th>\n",
       "      <th>wheat</th>\n",
       "      <th>wpi</th>\n",
       "      <th>yen</th>\n",
       "      <th>zinc</th>\n",
       "    </tr>\n",
       "  </thead>\n",
       "  <tbody>\n",
       "    <tr>\n",
       "      <th>0</th>\n",
       "      <td>0</td>\n",
       "      <td>0</td>\n",
       "      <td>0</td>\n",
       "      <td>0</td>\n",
       "      <td>0</td>\n",
       "      <td>0</td>\n",
       "      <td>1</td>\n",
       "      <td>0</td>\n",
       "      <td>0</td>\n",
       "      <td>0</td>\n",
       "      <td>...</td>\n",
       "      <td>0</td>\n",
       "      <td>0</td>\n",
       "      <td>0</td>\n",
       "      <td>0</td>\n",
       "      <td>0</td>\n",
       "      <td>0</td>\n",
       "      <td>0</td>\n",
       "      <td>0</td>\n",
       "      <td>0</td>\n",
       "      <td>0</td>\n",
       "    </tr>\n",
       "    <tr>\n",
       "      <th>1</th>\n",
       "      <td>1</td>\n",
       "      <td>0</td>\n",
       "      <td>0</td>\n",
       "      <td>0</td>\n",
       "      <td>0</td>\n",
       "      <td>0</td>\n",
       "      <td>0</td>\n",
       "      <td>0</td>\n",
       "      <td>0</td>\n",
       "      <td>0</td>\n",
       "      <td>...</td>\n",
       "      <td>0</td>\n",
       "      <td>0</td>\n",
       "      <td>0</td>\n",
       "      <td>0</td>\n",
       "      <td>0</td>\n",
       "      <td>0</td>\n",
       "      <td>0</td>\n",
       "      <td>0</td>\n",
       "      <td>0</td>\n",
       "      <td>0</td>\n",
       "    </tr>\n",
       "    <tr>\n",
       "      <th>2</th>\n",
       "      <td>0</td>\n",
       "      <td>0</td>\n",
       "      <td>0</td>\n",
       "      <td>0</td>\n",
       "      <td>0</td>\n",
       "      <td>0</td>\n",
       "      <td>0</td>\n",
       "      <td>0</td>\n",
       "      <td>0</td>\n",
       "      <td>0</td>\n",
       "      <td>...</td>\n",
       "      <td>0</td>\n",
       "      <td>0</td>\n",
       "      <td>0</td>\n",
       "      <td>0</td>\n",
       "      <td>0</td>\n",
       "      <td>0</td>\n",
       "      <td>0</td>\n",
       "      <td>0</td>\n",
       "      <td>0</td>\n",
       "      <td>0</td>\n",
       "    </tr>\n",
       "    <tr>\n",
       "      <th>3</th>\n",
       "      <td>1</td>\n",
       "      <td>0</td>\n",
       "      <td>0</td>\n",
       "      <td>0</td>\n",
       "      <td>0</td>\n",
       "      <td>0</td>\n",
       "      <td>0</td>\n",
       "      <td>0</td>\n",
       "      <td>0</td>\n",
       "      <td>0</td>\n",
       "      <td>...</td>\n",
       "      <td>0</td>\n",
       "      <td>0</td>\n",
       "      <td>0</td>\n",
       "      <td>0</td>\n",
       "      <td>0</td>\n",
       "      <td>0</td>\n",
       "      <td>0</td>\n",
       "      <td>0</td>\n",
       "      <td>0</td>\n",
       "      <td>0</td>\n",
       "    </tr>\n",
       "    <tr>\n",
       "      <th>4</th>\n",
       "      <td>0</td>\n",
       "      <td>0</td>\n",
       "      <td>0</td>\n",
       "      <td>0</td>\n",
       "      <td>0</td>\n",
       "      <td>0</td>\n",
       "      <td>0</td>\n",
       "      <td>0</td>\n",
       "      <td>0</td>\n",
       "      <td>0</td>\n",
       "      <td>...</td>\n",
       "      <td>0</td>\n",
       "      <td>0</td>\n",
       "      <td>0</td>\n",
       "      <td>0</td>\n",
       "      <td>0</td>\n",
       "      <td>0</td>\n",
       "      <td>0</td>\n",
       "      <td>0</td>\n",
       "      <td>0</td>\n",
       "      <td>0</td>\n",
       "    </tr>\n",
       "    <tr>\n",
       "      <th>5</th>\n",
       "      <td>0</td>\n",
       "      <td>0</td>\n",
       "      <td>0</td>\n",
       "      <td>0</td>\n",
       "      <td>0</td>\n",
       "      <td>0</td>\n",
       "      <td>0</td>\n",
       "      <td>0</td>\n",
       "      <td>0</td>\n",
       "      <td>0</td>\n",
       "      <td>...</td>\n",
       "      <td>0</td>\n",
       "      <td>0</td>\n",
       "      <td>0</td>\n",
       "      <td>0</td>\n",
       "      <td>0</td>\n",
       "      <td>0</td>\n",
       "      <td>0</td>\n",
       "      <td>0</td>\n",
       "      <td>0</td>\n",
       "      <td>0</td>\n",
       "    </tr>\n",
       "    <tr>\n",
       "      <th>6</th>\n",
       "      <td>1</td>\n",
       "      <td>0</td>\n",
       "      <td>0</td>\n",
       "      <td>0</td>\n",
       "      <td>0</td>\n",
       "      <td>0</td>\n",
       "      <td>0</td>\n",
       "      <td>0</td>\n",
       "      <td>0</td>\n",
       "      <td>0</td>\n",
       "      <td>...</td>\n",
       "      <td>0</td>\n",
       "      <td>0</td>\n",
       "      <td>0</td>\n",
       "      <td>0</td>\n",
       "      <td>1</td>\n",
       "      <td>0</td>\n",
       "      <td>0</td>\n",
       "      <td>0</td>\n",
       "      <td>0</td>\n",
       "      <td>0</td>\n",
       "    </tr>\n",
       "    <tr>\n",
       "      <th>7</th>\n",
       "      <td>0</td>\n",
       "      <td>0</td>\n",
       "      <td>0</td>\n",
       "      <td>0</td>\n",
       "      <td>0</td>\n",
       "      <td>0</td>\n",
       "      <td>0</td>\n",
       "      <td>0</td>\n",
       "      <td>0</td>\n",
       "      <td>0</td>\n",
       "      <td>...</td>\n",
       "      <td>0</td>\n",
       "      <td>0</td>\n",
       "      <td>0</td>\n",
       "      <td>0</td>\n",
       "      <td>0</td>\n",
       "      <td>0</td>\n",
       "      <td>0</td>\n",
       "      <td>0</td>\n",
       "      <td>0</td>\n",
       "      <td>0</td>\n",
       "    </tr>\n",
       "    <tr>\n",
       "      <th>8</th>\n",
       "      <td>0</td>\n",
       "      <td>0</td>\n",
       "      <td>0</td>\n",
       "      <td>0</td>\n",
       "      <td>0</td>\n",
       "      <td>0</td>\n",
       "      <td>0</td>\n",
       "      <td>0</td>\n",
       "      <td>0</td>\n",
       "      <td>0</td>\n",
       "      <td>...</td>\n",
       "      <td>0</td>\n",
       "      <td>0</td>\n",
       "      <td>0</td>\n",
       "      <td>0</td>\n",
       "      <td>0</td>\n",
       "      <td>0</td>\n",
       "      <td>0</td>\n",
       "      <td>0</td>\n",
       "      <td>0</td>\n",
       "      <td>0</td>\n",
       "    </tr>\n",
       "    <tr>\n",
       "      <th>9</th>\n",
       "      <td>0</td>\n",
       "      <td>0</td>\n",
       "      <td>0</td>\n",
       "      <td>0</td>\n",
       "      <td>0</td>\n",
       "      <td>0</td>\n",
       "      <td>1</td>\n",
       "      <td>0</td>\n",
       "      <td>0</td>\n",
       "      <td>1</td>\n",
       "      <td>...</td>\n",
       "      <td>0</td>\n",
       "      <td>0</td>\n",
       "      <td>0</td>\n",
       "      <td>0</td>\n",
       "      <td>0</td>\n",
       "      <td>0</td>\n",
       "      <td>0</td>\n",
       "      <td>0</td>\n",
       "      <td>0</td>\n",
       "      <td>0</td>\n",
       "    </tr>\n",
       "  </tbody>\n",
       "</table>\n",
       "<p>10 rows × 90 columns</p>\n",
       "</div>"
      ],
      "text/plain": [
       "   acq  alum  barley  bop  carcass  castor-oil  cocoa  coconut  coconut-oil  \\\n",
       "0    0     0       0    0        0           0      1        0            0   \n",
       "1    1     0       0    0        0           0      0        0            0   \n",
       "2    0     0       0    0        0           0      0        0            0   \n",
       "3    1     0       0    0        0           0      0        0            0   \n",
       "4    0     0       0    0        0           0      0        0            0   \n",
       "5    0     0       0    0        0           0      0        0            0   \n",
       "6    1     0       0    0        0           0      0        0            0   \n",
       "7    0     0       0    0        0           0      0        0            0   \n",
       "8    0     0       0    0        0           0      0        0            0   \n",
       "9    0     0       0    0        0           0      1        0            0   \n",
       "\n",
       "   coffee  ...  sun-oil  sunseed  tea  tin  trade  veg-oil  wheat  wpi  yen  \\\n",
       "0       0  ...        0        0    0    0      0        0      0    0    0   \n",
       "1       0  ...        0        0    0    0      0        0      0    0    0   \n",
       "2       0  ...        0        0    0    0      0        0      0    0    0   \n",
       "3       0  ...        0        0    0    0      0        0      0    0    0   \n",
       "4       0  ...        0        0    0    0      0        0      0    0    0   \n",
       "5       0  ...        0        0    0    0      0        0      0    0    0   \n",
       "6       0  ...        0        0    0    0      1        0      0    0    0   \n",
       "7       0  ...        0        0    0    0      0        0      0    0    0   \n",
       "8       0  ...        0        0    0    0      0        0      0    0    0   \n",
       "9       1  ...        0        0    0    0      0        0      0    0    0   \n",
       "\n",
       "   zinc  \n",
       "0     0  \n",
       "1     0  \n",
       "2     0  \n",
       "3     0  \n",
       "4     0  \n",
       "5     0  \n",
       "6     0  \n",
       "7     0  \n",
       "8     0  \n",
       "9     0  \n",
       "\n",
       "[10 rows x 90 columns]"
      ]
     },
     "execution_count": 39,
     "metadata": {},
     "output_type": "execute_result"
    }
   ],
   "source": [
    "#Dataframe that represent labels per docs \n",
    "df_multilabel_train_data = pd.DataFrame(train_labels, columns=mlb.classes_)\n",
    "# Viewing few rows of data\n",
    "df_multilabel_train_data.head(10)"
   ]
  },
  {
   "cell_type": "code",
   "execution_count": 40,
   "metadata": {},
   "outputs": [
    {
     "data": {
      "text/html": [
       "<div>\n",
       "<style scoped>\n",
       "    .dataframe tbody tr th:only-of-type {\n",
       "        vertical-align: middle;\n",
       "    }\n",
       "\n",
       "    .dataframe tbody tr th {\n",
       "        vertical-align: top;\n",
       "    }\n",
       "\n",
       "    .dataframe thead th {\n",
       "        text-align: right;\n",
       "    }\n",
       "</style>\n",
       "<table border=\"1\" class=\"dataframe\">\n",
       "  <thead>\n",
       "    <tr style=\"text-align: right;\">\n",
       "      <th></th>\n",
       "      <th>acq</th>\n",
       "      <th>alum</th>\n",
       "      <th>barley</th>\n",
       "      <th>bop</th>\n",
       "      <th>carcass</th>\n",
       "      <th>castor-oil</th>\n",
       "      <th>cocoa</th>\n",
       "      <th>coconut</th>\n",
       "      <th>coconut-oil</th>\n",
       "      <th>coffee</th>\n",
       "      <th>...</th>\n",
       "      <th>sun-oil</th>\n",
       "      <th>sunseed</th>\n",
       "      <th>tea</th>\n",
       "      <th>tin</th>\n",
       "      <th>trade</th>\n",
       "      <th>veg-oil</th>\n",
       "      <th>wheat</th>\n",
       "      <th>wpi</th>\n",
       "      <th>yen</th>\n",
       "      <th>zinc</th>\n",
       "    </tr>\n",
       "  </thead>\n",
       "  <tbody>\n",
       "    <tr>\n",
       "      <th>0</th>\n",
       "      <td>0</td>\n",
       "      <td>0</td>\n",
       "      <td>0</td>\n",
       "      <td>0</td>\n",
       "      <td>0</td>\n",
       "      <td>0</td>\n",
       "      <td>0</td>\n",
       "      <td>0</td>\n",
       "      <td>0</td>\n",
       "      <td>0</td>\n",
       "      <td>...</td>\n",
       "      <td>0</td>\n",
       "      <td>0</td>\n",
       "      <td>0</td>\n",
       "      <td>0</td>\n",
       "      <td>1</td>\n",
       "      <td>0</td>\n",
       "      <td>0</td>\n",
       "      <td>0</td>\n",
       "      <td>0</td>\n",
       "      <td>0</td>\n",
       "    </tr>\n",
       "    <tr>\n",
       "      <th>1</th>\n",
       "      <td>0</td>\n",
       "      <td>0</td>\n",
       "      <td>0</td>\n",
       "      <td>0</td>\n",
       "      <td>0</td>\n",
       "      <td>0</td>\n",
       "      <td>0</td>\n",
       "      <td>0</td>\n",
       "      <td>0</td>\n",
       "      <td>0</td>\n",
       "      <td>...</td>\n",
       "      <td>0</td>\n",
       "      <td>0</td>\n",
       "      <td>0</td>\n",
       "      <td>0</td>\n",
       "      <td>0</td>\n",
       "      <td>0</td>\n",
       "      <td>0</td>\n",
       "      <td>0</td>\n",
       "      <td>0</td>\n",
       "      <td>0</td>\n",
       "    </tr>\n",
       "    <tr>\n",
       "      <th>2</th>\n",
       "      <td>0</td>\n",
       "      <td>0</td>\n",
       "      <td>0</td>\n",
       "      <td>0</td>\n",
       "      <td>0</td>\n",
       "      <td>0</td>\n",
       "      <td>0</td>\n",
       "      <td>0</td>\n",
       "      <td>0</td>\n",
       "      <td>0</td>\n",
       "      <td>...</td>\n",
       "      <td>0</td>\n",
       "      <td>0</td>\n",
       "      <td>0</td>\n",
       "      <td>0</td>\n",
       "      <td>0</td>\n",
       "      <td>0</td>\n",
       "      <td>0</td>\n",
       "      <td>0</td>\n",
       "      <td>0</td>\n",
       "      <td>0</td>\n",
       "    </tr>\n",
       "    <tr>\n",
       "      <th>3</th>\n",
       "      <td>0</td>\n",
       "      <td>0</td>\n",
       "      <td>0</td>\n",
       "      <td>0</td>\n",
       "      <td>0</td>\n",
       "      <td>0</td>\n",
       "      <td>0</td>\n",
       "      <td>0</td>\n",
       "      <td>0</td>\n",
       "      <td>0</td>\n",
       "      <td>...</td>\n",
       "      <td>0</td>\n",
       "      <td>0</td>\n",
       "      <td>0</td>\n",
       "      <td>1</td>\n",
       "      <td>1</td>\n",
       "      <td>0</td>\n",
       "      <td>0</td>\n",
       "      <td>0</td>\n",
       "      <td>0</td>\n",
       "      <td>0</td>\n",
       "    </tr>\n",
       "    <tr>\n",
       "      <th>4</th>\n",
       "      <td>0</td>\n",
       "      <td>0</td>\n",
       "      <td>0</td>\n",
       "      <td>0</td>\n",
       "      <td>0</td>\n",
       "      <td>0</td>\n",
       "      <td>0</td>\n",
       "      <td>0</td>\n",
       "      <td>0</td>\n",
       "      <td>0</td>\n",
       "      <td>...</td>\n",
       "      <td>0</td>\n",
       "      <td>0</td>\n",
       "      <td>0</td>\n",
       "      <td>0</td>\n",
       "      <td>0</td>\n",
       "      <td>1</td>\n",
       "      <td>0</td>\n",
       "      <td>0</td>\n",
       "      <td>0</td>\n",
       "      <td>0</td>\n",
       "    </tr>\n",
       "    <tr>\n",
       "      <th>5</th>\n",
       "      <td>0</td>\n",
       "      <td>0</td>\n",
       "      <td>0</td>\n",
       "      <td>0</td>\n",
       "      <td>0</td>\n",
       "      <td>0</td>\n",
       "      <td>0</td>\n",
       "      <td>0</td>\n",
       "      <td>0</td>\n",
       "      <td>0</td>\n",
       "      <td>...</td>\n",
       "      <td>0</td>\n",
       "      <td>0</td>\n",
       "      <td>0</td>\n",
       "      <td>0</td>\n",
       "      <td>0</td>\n",
       "      <td>0</td>\n",
       "      <td>0</td>\n",
       "      <td>0</td>\n",
       "      <td>0</td>\n",
       "      <td>0</td>\n",
       "    </tr>\n",
       "    <tr>\n",
       "      <th>6</th>\n",
       "      <td>0</td>\n",
       "      <td>0</td>\n",
       "      <td>0</td>\n",
       "      <td>0</td>\n",
       "      <td>0</td>\n",
       "      <td>0</td>\n",
       "      <td>0</td>\n",
       "      <td>0</td>\n",
       "      <td>0</td>\n",
       "      <td>1</td>\n",
       "      <td>...</td>\n",
       "      <td>0</td>\n",
       "      <td>0</td>\n",
       "      <td>0</td>\n",
       "      <td>0</td>\n",
       "      <td>0</td>\n",
       "      <td>1</td>\n",
       "      <td>0</td>\n",
       "      <td>0</td>\n",
       "      <td>0</td>\n",
       "      <td>0</td>\n",
       "    </tr>\n",
       "    <tr>\n",
       "      <th>7</th>\n",
       "      <td>0</td>\n",
       "      <td>0</td>\n",
       "      <td>0</td>\n",
       "      <td>0</td>\n",
       "      <td>0</td>\n",
       "      <td>0</td>\n",
       "      <td>0</td>\n",
       "      <td>0</td>\n",
       "      <td>0</td>\n",
       "      <td>0</td>\n",
       "      <td>...</td>\n",
       "      <td>0</td>\n",
       "      <td>0</td>\n",
       "      <td>0</td>\n",
       "      <td>0</td>\n",
       "      <td>0</td>\n",
       "      <td>0</td>\n",
       "      <td>1</td>\n",
       "      <td>0</td>\n",
       "      <td>0</td>\n",
       "      <td>0</td>\n",
       "    </tr>\n",
       "    <tr>\n",
       "      <th>8</th>\n",
       "      <td>0</td>\n",
       "      <td>0</td>\n",
       "      <td>0</td>\n",
       "      <td>0</td>\n",
       "      <td>0</td>\n",
       "      <td>0</td>\n",
       "      <td>0</td>\n",
       "      <td>0</td>\n",
       "      <td>0</td>\n",
       "      <td>0</td>\n",
       "      <td>...</td>\n",
       "      <td>0</td>\n",
       "      <td>0</td>\n",
       "      <td>0</td>\n",
       "      <td>0</td>\n",
       "      <td>0</td>\n",
       "      <td>0</td>\n",
       "      <td>0</td>\n",
       "      <td>0</td>\n",
       "      <td>0</td>\n",
       "      <td>0</td>\n",
       "    </tr>\n",
       "    <tr>\n",
       "      <th>9</th>\n",
       "      <td>1</td>\n",
       "      <td>0</td>\n",
       "      <td>0</td>\n",
       "      <td>0</td>\n",
       "      <td>0</td>\n",
       "      <td>0</td>\n",
       "      <td>0</td>\n",
       "      <td>0</td>\n",
       "      <td>0</td>\n",
       "      <td>0</td>\n",
       "      <td>...</td>\n",
       "      <td>0</td>\n",
       "      <td>0</td>\n",
       "      <td>0</td>\n",
       "      <td>0</td>\n",
       "      <td>0</td>\n",
       "      <td>0</td>\n",
       "      <td>0</td>\n",
       "      <td>0</td>\n",
       "      <td>0</td>\n",
       "      <td>0</td>\n",
       "    </tr>\n",
       "  </tbody>\n",
       "</table>\n",
       "<p>10 rows × 90 columns</p>\n",
       "</div>"
      ],
      "text/plain": [
       "   acq  alum  barley  bop  carcass  castor-oil  cocoa  coconut  coconut-oil  \\\n",
       "0    0     0       0    0        0           0      0        0            0   \n",
       "1    0     0       0    0        0           0      0        0            0   \n",
       "2    0     0       0    0        0           0      0        0            0   \n",
       "3    0     0       0    0        0           0      0        0            0   \n",
       "4    0     0       0    0        0           0      0        0            0   \n",
       "5    0     0       0    0        0           0      0        0            0   \n",
       "6    0     0       0    0        0           0      0        0            0   \n",
       "7    0     0       0    0        0           0      0        0            0   \n",
       "8    0     0       0    0        0           0      0        0            0   \n",
       "9    1     0       0    0        0           0      0        0            0   \n",
       "\n",
       "   coffee  ...  sun-oil  sunseed  tea  tin  trade  veg-oil  wheat  wpi  yen  \\\n",
       "0       0  ...        0        0    0    0      1        0      0    0    0   \n",
       "1       0  ...        0        0    0    0      0        0      0    0    0   \n",
       "2       0  ...        0        0    0    0      0        0      0    0    0   \n",
       "3       0  ...        0        0    0    1      1        0      0    0    0   \n",
       "4       0  ...        0        0    0    0      0        1      0    0    0   \n",
       "5       0  ...        0        0    0    0      0        0      0    0    0   \n",
       "6       1  ...        0        0    0    0      0        1      0    0    0   \n",
       "7       0  ...        0        0    0    0      0        0      1    0    0   \n",
       "8       0  ...        0        0    0    0      0        0      0    0    0   \n",
       "9       0  ...        0        0    0    0      0        0      0    0    0   \n",
       "\n",
       "   zinc  \n",
       "0     0  \n",
       "1     0  \n",
       "2     0  \n",
       "3     0  \n",
       "4     0  \n",
       "5     0  \n",
       "6     0  \n",
       "7     0  \n",
       "8     0  \n",
       "9     0  \n",
       "\n",
       "[10 rows x 90 columns]"
      ]
     },
     "execution_count": 40,
     "metadata": {},
     "output_type": "execute_result"
    }
   ],
   "source": [
    "df_multilabel_test_data = pd.DataFrame(test_labels, columns=mlb.classes_)\n",
    "# Viewing few rows of data\n",
    "df_multilabel_test_data.head(10)"
   ]
  },
  {
   "cell_type": "markdown",
   "metadata": {},
   "source": [
    "# Random Forest Classifier"
   ]
  },
  {
   "cell_type": "code",
   "execution_count": 41,
   "metadata": {},
   "outputs": [
    {
     "name": "stdout",
     "output_type": "stream",
     "text": [
      "------Random Forest Model Metrics-----\n",
      "Accuracy: 0.7231\n",
      "Hamming Loss: 0.0049\n",
      "Precision:\n",
      "  - Macro: 0.4082\n",
      "  - Micro: 0.9537\n",
      "Recall:\n",
      "  - Macro: 0.1495\n",
      "  - Micro: 0.6760\n",
      "F1-measure:\n",
      "  - Macro: 0.1966\n",
      "  - Micro: 0.7912\n"
     ]
    },
    {
     "name": "stderr",
     "output_type": "stream",
     "text": [
      "C:\\Users\\HP\\anaconda_new\\lib\\site-packages\\sklearn\\metrics\\_classification.py:1318: UndefinedMetricWarning: Precision is ill-defined and being set to 0.0 in labels with no predicted samples. Use `zero_division` parameter to control this behavior.\n",
      "  _warn_prf(average, modifier, msg_start, len(result))\n"
     ]
    }
   ],
   "source": [
    "from sklearn.ensemble import RandomForestClassifier\n",
    "rfClassifier = RandomForestClassifier(n_jobs=-1)\n",
    "rfClassifier.fit(vectorised_train_documents, train_labels)\n",
    "rfPreds = rfClassifier.predict(vectorised_test_documents)\n",
    "metricsReport(\"Random Forest\", test_labels, rfPreds)"
   ]
  },
  {
   "cell_type": "code",
   "execution_count": 233,
   "metadata": {},
   "outputs": [],
   "source": [
    "# df=100\n",
    "# ------Random Forest Model Metrics-----\n",
    "# Accuracy: 0.7135\n",
    "# Hamming Loss: 0.0051\n",
    "# Precision:\n",
    "#   - Macro: 0.3822\n",
    "#   - Micro: 0.9529\n",
    "# Recall:\n",
    "#   - Macro: 0.1390\n",
    "#   - Micro: 0.6653\n",
    "# F1-measure:\n",
    "#   - Macro: 0.1819\n",
    "#   - Micro: 0.7836"
   ]
  },
  {
   "cell_type": "code",
   "execution_count": 234,
   "metadata": {},
   "outputs": [],
   "source": [
    "# df=3\n",
    "# ------Random Forest Model Metrics-----\n",
    "# Accuracy: 0.6681\n",
    "# Hamming Loss: 0.0057\n",
    "# Precision:\n",
    "#   - Macro: 0.4010\n",
    "#   - Micro: 0.9625\n",
    "# Recall:\n",
    "#   - Macro: 0.1115\n",
    "#   - Micro: 0.6095\n",
    "# F1-measure:\n",
    "#   - Macro: 0.1552\n",
    "#   - Micro: 0.7464"
   ]
  },
  {
   "cell_type": "code",
   "execution_count": 235,
   "metadata": {},
   "outputs": [],
   "source": [
    "# df=50\n",
    "# ------Random Forest Model Metrics-----\n",
    "# Accuracy: 0.7039\n",
    "# Hamming Loss: 0.0052\n",
    "# Precision:\n",
    "#   - Macro: 0.3990\n",
    "#   - Micro: 0.9559\n",
    "# Recall:\n",
    "#   - Macro: 0.1339\n",
    "#   - Micro: 0.6541\n",
    "# F1-measure:\n",
    "#   - Macro: 0.1794\n",
    "#   - Micro: 0.7767"
   ]
  },
  {
   "cell_type": "markdown",
   "metadata": {},
   "source": [
    "# Decision Tree Classifier\n"
   ]
  },
  {
   "cell_type": "code",
   "execution_count": 42,
   "metadata": {
    "scrolled": true
   },
   "outputs": [
    {
     "name": "stdout",
     "output_type": "stream",
     "text": [
      "------Decision Tree Model Metrics-----\n",
      "Accuracy: 0.7383\n",
      "Hamming Loss: 0.0064\n",
      "Precision:\n",
      "  - Macro: 0.3860\n",
      "  - Micro: 0.7839\n",
      "Recall:\n",
      "  - Macro: 0.3142\n",
      "  - Micro: 0.7420\n",
      "F1-measure:\n",
      "  - Macro: 0.3360\n",
      "  - Micro: 0.7623\n"
     ]
    },
    {
     "name": "stderr",
     "output_type": "stream",
     "text": [
      "C:\\Users\\HP\\anaconda_new\\lib\\site-packages\\sklearn\\metrics\\_classification.py:1318: UndefinedMetricWarning: Precision is ill-defined and being set to 0.0 in labels with no predicted samples. Use `zero_division` parameter to control this behavior.\n",
      "  _warn_prf(average, modifier, msg_start, len(result))\n"
     ]
    }
   ],
   "source": [
    "from sklearn.tree import DecisionTreeClassifier\n",
    "\n",
    "dtClassifier = DecisionTreeClassifier()\n",
    "dtClassifier.fit(vectorised_train_documents, train_labels)\n",
    "dtPreds = dtClassifier.predict(vectorised_test_documents)\n",
    "metricsReport(\"Decision Tree\", test_labels, dtPreds)"
   ]
  },
  {
   "cell_type": "code",
   "execution_count": 238,
   "metadata": {},
   "outputs": [],
   "source": [
    "# df=100\n",
    "# ------Decision Tree Model Metrics-----\n",
    "# Accuracy: 0.7188\n",
    "# Hamming Loss: 0.0070\n",
    "# Precision:\n",
    "#   - Macro: 0.2939\n",
    "#   - Micro: 0.7554\n",
    "# Recall:\n",
    "#   - Macro: 0.2672\n",
    "#   - Micro: 0.7225\n",
    "# F1-measure:\n",
    "#   - Macro: 0.2722\n",
    "#   - Micro: 0.7386"
   ]
  },
  {
   "cell_type": "code",
   "execution_count": 239,
   "metadata": {},
   "outputs": [],
   "source": [
    "# df=3\n",
    "# ------Decision Tree Model Metrics-----\n",
    "# Accuracy: 0.7343\n",
    "# Hamming Loss: 0.0064\n",
    "# Precision:\n",
    "#   - Macro: 0.4489\n",
    "#   - Micro: 0.7849\n",
    "# Recall:\n",
    "#   - Macro: 0.3348\n",
    "#   - Micro: 0.7417\n",
    "# F1-measure:\n",
    "#   - Macro: 0.3659\n",
    "#   - Micro: 0.7627"
   ]
  },
  {
   "cell_type": "code",
   "execution_count": 240,
   "metadata": {},
   "outputs": [],
   "source": [
    "# df=50\n",
    "# ------Decision Tree Model Metrics-----\n",
    "# Accuracy: 0.7304\n",
    "# Hamming Loss: 0.0069\n",
    "# Precision:\n",
    "#   - Macro: 0.3416\n",
    "#   - Micro: 0.7584\n",
    "# Recall:\n",
    "#   - Macro: 0.3080\n",
    "#   - Micro: 0.7353\n",
    "# F1-measure:\n",
    "#   - Macro: 0.3102\n",
    "#   - Micro: 0.7467"
   ]
  },
  {
   "cell_type": "markdown",
   "metadata": {},
   "source": [
    "# Support Vector Machine Classifier "
   ]
  },
  {
   "cell_type": "code",
   "execution_count": 43,
   "metadata": {},
   "outputs": [
    {
     "name": "stdout",
     "output_type": "stream",
     "text": [
      "------SVC Sq. Hinge Loss Model Metrics-----\n",
      "Accuracy: 0.8009\n",
      "Hamming Loss: 0.0036\n",
      "Precision:\n",
      "  - Macro: 0.5539\n",
      "  - Micro: 0.9378\n",
      "Recall:\n",
      "  - Macro: 0.3319\n",
      "  - Micro: 0.7935\n",
      "F1-measure:\n",
      "  - Macro: 0.3890\n",
      "  - Micro: 0.8597\n"
     ]
    },
    {
     "name": "stderr",
     "output_type": "stream",
     "text": [
      "C:\\Users\\HP\\anaconda_new\\lib\\site-packages\\sklearn\\metrics\\_classification.py:1318: UndefinedMetricWarning: Precision is ill-defined and being set to 0.0 in labels with no predicted samples. Use `zero_division` parameter to control this behavior.\n",
      "  _warn_prf(average, modifier, msg_start, len(result))\n"
     ]
    }
   ],
   "source": [
    "from sklearn.multiclass import OneVsRestClassifier\n",
    "from sklearn.svm import LinearSVC\n",
    "\n",
    "svmClassifier = OneVsRestClassifier(LinearSVC(), n_jobs=-1)\n",
    "svmClassifier.fit(vectorised_train_documents, train_labels)\n",
    "\n",
    "svmPreds = svmClassifier.predict(vectorised_test_documents)\n",
    "metricsReport(\"SVC Sq. Hinge Loss\", test_labels, svmPreds)"
   ]
  },
  {
   "cell_type": "code",
   "execution_count": 242,
   "metadata": {},
   "outputs": [],
   "source": [
    "# df=100\n",
    "# ------SVC Sq. Hinge Loss Model Metrics-----\n",
    "# Accuracy: 0.7625\n",
    "# Hamming Loss: 0.0042\n",
    "# Precision:\n",
    "#   - Macro: 0.4685\n",
    "#   - Micro: 0.9288\n",
    "# Recall:\n",
    "#   - Macro: 0.2733\n",
    "#   - Micro: 0.7527\n",
    "# F1-measure:\n",
    "#   - Macro: 0.3194\n",
    "#   - Micro: 0.8315"
   ]
  },
  {
   "cell_type": "code",
   "execution_count": 243,
   "metadata": {},
   "outputs": [],
   "source": [
    "# df=3\n",
    "# ------SVC Sq. Hinge Loss Model Metrics-----\n",
    "# Accuracy: 0.8135\n",
    "# Hamming Loss: 0.0034\n",
    "# Precision:\n",
    "#   - Macro: 0.6478\n",
    "#   - Micro: 0.9444\n",
    "# Recall:\n",
    "#   - Macro: 0.3994\n",
    "#   - Micro: 0.8037\n",
    "# F1-measure:\n",
    "#   - Macro: 0.4701\n",
    "#   - Micro: 0.8684"
   ]
  },
  {
   "cell_type": "code",
   "execution_count": 244,
   "metadata": {},
   "outputs": [],
   "source": [
    "# df=50\n",
    "# ------SVC Sq. Hinge Loss Model Metrics-----\n",
    "# Accuracy: 0.7930\n",
    "# Hamming Loss: 0.0038\n",
    "# Precision:\n",
    "#   - Macro: 0.5559\n",
    "#   - Micro: 0.9365\n",
    "# Recall:\n",
    "#   - Macro: 0.3141\n",
    "#   - Micro: 0.7794\n",
    "# F1-measure:\n",
    "#   - Macro: 0.3696\n",
    "#   - Micro: 0.8507"
   ]
  },
  {
   "cell_type": "code",
   "execution_count": 245,
   "metadata": {},
   "outputs": [],
   "source": [
    "# pip install scikit-multilearn"
   ]
  },
  {
   "cell_type": "code",
   "execution_count": 44,
   "metadata": {},
   "outputs": [
    {
     "name": "stdout",
     "output_type": "stream",
     "text": [
      "------Power Set SVC Model Metrics-----\n",
      "Accuracy: 0.8324\n",
      "Hamming Loss: 0.0040\n",
      "Precision:\n",
      "  - Macro: 0.6072\n",
      "  - Micro: 0.8896\n",
      "Recall:\n",
      "  - Macro: 0.4088\n",
      "  - Micro: 0.8117\n",
      "F1-measure:\n",
      "  - Macro: 0.4624\n",
      "  - Micro: 0.8489\n"
     ]
    },
    {
     "name": "stderr",
     "output_type": "stream",
     "text": [
      "C:\\Users\\HP\\anaconda_new\\lib\\site-packages\\sklearn\\metrics\\_classification.py:1318: UndefinedMetricWarning: Precision is ill-defined and being set to 0.0 in labels with no predicted samples. Use `zero_division` parameter to control this behavior.\n",
      "  _warn_prf(average, modifier, msg_start, len(result))\n"
     ]
    }
   ],
   "source": [
    "from skmultilearn.problem_transform import LabelPowerset\n",
    "\n",
    "powerSetSVC = LabelPowerset(LinearSVC())\n",
    "powerSetSVC.fit(vectorised_train_documents, train_labels)\n",
    "\n",
    "powerSetSVCPreds = powerSetSVC.predict(vectorised_test_documents)\n",
    "metricsReport(\"Power Set SVC\", test_labels, powerSetSVCPreds)"
   ]
  },
  {
   "cell_type": "code",
   "execution_count": 247,
   "metadata": {},
   "outputs": [],
   "source": [
    "# df=100\n",
    "# ------Power Set SVC Model Metrics-----\n",
    "# Accuracy: 0.8112\n",
    "# Hamming Loss: 0.0046\n",
    "# Precision:\n",
    "#   - Macro: 0.5432\n",
    "#   - Micro: 0.8656\n",
    "# Recall:\n",
    "#   - Macro: 0.3488\n",
    "#   - Micro: 0.7847\n",
    "# F1-measure:\n",
    "#   - Macro: 0.3955\n",
    "#   - Micro: 0.8232"
   ]
  },
  {
   "cell_type": "code",
   "execution_count": 248,
   "metadata": {},
   "outputs": [],
   "source": [
    "# df=3\n",
    "# ------Power Set SVC Model Metrics-----\n",
    "# Accuracy: 0.8476\n",
    "# Hamming Loss: 0.0035\n",
    "# Precision:\n",
    "#   - Macro: 0.6844\n",
    "#   - Micro: 0.9065\n",
    "# Recall:\n",
    "#   - Macro: 0.4891\n",
    "#   - Micro: 0.8288\n",
    "# F1-measure:\n",
    "#   - Macro: 0.5339\n",
    "#   - Micro: 0.8659"
   ]
  },
  {
   "cell_type": "code",
   "execution_count": 249,
   "metadata": {},
   "outputs": [],
   "source": [
    "# df=50\n",
    "# ------Power Set SVC Model Metrics-----\n",
    "# Accuracy: 0.8301\n",
    "# Hamming Loss: 0.0041\n",
    "# Precision:\n",
    "#   - Macro: 0.5613\n",
    "#   - Micro: 0.8842\n",
    "# Recall:\n",
    "#   - Macro: 0.3874\n",
    "#   - Micro: 0.8053\n",
    "# F1-measure:\n",
    "#   - Macro: 0.4336\n",
    "#   - Micro: 0.8429"
   ]
  },
  {
   "cell_type": "markdown",
   "metadata": {},
   "source": [
    "# Naive Base Classifier"
   ]
  },
  {
   "cell_type": "code",
   "execution_count": 45,
   "metadata": {},
   "outputs": [
    {
     "name": "stdout",
     "output_type": "stream",
     "text": [
      "------Multinomial NB Model Metrics-----\n",
      "Accuracy: 0.6893\n",
      "Hamming Loss: 0.0055\n",
      "Precision:\n",
      "  - Macro: 0.2440\n",
      "  - Micro: 0.8916\n",
      "Recall:\n",
      "  - Macro: 0.1317\n",
      "  - Micro: 0.6835\n",
      "F1-measure:\n",
      "  - Macro: 0.1499\n",
      "  - Micro: 0.7738\n"
     ]
    },
    {
     "name": "stderr",
     "output_type": "stream",
     "text": [
      "C:\\Users\\HP\\anaconda_new\\lib\\site-packages\\sklearn\\metrics\\_classification.py:1318: UndefinedMetricWarning: Precision is ill-defined and being set to 0.0 in labels with no predicted samples. Use `zero_division` parameter to control this behavior.\n",
      "  _warn_prf(average, modifier, msg_start, len(result))\n"
     ]
    }
   ],
   "source": [
    "from sklearn.naive_bayes import MultinomialNB\n",
    "\n",
    "nbClassifier = OneVsRestClassifier(MultinomialNB())\n",
    "nbClassifier.fit(vectorised_train_documents, train_labels)\n",
    "\n",
    "nbPreds = nbClassifier.predict(vectorised_test_documents)\n",
    "metricsReport(\"Multinomial NB\", test_labels, nbPreds)"
   ]
  },
  {
   "cell_type": "code",
   "execution_count": 251,
   "metadata": {},
   "outputs": [],
   "source": [
    "# df=100\n",
    "# ------Power Set SVC Model Metrics-----\n",
    "# Accuracy: 0.8112\n",
    "# Hamming Loss: 0.0046\n",
    "# Precision:\n",
    "#   - Macro: 0.5432\n",
    "#   - Micro: 0.8656\n",
    "# Recall:\n",
    "#   - Macro: 0.3488\n",
    "#   - Micro: 0.7847\n",
    "# F1-measure:\n",
    "#   - Macro: 0.3955\n",
    "#   - Micro: 0.8232"
   ]
  },
  {
   "cell_type": "code",
   "execution_count": 252,
   "metadata": {},
   "outputs": [],
   "source": [
    "# df=3\n",
    "# ------Multinomial NB Model Metrics-----\n",
    "# Accuracy: 0.5727\n",
    "# Hamming Loss: 0.0071\n",
    "# Precision:\n",
    "#   - Macro: 0.1139\n",
    "#   - Micro: 0.9758\n",
    "# Recall:\n",
    "#   - Macro: 0.0382\n",
    "#   - Micro: 0.4952\n",
    "# F1-measure:\n",
    "#   - Macro: 0.0491\n",
    "#   - Micro: 0.6570"
   ]
  },
  {
   "cell_type": "code",
   "execution_count": 253,
   "metadata": {},
   "outputs": [],
   "source": [
    "# df=50\n",
    "# ------Multinomial NB Model Metrics-----\n",
    "# Accuracy: 0.6800\n",
    "# Hamming Loss: 0.0057\n",
    "# Precision:\n",
    "#   - Macro: 0.1925\n",
    "#   - Micro: 0.8965\n",
    "# Recall:\n",
    "#   - Macro: 0.1099\n",
    "#   - Micro: 0.6595\n",
    "# F1-measure:\n",
    "#   - Macro: 0.1267\n",
    "#   - Micro: 0.7599"
   ]
  },
  {
   "cell_type": "code",
   "execution_count": 46,
   "metadata": {},
   "outputs": [
    {
     "name": "stdout",
     "output_type": "stream",
     "text": [
      "  Model Name           | Micro-F1 Score\n",
      "-------------------------------------------\n",
      "  Random Forest        | 0.7911847452328853\n",
      "-------------------------------------------\n",
      "  Decision Tree        | 0.7623490669593854\n",
      "-------------------------------------------\n",
      "  SVC Sq. Hinge Loss   | 0.8596643518518519\n",
      "-------------------------------------------\n",
      "  Power Set SVC        | 0.8488826815642457\n",
      "-------------------------------------------\n",
      "  Multinomial NB       | 0.7738131236770487\n",
      "-------------------------------------------\n"
     ]
    }
   ],
   "source": [
    "print(\"  Model Name \" + \" \"*10 + \"| Micro-F1 Score\")\n",
    "print(\"-------------------------------------------\")\n",
    "for key, value in ModelsPerformance.items():\n",
    "    print(\"  \" + key, \" \"*(20-len(key)) + \"|\", value)\n",
    "    print(\"-------------------------------------------\")"
   ]
  },
  {
   "cell_type": "code",
   "execution_count": 255,
   "metadata": {},
   "outputs": [],
   "source": []
  },
  {
   "cell_type": "code",
   "execution_count": null,
   "metadata": {},
   "outputs": [],
   "source": []
  },
  {
   "cell_type": "code",
   "execution_count": null,
   "metadata": {},
   "outputs": [],
   "source": []
  },
  {
   "cell_type": "code",
   "execution_count": null,
   "metadata": {},
   "outputs": [],
   "source": []
  },
  {
   "cell_type": "code",
   "execution_count": null,
   "metadata": {},
   "outputs": [],
   "source": []
  },
  {
   "cell_type": "code",
   "execution_count": null,
   "metadata": {},
   "outputs": [],
   "source": []
  },
  {
   "cell_type": "code",
   "execution_count": null,
   "metadata": {},
   "outputs": [],
   "source": []
  },
  {
   "cell_type": "code",
   "execution_count": null,
   "metadata": {},
   "outputs": [],
   "source": [
    "\n",
    "       "
   ]
  },
  {
   "cell_type": "code",
   "execution_count": null,
   "metadata": {},
   "outputs": [],
   "source": []
  },
  {
   "cell_type": "code",
   "execution_count": null,
   "metadata": {},
   "outputs": [],
   "source": []
  },
  {
   "cell_type": "code",
   "execution_count": null,
   "metadata": {},
   "outputs": [],
   "source": []
  },
  {
   "cell_type": "code",
   "execution_count": null,
   "metadata": {},
   "outputs": [],
   "source": []
  },
  {
   "cell_type": "code",
   "execution_count": null,
   "metadata": {},
   "outputs": [],
   "source": []
  }
 ],
 "metadata": {
  "kernelspec": {
   "display_name": "Python 3 (ipykernel)",
   "language": "python",
   "name": "python3"
  },
  "language_info": {
   "codemirror_mode": {
    "name": "ipython",
    "version": 3
   },
   "file_extension": ".py",
   "mimetype": "text/x-python",
   "name": "python",
   "nbconvert_exporter": "python",
   "pygments_lexer": "ipython3",
   "version": "3.9.12"
  }
 },
 "nbformat": 4,
 "nbformat_minor": 4
}
