{
 "cells": [
  {
   "cell_type": "markdown",
   "id": "1ddfd2f4",
   "metadata": {},
   "source": [
    "# Import Neccessry libraries"
   ]
  },
  {
   "cell_type": "code",
   "execution_count": 125,
   "id": "e87f8ecc",
   "metadata": {},
   "outputs": [],
   "source": [
    "from nltk.corpus import stopwords,reuters\n",
    "import pandas as pd\n",
    "import numpy as np\n",
    "import matplotlib.pyplot as plt\n",
    "import seaborn as sns\n",
    "from sklearn.model_selection import train_test_split\n",
    "from sklearn.metrics import f1_score, accuracy_score,classification_report\n",
    "import os,re\n",
    "import warnings\n",
    "warnings.filterwarnings('ignore')\n",
    "import nltk \n",
    "import pickle\n",
    "import tensorflow as tf\n",
    "from tqdm import tqdm, trange\n",
    "import torch\n",
    "from torch.nn import BCEWithLogitsLoss\n",
    "from torch.utils.data import TensorDataset, DataLoader, RandomSampler, SequentialSampler\n",
    "from transformers import BertTokenizer, BertModel"
   ]
  },
  {
   "cell_type": "code",
   "execution_count": 126,
   "id": "9125f8ec",
   "metadata": {},
   "outputs": [],
   "source": [
    "# device = torch.device(\"cuda\" if torch.cuda.is_available() else \"cpu\")\n",
    "# n_gpu = torch.cuda.device_count()\n",
    "# torch.cuda.get_device_name(0)"
   ]
  },
  {
   "cell_type": "code",
   "execution_count": 127,
   "id": "73b4a938",
   "metadata": {},
   "outputs": [],
   "source": [
    "device =  torch.device('cpu')"
   ]
  },
  {
   "cell_type": "code",
   "execution_count": 128,
   "id": "40fa909e",
   "metadata": {},
   "outputs": [],
   "source": [
    "#the path that we will save best weights in \n",
    "model_path = \"C:\\\\Users\\\\cccc\\\\TextClassıfıcatıon\\\\Reuters_best_weights.pt\""
   ]
  },
  {
   "cell_type": "markdown",
   "id": "a2b7d8d7",
   "metadata": {},
   "source": [
    "# Load and Preprocess Training Data"
   ]
  },
  {
   "cell_type": "code",
   "execution_count": 129,
   "id": "28716deb",
   "metadata": {},
   "outputs": [
    {
     "data": {
      "text/html": [
       "<div>\n",
       "<style scoped>\n",
       "    .dataframe tbody tr th:only-of-type {\n",
       "        vertical-align: middle;\n",
       "    }\n",
       "\n",
       "    .dataframe tbody tr th {\n",
       "        vertical-align: top;\n",
       "    }\n",
       "\n",
       "    .dataframe thead th {\n",
       "        text-align: right;\n",
       "    }\n",
       "</style>\n",
       "<table border=\"1\" class=\"dataframe\">\n",
       "  <thead>\n",
       "    <tr style=\"text-align: right;\">\n",
       "      <th></th>\n",
       "      <th>ids</th>\n",
       "      <th>categories</th>\n",
       "      <th>text</th>\n",
       "    </tr>\n",
       "  </thead>\n",
       "  <tbody>\n",
       "    <tr>\n",
       "      <th>10783</th>\n",
       "      <td>training/999</td>\n",
       "      <td>['interest', 'money-fx']</td>\n",
       "      <td>U.K. MONEY MARKET SHORTAGE FORECAST REVISED DO...</td>\n",
       "    </tr>\n",
       "    <tr>\n",
       "      <th>10784</th>\n",
       "      <td>training/9992</td>\n",
       "      <td>['earn']</td>\n",
       "      <td>KNIGHT-RIDDER INC &amp;lt;KRN&gt; SETS QUARTERLY\\n  Q...</td>\n",
       "    </tr>\n",
       "    <tr>\n",
       "      <th>10785</th>\n",
       "      <td>training/9993</td>\n",
       "      <td>['earn']</td>\n",
       "      <td>TECHNITROL INC &amp;lt;TNL&gt; SETS QUARTERLY\\n  Qtly...</td>\n",
       "    </tr>\n",
       "    <tr>\n",
       "      <th>10786</th>\n",
       "      <td>training/9994</td>\n",
       "      <td>['earn']</td>\n",
       "      <td>NATIONWIDE CELLULAR SERVICE INC &amp;lt;NCEL&gt; 4TH ...</td>\n",
       "    </tr>\n",
       "    <tr>\n",
       "      <th>10787</th>\n",
       "      <td>training/9995</td>\n",
       "      <td>['earn']</td>\n",
       "      <td>&amp;lt;A.H.A. AUTOMOTIVE TECHNOLOGIES CORP&gt; YEAR ...</td>\n",
       "    </tr>\n",
       "  </tbody>\n",
       "</table>\n",
       "</div>"
      ],
      "text/plain": [
       "                 ids                categories  \\\n",
       "10783   training/999  ['interest', 'money-fx']   \n",
       "10784  training/9992                  ['earn']   \n",
       "10785  training/9993                  ['earn']   \n",
       "10786  training/9994                  ['earn']   \n",
       "10787  training/9995                  ['earn']   \n",
       "\n",
       "                                                    text  \n",
       "10783  U.K. MONEY MARKET SHORTAGE FORECAST REVISED DO...  \n",
       "10784  KNIGHT-RIDDER INC &lt;KRN> SETS QUARTERLY\\n  Q...  \n",
       "10785  TECHNITROL INC &lt;TNL> SETS QUARTERLY\\n  Qtly...  \n",
       "10786  NATIONWIDE CELLULAR SERVICE INC &lt;NCEL> 4TH ...  \n",
       "10787  &lt;A.H.A. AUTOMOTIVE TECHNOLOGIES CORP> YEAR ...  "
      ]
     },
     "execution_count": 129,
     "metadata": {},
     "output_type": "execute_result"
    }
   ],
   "source": [
    "ReutersDf =  pd.read_excel('reutersNLTK.xlsx')\n",
    "ReutersDf.tail()"
   ]
  },
  {
   "cell_type": "code",
   "execution_count": 130,
   "id": "182743a4",
   "metadata": {},
   "outputs": [],
   "source": [
    "#encode multi-label per instance\n",
    "from sklearn.preprocessing import MultiLabelBinarizer\n",
    "mlb = MultiLabelBinarizer()\n"
   ]
  },
  {
   "cell_type": "code",
   "execution_count": 132,
   "id": "90c4c1a0",
   "metadata": {},
   "outputs": [
    {
     "data": {
      "text/plain": [
       "91"
      ]
     },
     "execution_count": 132,
     "metadata": {},
     "output_type": "execute_result"
    }
   ],
   "source": [
    "len(label_names)"
   ]
  },
  {
   "cell_type": "code",
   "execution_count": 133,
   "id": "9b28e9d3",
   "metadata": {},
   "outputs": [],
   "source": [
    "# splitting data into training and testing\n",
    "from sklearn.model_selection import train_test_split\n",
    "ReutersDf_train, ReutersDf_test = train_test_split(arab_df, test_size=0.20)"
   ]
  },
  {
   "cell_type": "code",
   "execution_count": 134,
   "id": "f812d786",
   "metadata": {},
   "outputs": [],
   "source": [
    "import re\n",
    "#preprocess step\n",
    "def preprocess_text(sen):\n",
    "    # Remove punctuations and numbers\n",
    "    sentence = re.sub('[^a-zA-Z]', ' ', str(sen))\n",
    "\n",
    "    # Single character removal\n",
    "    sentence = re.sub(r\"\\s+[a-zA-Z]\\s+\", ' ', str(sentence))\n",
    "\n",
    "    # Removing multiple spaces\n",
    "    sentence = re.sub(r'\\s+', ' ', str(sentence))\n",
    "\n",
    "    return sentence"
   ]
  },
  {
   "cell_type": "code",
   "execution_count": 135,
   "id": "00148809",
   "metadata": {},
   "outputs": [],
   "source": [
    "ReutersDf_train.loc[:,\"text\"] = ReutersDf_train.text.apply(lambda x: preprocess_text(x))\n",
    "ReutersDf_test.loc[:,\"text\"] = ReutersDf_test.text.apply(lambda x: preprocess_text(x))\n",
    "\n",
    "#encode multi-label per instance and \n",
    "labels = list(mlb.fit_transform(ReutersDf_train[\"categories\"]))\n",
    "newsitems = list(ReutersDf_train.text.values)\n",
    "\n",
    "test_labels = list(mlb.fit_transform(ReutersDf_test[\"categories\"]))\n",
    "test_newsitems = list(ReutersDf_test.text.values)"
   ]
  },
  {
   "cell_type": "code",
   "execution_count": 136,
   "id": "409a816f",
   "metadata": {},
   "outputs": [
    {
     "name": "stdout",
     "output_type": "stream",
     "text": [
      "Null values:  False\n"
     ]
    }
   ],
   "source": [
    "print('Null values: ', ReutersDf_train.isnull().values.any())\n",
    "# print(rcv1_train.isnull().sum())"
   ]
  },
  {
   "cell_type": "code",
   "execution_count": 137,
   "id": "3fa6fce1",
   "metadata": {},
   "outputs": [
    {
     "name": "stdout",
     "output_type": "stream",
     "text": [
      "Null values:  False\n"
     ]
    }
   ],
   "source": [
    "print('Null values: ', ReutersDf_test.isnull().values.any())\n"
   ]
  },
  {
   "cell_type": "code",
   "execution_count": 138,
   "id": "5805eeec",
   "metadata": {},
   "outputs": [
    {
     "name": "stdout",
     "output_type": "stream",
     "text": [
      "average train sentence length:  119.38018539976825\n",
      "stdev train sentence length:  131.22225531044342\n"
     ]
    }
   ],
   "source": [
    "print('average train sentence length: ', ReutersDf_train.text.str.split().str.len().mean())\n",
    "print('stdev train sentence length: ', ReutersDf_train.text.str.split().str.len().std())"
   ]
  },
  {
   "cell_type": "code",
   "execution_count": 139,
   "id": "def8f861",
   "metadata": {},
   "outputs": [
    {
     "name": "stdout",
     "output_type": "stream",
     "text": [
      "average train sentence length:  117.42585727525487\n",
      "stdev train sentence length:  126.35455343750864\n"
     ]
    }
   ],
   "source": [
    "print('average train sentence length: ', ReutersDf_test.text.str.split().str.len().mean())\n",
    "print('stdev train sentence length: ', ReutersDf_test.text.str.split().str.len().std())"
   ]
  },
  {
   "cell_type": "markdown",
   "id": "0969f5db",
   "metadata": {},
   "source": [
    "# Choosing Sequence Length"
   ]
  },
  {
   "cell_type": "markdown",
   "id": "a32254ad",
   "metadata": {},
   "source": [
    "BERT works with fixed-length sequences. We’ll use a simple strategy to choose the max length. Let’s store the token length of each review:"
   ]
  },
  {
   "cell_type": "code",
   "execution_count": 140,
   "id": "f56df8dd",
   "metadata": {},
   "outputs": [
    {
     "data": {
      "text/plain": [
       "<seaborn.axisgrid.FacetGrid at 0x1c7c0b3f490>"
      ]
     },
     "execution_count": 140,
     "metadata": {},
     "output_type": "execute_result"
    }
   ],
   "source": [
    "import seaborn as sb\n",
    "ReutersDf_train['text_len'] = ReutersDf_train.loc[:,'text'].apply(lambda x:len(x.split()))\n",
    "sb.displot(ReutersDf_train.text_len,bins=512)"
   ]
  },
  {
   "cell_type": "code",
   "execution_count": 141,
   "id": "04f0885f",
   "metadata": {},
   "outputs": [],
   "source": [
    "#initalise max length , bert tokenizer and encoding train data\n",
    "#less length in order to avoid memory error\n",
    "max_length = 200\n",
    "ReutersDf_train = ReutersDf_train.reset_index(drop=True)\n",
    "# Select a batch size for training. For fine-tuning with Bert, the authors recommend a batch size of 32, 48, or 128. We will use 32 here to avoid memory issues.\n",
    "batch_size = 16\n",
    "tokenizer = BertTokenizer.from_pretrained('bert-base-cased', do_lower_case=True)\n",
    "encodings = tokenizer.batch_encode_plus(newsitems,max_length=max_length,pad_to_max_length=True,truncation=True)"
   ]
  },
  {
   "cell_type": "code",
   "execution_count": 142,
   "id": "326a6e20",
   "metadata": {},
   "outputs": [],
   "source": [
    "# loading necessary encoded values \n",
    "input_ids = encodings['input_ids'] \n",
    "token_type_ids = encodings['token_type_ids'] \n",
    "attention_masks = encodings['attention_mask']"
   ]
  },
  {
   "cell_type": "code",
   "execution_count": 143,
   "id": "188454b1",
   "metadata": {},
   "outputs": [],
   "source": [
    "# splitting data into training and validation\n",
    "train_inputs, validation_inputs, train_labels, validation_labels, train_token_types, validation_token_types, train_masks, validation_masks = train_test_split(input_ids, labels,\n",
    "token_type_ids,attention_masks, random_state=200, test_size=0.10)"
   ]
  },
  {
   "cell_type": "code",
   "execution_count": 144,
   "id": "bd1c4bc5",
   "metadata": {},
   "outputs": [],
   "source": [
    "# converting all numpy arrays to tensors\n",
    "train_inputs = torch.tensor(train_inputs)\n",
    "train_labels = torch.tensor(train_labels)\n",
    "train_masks = torch.tensor(train_masks)\n",
    "train_token_types = torch.tensor(train_token_types)\n",
    "\n",
    "validation_inputs = torch.tensor(validation_inputs)\n",
    "validation_labels = torch.tensor(validation_labels)\n",
    "validation_masks = torch.tensor(validation_masks)\n",
    "validation_token_types = torch.tensor(validation_token_types)"
   ]
  },
  {
   "cell_type": "code",
   "execution_count": 145,
   "id": "92595f90",
   "metadata": {},
   "outputs": [],
   "source": [
    "# creating data loader and loading data into it using random sampler\n",
    "train_data = TensorDataset(train_inputs, train_masks, train_labels, train_token_types)\n",
    "train_sampler = RandomSampler(train_data)\n",
    "train_dataloader = DataLoader(train_data, sampler=train_sampler, batch_size=batch_size)\n",
    "\n",
    "validation_data = TensorDataset(validation_inputs, validation_masks, validation_labels, validation_token_types)\n",
    "validation_sampler = RandomSampler(validation_data)\n",
    "validation_dataloader = DataLoader(validation_data, sampler=validation_sampler, batch_size=batch_size)"
   ]
  },
  {
   "cell_type": "code",
   "execution_count": 146,
   "id": "90874770",
   "metadata": {},
   "outputs": [],
   "source": [
    "# saving data loaders\n",
    "torch.save(validation_dataloader,'validation_Rueters_data_loader')\n",
    "torch.save(train_dataloader,'train_Rueters_data_loader')"
   ]
  },
  {
   "cell_type": "code",
   "execution_count": 157,
   "id": "4298ed32",
   "metadata": {},
   "outputs": [
    {
     "name": "stderr",
     "output_type": "stream",
     "text": [
      "Some weights of the model checkpoint at bert-base-cased were not used when initializing BertModel: ['cls.predictions.transform.dense.bias', 'cls.seq_relationship.bias', 'cls.predictions.transform.dense.weight', 'cls.seq_relationship.weight', 'cls.predictions.bias', 'cls.predictions.transform.LayerNorm.weight', 'cls.predictions.transform.LayerNorm.bias', 'cls.predictions.decoder.weight']\n",
      "- This IS expected if you are initializing BertModel from the checkpoint of a model trained on another task or with another architecture (e.g. initializing a BertForSequenceClassification model from a BertForPreTraining model).\n",
      "- This IS NOT expected if you are initializing BertModel from the checkpoint of a model that you expect to be exactly identical (initializing a BertForSequenceClassification model from a BertForSequenceClassification model).\n"
     ]
    },
    {
     "data": {
      "text/plain": [
       "BERTClass(\n",
       "  (bert_model): BertModel(\n",
       "    (embeddings): BertEmbeddings(\n",
       "      (word_embeddings): Embedding(28996, 768, padding_idx=0)\n",
       "      (position_embeddings): Embedding(512, 768)\n",
       "      (token_type_embeddings): Embedding(2, 768)\n",
       "      (LayerNorm): LayerNorm((768,), eps=1e-12, elementwise_affine=True)\n",
       "      (dropout): Dropout(p=0.1, inplace=False)\n",
       "    )\n",
       "    (encoder): BertEncoder(\n",
       "      (layer): ModuleList(\n",
       "        (0): BertLayer(\n",
       "          (attention): BertAttention(\n",
       "            (self): BertSelfAttention(\n",
       "              (query): Linear(in_features=768, out_features=768, bias=True)\n",
       "              (key): Linear(in_features=768, out_features=768, bias=True)\n",
       "              (value): Linear(in_features=768, out_features=768, bias=True)\n",
       "              (dropout): Dropout(p=0.1, inplace=False)\n",
       "            )\n",
       "            (output): BertSelfOutput(\n",
       "              (dense): Linear(in_features=768, out_features=768, bias=True)\n",
       "              (LayerNorm): LayerNorm((768,), eps=1e-12, elementwise_affine=True)\n",
       "              (dropout): Dropout(p=0.1, inplace=False)\n",
       "            )\n",
       "          )\n",
       "          (intermediate): BertIntermediate(\n",
       "            (dense): Linear(in_features=768, out_features=3072, bias=True)\n",
       "            (intermediate_act_fn): GELUActivation()\n",
       "          )\n",
       "          (output): BertOutput(\n",
       "            (dense): Linear(in_features=3072, out_features=768, bias=True)\n",
       "            (LayerNorm): LayerNorm((768,), eps=1e-12, elementwise_affine=True)\n",
       "            (dropout): Dropout(p=0.1, inplace=False)\n",
       "          )\n",
       "        )\n",
       "        (1): BertLayer(\n",
       "          (attention): BertAttention(\n",
       "            (self): BertSelfAttention(\n",
       "              (query): Linear(in_features=768, out_features=768, bias=True)\n",
       "              (key): Linear(in_features=768, out_features=768, bias=True)\n",
       "              (value): Linear(in_features=768, out_features=768, bias=True)\n",
       "              (dropout): Dropout(p=0.1, inplace=False)\n",
       "            )\n",
       "            (output): BertSelfOutput(\n",
       "              (dense): Linear(in_features=768, out_features=768, bias=True)\n",
       "              (LayerNorm): LayerNorm((768,), eps=1e-12, elementwise_affine=True)\n",
       "              (dropout): Dropout(p=0.1, inplace=False)\n",
       "            )\n",
       "          )\n",
       "          (intermediate): BertIntermediate(\n",
       "            (dense): Linear(in_features=768, out_features=3072, bias=True)\n",
       "            (intermediate_act_fn): GELUActivation()\n",
       "          )\n",
       "          (output): BertOutput(\n",
       "            (dense): Linear(in_features=3072, out_features=768, bias=True)\n",
       "            (LayerNorm): LayerNorm((768,), eps=1e-12, elementwise_affine=True)\n",
       "            (dropout): Dropout(p=0.1, inplace=False)\n",
       "          )\n",
       "        )\n",
       "        (2): BertLayer(\n",
       "          (attention): BertAttention(\n",
       "            (self): BertSelfAttention(\n",
       "              (query): Linear(in_features=768, out_features=768, bias=True)\n",
       "              (key): Linear(in_features=768, out_features=768, bias=True)\n",
       "              (value): Linear(in_features=768, out_features=768, bias=True)\n",
       "              (dropout): Dropout(p=0.1, inplace=False)\n",
       "            )\n",
       "            (output): BertSelfOutput(\n",
       "              (dense): Linear(in_features=768, out_features=768, bias=True)\n",
       "              (LayerNorm): LayerNorm((768,), eps=1e-12, elementwise_affine=True)\n",
       "              (dropout): Dropout(p=0.1, inplace=False)\n",
       "            )\n",
       "          )\n",
       "          (intermediate): BertIntermediate(\n",
       "            (dense): Linear(in_features=768, out_features=3072, bias=True)\n",
       "            (intermediate_act_fn): GELUActivation()\n",
       "          )\n",
       "          (output): BertOutput(\n",
       "            (dense): Linear(in_features=3072, out_features=768, bias=True)\n",
       "            (LayerNorm): LayerNorm((768,), eps=1e-12, elementwise_affine=True)\n",
       "            (dropout): Dropout(p=0.1, inplace=False)\n",
       "          )\n",
       "        )\n",
       "        (3): BertLayer(\n",
       "          (attention): BertAttention(\n",
       "            (self): BertSelfAttention(\n",
       "              (query): Linear(in_features=768, out_features=768, bias=True)\n",
       "              (key): Linear(in_features=768, out_features=768, bias=True)\n",
       "              (value): Linear(in_features=768, out_features=768, bias=True)\n",
       "              (dropout): Dropout(p=0.1, inplace=False)\n",
       "            )\n",
       "            (output): BertSelfOutput(\n",
       "              (dense): Linear(in_features=768, out_features=768, bias=True)\n",
       "              (LayerNorm): LayerNorm((768,), eps=1e-12, elementwise_affine=True)\n",
       "              (dropout): Dropout(p=0.1, inplace=False)\n",
       "            )\n",
       "          )\n",
       "          (intermediate): BertIntermediate(\n",
       "            (dense): Linear(in_features=768, out_features=3072, bias=True)\n",
       "            (intermediate_act_fn): GELUActivation()\n",
       "          )\n",
       "          (output): BertOutput(\n",
       "            (dense): Linear(in_features=3072, out_features=768, bias=True)\n",
       "            (LayerNorm): LayerNorm((768,), eps=1e-12, elementwise_affine=True)\n",
       "            (dropout): Dropout(p=0.1, inplace=False)\n",
       "          )\n",
       "        )\n",
       "        (4): BertLayer(\n",
       "          (attention): BertAttention(\n",
       "            (self): BertSelfAttention(\n",
       "              (query): Linear(in_features=768, out_features=768, bias=True)\n",
       "              (key): Linear(in_features=768, out_features=768, bias=True)\n",
       "              (value): Linear(in_features=768, out_features=768, bias=True)\n",
       "              (dropout): Dropout(p=0.1, inplace=False)\n",
       "            )\n",
       "            (output): BertSelfOutput(\n",
       "              (dense): Linear(in_features=768, out_features=768, bias=True)\n",
       "              (LayerNorm): LayerNorm((768,), eps=1e-12, elementwise_affine=True)\n",
       "              (dropout): Dropout(p=0.1, inplace=False)\n",
       "            )\n",
       "          )\n",
       "          (intermediate): BertIntermediate(\n",
       "            (dense): Linear(in_features=768, out_features=3072, bias=True)\n",
       "            (intermediate_act_fn): GELUActivation()\n",
       "          )\n",
       "          (output): BertOutput(\n",
       "            (dense): Linear(in_features=3072, out_features=768, bias=True)\n",
       "            (LayerNorm): LayerNorm((768,), eps=1e-12, elementwise_affine=True)\n",
       "            (dropout): Dropout(p=0.1, inplace=False)\n",
       "          )\n",
       "        )\n",
       "        (5): BertLayer(\n",
       "          (attention): BertAttention(\n",
       "            (self): BertSelfAttention(\n",
       "              (query): Linear(in_features=768, out_features=768, bias=True)\n",
       "              (key): Linear(in_features=768, out_features=768, bias=True)\n",
       "              (value): Linear(in_features=768, out_features=768, bias=True)\n",
       "              (dropout): Dropout(p=0.1, inplace=False)\n",
       "            )\n",
       "            (output): BertSelfOutput(\n",
       "              (dense): Linear(in_features=768, out_features=768, bias=True)\n",
       "              (LayerNorm): LayerNorm((768,), eps=1e-12, elementwise_affine=True)\n",
       "              (dropout): Dropout(p=0.1, inplace=False)\n",
       "            )\n",
       "          )\n",
       "          (intermediate): BertIntermediate(\n",
       "            (dense): Linear(in_features=768, out_features=3072, bias=True)\n",
       "            (intermediate_act_fn): GELUActivation()\n",
       "          )\n",
       "          (output): BertOutput(\n",
       "            (dense): Linear(in_features=3072, out_features=768, bias=True)\n",
       "            (LayerNorm): LayerNorm((768,), eps=1e-12, elementwise_affine=True)\n",
       "            (dropout): Dropout(p=0.1, inplace=False)\n",
       "          )\n",
       "        )\n",
       "        (6): BertLayer(\n",
       "          (attention): BertAttention(\n",
       "            (self): BertSelfAttention(\n",
       "              (query): Linear(in_features=768, out_features=768, bias=True)\n",
       "              (key): Linear(in_features=768, out_features=768, bias=True)\n",
       "              (value): Linear(in_features=768, out_features=768, bias=True)\n",
       "              (dropout): Dropout(p=0.1, inplace=False)\n",
       "            )\n",
       "            (output): BertSelfOutput(\n",
       "              (dense): Linear(in_features=768, out_features=768, bias=True)\n",
       "              (LayerNorm): LayerNorm((768,), eps=1e-12, elementwise_affine=True)\n",
       "              (dropout): Dropout(p=0.1, inplace=False)\n",
       "            )\n",
       "          )\n",
       "          (intermediate): BertIntermediate(\n",
       "            (dense): Linear(in_features=768, out_features=3072, bias=True)\n",
       "            (intermediate_act_fn): GELUActivation()\n",
       "          )\n",
       "          (output): BertOutput(\n",
       "            (dense): Linear(in_features=3072, out_features=768, bias=True)\n",
       "            (LayerNorm): LayerNorm((768,), eps=1e-12, elementwise_affine=True)\n",
       "            (dropout): Dropout(p=0.1, inplace=False)\n",
       "          )\n",
       "        )\n",
       "        (7): BertLayer(\n",
       "          (attention): BertAttention(\n",
       "            (self): BertSelfAttention(\n",
       "              (query): Linear(in_features=768, out_features=768, bias=True)\n",
       "              (key): Linear(in_features=768, out_features=768, bias=True)\n",
       "              (value): Linear(in_features=768, out_features=768, bias=True)\n",
       "              (dropout): Dropout(p=0.1, inplace=False)\n",
       "            )\n",
       "            (output): BertSelfOutput(\n",
       "              (dense): Linear(in_features=768, out_features=768, bias=True)\n",
       "              (LayerNorm): LayerNorm((768,), eps=1e-12, elementwise_affine=True)\n",
       "              (dropout): Dropout(p=0.1, inplace=False)\n",
       "            )\n",
       "          )\n",
       "          (intermediate): BertIntermediate(\n",
       "            (dense): Linear(in_features=768, out_features=3072, bias=True)\n",
       "            (intermediate_act_fn): GELUActivation()\n",
       "          )\n",
       "          (output): BertOutput(\n",
       "            (dense): Linear(in_features=3072, out_features=768, bias=True)\n",
       "            (LayerNorm): LayerNorm((768,), eps=1e-12, elementwise_affine=True)\n",
       "            (dropout): Dropout(p=0.1, inplace=False)\n",
       "          )\n",
       "        )\n",
       "        (8): BertLayer(\n",
       "          (attention): BertAttention(\n",
       "            (self): BertSelfAttention(\n",
       "              (query): Linear(in_features=768, out_features=768, bias=True)\n",
       "              (key): Linear(in_features=768, out_features=768, bias=True)\n",
       "              (value): Linear(in_features=768, out_features=768, bias=True)\n",
       "              (dropout): Dropout(p=0.1, inplace=False)\n",
       "            )\n",
       "            (output): BertSelfOutput(\n",
       "              (dense): Linear(in_features=768, out_features=768, bias=True)\n",
       "              (LayerNorm): LayerNorm((768,), eps=1e-12, elementwise_affine=True)\n",
       "              (dropout): Dropout(p=0.1, inplace=False)\n",
       "            )\n",
       "          )\n",
       "          (intermediate): BertIntermediate(\n",
       "            (dense): Linear(in_features=768, out_features=3072, bias=True)\n",
       "            (intermediate_act_fn): GELUActivation()\n",
       "          )\n",
       "          (output): BertOutput(\n",
       "            (dense): Linear(in_features=3072, out_features=768, bias=True)\n",
       "            (LayerNorm): LayerNorm((768,), eps=1e-12, elementwise_affine=True)\n",
       "            (dropout): Dropout(p=0.1, inplace=False)\n",
       "          )\n",
       "        )\n",
       "        (9): BertLayer(\n",
       "          (attention): BertAttention(\n",
       "            (self): BertSelfAttention(\n",
       "              (query): Linear(in_features=768, out_features=768, bias=True)\n",
       "              (key): Linear(in_features=768, out_features=768, bias=True)\n",
       "              (value): Linear(in_features=768, out_features=768, bias=True)\n",
       "              (dropout): Dropout(p=0.1, inplace=False)\n",
       "            )\n",
       "            (output): BertSelfOutput(\n",
       "              (dense): Linear(in_features=768, out_features=768, bias=True)\n",
       "              (LayerNorm): LayerNorm((768,), eps=1e-12, elementwise_affine=True)\n",
       "              (dropout): Dropout(p=0.1, inplace=False)\n",
       "            )\n",
       "          )\n",
       "          (intermediate): BertIntermediate(\n",
       "            (dense): Linear(in_features=768, out_features=3072, bias=True)\n",
       "            (intermediate_act_fn): GELUActivation()\n",
       "          )\n",
       "          (output): BertOutput(\n",
       "            (dense): Linear(in_features=3072, out_features=768, bias=True)\n",
       "            (LayerNorm): LayerNorm((768,), eps=1e-12, elementwise_affine=True)\n",
       "            (dropout): Dropout(p=0.1, inplace=False)\n",
       "          )\n",
       "        )\n",
       "        (10): BertLayer(\n",
       "          (attention): BertAttention(\n",
       "            (self): BertSelfAttention(\n",
       "              (query): Linear(in_features=768, out_features=768, bias=True)\n",
       "              (key): Linear(in_features=768, out_features=768, bias=True)\n",
       "              (value): Linear(in_features=768, out_features=768, bias=True)\n",
       "              (dropout): Dropout(p=0.1, inplace=False)\n",
       "            )\n",
       "            (output): BertSelfOutput(\n",
       "              (dense): Linear(in_features=768, out_features=768, bias=True)\n",
       "              (LayerNorm): LayerNorm((768,), eps=1e-12, elementwise_affine=True)\n",
       "              (dropout): Dropout(p=0.1, inplace=False)\n",
       "            )\n",
       "          )\n",
       "          (intermediate): BertIntermediate(\n",
       "            (dense): Linear(in_features=768, out_features=3072, bias=True)\n",
       "            (intermediate_act_fn): GELUActivation()\n",
       "          )\n",
       "          (output): BertOutput(\n",
       "            (dense): Linear(in_features=3072, out_features=768, bias=True)\n",
       "            (LayerNorm): LayerNorm((768,), eps=1e-12, elementwise_affine=True)\n",
       "            (dropout): Dropout(p=0.1, inplace=False)\n",
       "          )\n",
       "        )\n",
       "        (11): BertLayer(\n",
       "          (attention): BertAttention(\n",
       "            (self): BertSelfAttention(\n",
       "              (query): Linear(in_features=768, out_features=768, bias=True)\n",
       "              (key): Linear(in_features=768, out_features=768, bias=True)\n",
       "              (value): Linear(in_features=768, out_features=768, bias=True)\n",
       "              (dropout): Dropout(p=0.1, inplace=False)\n",
       "            )\n",
       "            (output): BertSelfOutput(\n",
       "              (dense): Linear(in_features=768, out_features=768, bias=True)\n",
       "              (LayerNorm): LayerNorm((768,), eps=1e-12, elementwise_affine=True)\n",
       "              (dropout): Dropout(p=0.1, inplace=False)\n",
       "            )\n",
       "          )\n",
       "          (intermediate): BertIntermediate(\n",
       "            (dense): Linear(in_features=768, out_features=3072, bias=True)\n",
       "            (intermediate_act_fn): GELUActivation()\n",
       "          )\n",
       "          (output): BertOutput(\n",
       "            (dense): Linear(in_features=3072, out_features=768, bias=True)\n",
       "            (LayerNorm): LayerNorm((768,), eps=1e-12, elementwise_affine=True)\n",
       "            (dropout): Dropout(p=0.1, inplace=False)\n",
       "          )\n",
       "        )\n",
       "      )\n",
       "    )\n",
       "    (pooler): BertPooler(\n",
       "      (dense): Linear(in_features=768, out_features=768, bias=True)\n",
       "      (activation): Tanh()\n",
       "    )\n",
       "  )\n",
       "  (dropout): Dropout(p=0.3, inplace=False)\n",
       "  (linear): Linear(in_features=768, out_features=32, bias=True)\n",
       ")"
      ]
     },
     "execution_count": 157,
     "metadata": {},
     "output_type": "execute_result"
    }
   ],
   "source": [
    "# loading pretrained BERT model\n",
    "class BERTClass(torch.nn.Module):\n",
    "    def __init__(self):\n",
    "        super(BERTClass, self).__init__()\n",
    "        self.bert_model = BertModel.from_pretrained('bert-base-cased', return_dict=True)\n",
    "        self.dropout = torch.nn.Dropout(0.3)\n",
    "        self.linear = torch.nn.Linear(768, 32)\n",
    "    \n",
    "    def forward(self, input_ids, attn_mask, token_type_ids):\n",
    "        output = self.bert_model(\n",
    "            input_ids, \n",
    "            attention_mask=attn_mask, \n",
    "            token_type_ids=token_type_ids\n",
    "        )\n",
    "        output_dropout = self.dropout(output.pooler_output)\n",
    "        output = self.linear(output_dropout)\n",
    "        return output\n",
    "\n",
    "model = BERTClass()\n",
    "model.to(device)"
   ]
  },
  {
   "cell_type": "code",
   "execution_count": 158,
   "id": "d1b6f8cd",
   "metadata": {},
   "outputs": [],
   "source": [
    "# setting custom optimization parameters. You may implement a scheduler here as well.\n",
    "param_optimizer = list(model.named_parameters())\n",
    "no_decay = ['bias', 'gamma', 'beta']\n",
    "optimizer_grouped_parameters = [\n",
    "    {'params': [p for n, p in param_optimizer if not any(nd in n for nd in no_decay)],\n",
    "     'weight_decay_rate': 0.01},\n",
    "    {'params': [p for n, p in param_optimizer if any(nd in n for nd in no_decay)],\n",
    "     'weight_decay_rate': 0.0}\n",
    "]"
   ]
  },
  {
   "cell_type": "code",
   "execution_count": 159,
   "id": "e0c88d65",
   "metadata": {},
   "outputs": [],
   "source": [
    "# initialising optimizer\n",
    "from torch.optim import AdamW\n",
    "optimizer = AdamW(optimizer_grouped_parameters,lr=2e-5)"
   ]
  },
  {
   "cell_type": "code",
   "execution_count": 160,
   "id": "fbca6936",
   "metadata": {},
   "outputs": [],
   "source": [
    "class EarlyStopping:\n",
    "    \"\"\"Early stops the training if validation loss doesn't improve after a given patience.\"\"\"\n",
    "    def __init__(self, patience=3, verbose=False, delta=0, path='checkpoint.pt', trace_func=print):\n",
    "        \"\"\"\n",
    "        Args:\n",
    "            patience (int): How long to wait after last time validation loss improved.\n",
    "                            Default: 7\n",
    "            verbose (bool): If True, prints a message for each validation loss improvement. \n",
    "                            Default: False\n",
    "            delta (float): Minimum change in the monitored quantity to qualify as an improvement.\n",
    "                            Default: 0\n",
    "            path (str): Path for the checkpoint to be saved to.\n",
    "                            Default: 'checkpoint.pt'\n",
    "            trace_func (function): trace print function.\n",
    "                            Default: print            \n",
    "        \"\"\"\n",
    "        self.patience = patience\n",
    "        self.verbose = verbose\n",
    "        self.counter = 0\n",
    "        self.best_score = None\n",
    "        self.early_stop = False\n",
    "        self.val_loss_min = np.Inf\n",
    "        self.delta = delta\n",
    "        self.path = path\n",
    "        self.trace_func = trace_func\n",
    "    def __call__(self, val_loss, model):\n",
    "\n",
    "        score = -val_loss\n",
    "\n",
    "        if self.best_score is None:\n",
    "            self.best_score = score\n",
    "            self.save_checkpoint(val_loss, model)\n",
    "        elif score < self.best_score + self.delta:\n",
    "            self.counter += 1\n",
    "            self.trace_func(f'EarlyStopping counter: {self.counter} out of {self.patience}')\n",
    "            if self.counter >= self.patience:\n",
    "                self.early_stop = True\n",
    "        else:\n",
    "            self.best_score = score\n",
    "            self.save_checkpoint(val_loss, model)\n",
    "            self.counter = 0\n",
    "\n",
    "    def save_checkpoint(self, val_loss, model):\n",
    "        '''Saves model when validation loss decrease.'''\n",
    "        if self.verbose:\n",
    "            self.trace_func(f'Validation loss decreased ({self.val_loss_min:.6f} --> {val_loss:.6f}).  Saving model ...')\n",
    "        torch.save(model.state_dict(), self.path)\n",
    "        self.val_loss_min = val_loss"
   ]
  },
  {
   "cell_type": "code",
   "execution_count": 161,
   "id": "79cecaea",
   "metadata": {},
   "outputs": [],
   "source": [
    "# initialize the early_stopping object\n",
    "early_stopping = EarlyStopping(patience=5, path=model_path, verbose=True)"
   ]
  },
  {
   "cell_type": "markdown",
   "id": "49a2f395",
   "metadata": {},
   "source": [
    "# Training and Validation"
   ]
  },
  {
   "cell_type": "code",
   "execution_count": 163,
   "id": "4b090115",
   "metadata": {},
   "outputs": [
    {
     "name": "stderr",
     "output_type": "stream",
     "text": [
      "\r",
      "Epoch:   0%|                                                                                    | 0/50 [00:00<?, ?it/s]"
     ]
    },
    {
     "name": "stdout",
     "output_type": "stream",
     "text": [
      "Train loss: 0.14606736895509462\n",
      "Validation loss: 0.13593660101846414\n",
      "F1 Validation Accuracy:  90.72004526807187\n",
      "Flat Validation Accuracy:  66.85979142526072\n",
      "Validation loss decreased (inf --> 0.135937).  Saving model ...\n"
     ]
    },
    {
     "name": "stderr",
     "output_type": "stream",
     "text": [
      "\r",
      "Epoch:   2%|█▍                                                                     | 1/50 [42:52<35:01:09, 2572.84s/it]"
     ]
    },
    {
     "name": "stdout",
     "output_type": "stream",
     "text": [
      "Train loss: 0.11008711674714407\n",
      "Validation loss: 0.11185028707539593\n",
      "F1 Validation Accuracy:  92.73308322912325\n",
      "Flat Validation Accuracy:  72.65353418308227\n",
      "Validation loss decreased (0.135937 --> 0.111850).  Saving model ...\n"
     ]
    },
    {
     "name": "stderr",
     "output_type": "stream",
     "text": [
      "\r",
      "Epoch:   4%|██▊                                                                  | 2/50 [1:25:42<34:16:58, 2571.23s/it]"
     ]
    },
    {
     "name": "stdout",
     "output_type": "stream",
     "text": [
      "Train loss: 0.08678889751181375\n",
      "Validation loss: 0.10339010051555103\n",
      "F1 Validation Accuracy:  92.98306738206396\n",
      "Flat Validation Accuracy:  73.81228273464659\n",
      "Validation loss decreased (0.111850 --> 0.103390).  Saving model ...\n"
     ]
    },
    {
     "name": "stderr",
     "output_type": "stream",
     "text": [
      "\r",
      "Epoch:   6%|████▏                                                                | 3/50 [2:08:37<33:35:18, 2572.72s/it]"
     ]
    },
    {
     "name": "stdout",
     "output_type": "stream",
     "text": [
      "Train loss: 0.07195581348589909\n",
      "Validation loss: 0.10025988908967486\n",
      "F1 Validation Accuracy:  93.68314833501515\n",
      "Flat Validation Accuracy:  76.70915411355736\n",
      "Validation loss decreased (0.103390 --> 0.100260).  Saving model ...\n"
     ]
    },
    {
     "name": "stderr",
     "output_type": "stream",
     "text": [
      "\r",
      "Epoch:   8%|█████▌                                                               | 4/50 [2:51:32<32:53:14, 2573.80s/it]"
     ]
    },
    {
     "name": "stdout",
     "output_type": "stream",
     "text": [
      "Train loss: 0.059232286714140034\n",
      "Validation loss: 0.09194136072916013\n",
      "F1 Validation Accuracy:  94.24597763839651\n",
      "Flat Validation Accuracy:  78.91077636152954\n",
      "Validation loss decreased (0.100260 --> 0.091941).  Saving model ...\n"
     ]
    },
    {
     "name": "stderr",
     "output_type": "stream",
     "text": [
      "\r",
      "Epoch:  10%|██████▉                                                              | 5/50 [3:34:27<32:10:30, 2574.02s/it]"
     ]
    },
    {
     "name": "stdout",
     "output_type": "stream",
     "text": [
      "Train loss: 0.05022330972684141\n",
      "Validation loss: 0.09031410127257307\n",
      "F1 Validation Accuracy:  94.37821728528853\n",
      "Flat Validation Accuracy:  79.60602549246813\n",
      "Validation loss decreased (0.091941 --> 0.090314).  Saving model ...\n"
     ]
    },
    {
     "name": "stderr",
     "output_type": "stream",
     "text": [
      "\r",
      "Epoch:  12%|████████▎                                                            | 6/50 [4:17:19<31:27:06, 2573.34s/it]"
     ]
    },
    {
     "name": "stdout",
     "output_type": "stream",
     "text": [
      "Train loss: 0.04263315212610082\n"
     ]
    },
    {
     "name": "stderr",
     "output_type": "stream",
     "text": [
      "\r",
      "Epoch:  14%|█████████▋                                                           | 7/50 [4:59:56<30:40:31, 2568.17s/it]"
     ]
    },
    {
     "name": "stdout",
     "output_type": "stream",
     "text": [
      "Validation loss: 0.0907512977719307\n",
      "F1 Validation Accuracy:  94.3118264902469\n",
      "Flat Validation Accuracy:  79.4901506373117\n",
      "EarlyStopping counter: 1 out of 5\n",
      "Train loss: 0.0373035478491888\n",
      "Validation loss: 0.08762399723787827\n",
      "F1 Validation Accuracy:  94.75741239892183\n",
      "Flat Validation Accuracy:  80.76477404403245\n",
      "Validation loss decreased (0.090314 --> 0.087624).  Saving model ...\n"
     ]
    },
    {
     "name": "stderr",
     "output_type": "stream",
     "text": [
      "\r",
      "Epoch:  16%|███████████                                                          | 8/50 [5:42:48<29:58:35, 2569.42s/it]"
     ]
    },
    {
     "name": "stdout",
     "output_type": "stream",
     "text": [
      "Train loss: 0.03251379196735198\n",
      "Validation loss: 0.08664517234838395\n",
      "F1 Validation Accuracy:  94.60694075134657\n",
      "Flat Validation Accuracy:  80.9965237543453\n",
      "Validation loss decreased (0.087624 --> 0.086645).  Saving model ...\n"
     ]
    },
    {
     "name": "stderr",
     "output_type": "stream",
     "text": [
      "\r",
      "Epoch:  18%|████████████▍                                                        | 9/50 [6:25:44<29:17:03, 2571.30s/it]"
     ]
    },
    {
     "name": "stdout",
     "output_type": "stream",
     "text": [
      "Train loss: 0.028469390810731753\n"
     ]
    },
    {
     "name": "stderr",
     "output_type": "stream",
     "text": [
      "\r",
      "Epoch:  20%|█████████████▌                                                      | 10/50 [7:08:38<28:34:43, 2572.08s/it]"
     ]
    },
    {
     "name": "stdout",
     "output_type": "stream",
     "text": [
      "Validation loss: 0.08728053715700905\n",
      "F1 Validation Accuracy:  94.69558753969864\n",
      "Flat Validation Accuracy:  80.76477404403245\n",
      "EarlyStopping counter: 1 out of 5\n",
      "Train loss: 0.025779434219635102\n"
     ]
    },
    {
     "name": "stderr",
     "output_type": "stream",
     "text": [
      "\r",
      "Epoch:  22%|██████████████▉                                                     | 11/50 [7:51:31<27:52:02, 2572.36s/it]"
     ]
    },
    {
     "name": "stdout",
     "output_type": "stream",
     "text": [
      "Validation loss: 0.09131171269756225\n",
      "F1 Validation Accuracy:  94.5334590009425\n",
      "Flat Validation Accuracy:  80.76477404403245\n",
      "EarlyStopping counter: 2 out of 5\n",
      "Train loss: 0.022247296099746485\n"
     ]
    },
    {
     "name": "stderr",
     "output_type": "stream",
     "text": [
      "\r",
      "Epoch:  24%|████████████████▎                                                   | 12/50 [8:34:24<27:09:24, 2572.75s/it]"
     ]
    },
    {
     "name": "stdout",
     "output_type": "stream",
     "text": [
      "Validation loss: 0.09624832454654905\n",
      "F1 Validation Accuracy:  94.58367016976555\n",
      "Flat Validation Accuracy:  80.88064889918888\n",
      "EarlyStopping counter: 3 out of 5\n",
      "Train loss: 0.02228308955797688\n"
     ]
    },
    {
     "name": "stderr",
     "output_type": "stream",
     "text": [
      "\r",
      "Epoch:  26%|█████████████████▋                                                  | 13/50 [9:17:19<26:26:48, 2573.19s/it]"
     ]
    },
    {
     "name": "stdout",
     "output_type": "stream",
     "text": [
      "Validation loss: 0.09131668721049747\n",
      "F1 Validation Accuracy:  94.83402348788269\n",
      "Flat Validation Accuracy:  82.8505214368482\n",
      "EarlyStopping counter: 4 out of 5\n",
      "Train loss: 0.018055172274205375\n"
     ]
    },
    {
     "name": "stderr",
     "output_type": "stream",
     "text": [
      "\r",
      "Epoch:  26%|█████████████████▍                                                 | 13/50 [10:00:14<28:28:22, 2770.34s/it]"
     ]
    },
    {
     "name": "stdout",
     "output_type": "stream",
     "text": [
      "Validation loss: 0.09776448686089781\n",
      "F1 Validation Accuracy:  94.31894131800561\n",
      "Flat Validation Accuracy:  80.76477404403245\n",
      "EarlyStopping counter: 5 out of 5\n",
      "Early stopping\n"
     ]
    },
    {
     "name": "stderr",
     "output_type": "stream",
     "text": [
      "\n"
     ]
    }
   ],
   "source": [
    "val_acc_list = []\n",
    "# Store our loss and accuracy for plotting\n",
    "train_loss_set = []\n",
    "valid_loss_set = []\n",
    "\n",
    "# Number of training epochs (authors recommend between 2 and 4)\n",
    "epochs =50\n",
    "\n",
    "# trange is a tqdm wrapper around the normal python range\n",
    "for _ in trange(epochs, desc=\"Epoch\"):\n",
    "    # set model to training mode \n",
    "    model.train()\n",
    "    \n",
    "    # Tracking variables of traning\n",
    "    tr_loss = 0 #running loss\n",
    "    nb_tr_examples, nb_tr_steps = 0, 0\n",
    "    \n",
    "     # Tracking variables of validation\n",
    "    vl_loss = 0 #running loss\n",
    "    nb_vl_examples, nb_vl_steps = 0, 0\n",
    "\n",
    "    # train the data for one epoch\n",
    "    for step, batch in enumerate(train_dataloader):\n",
    "        batch = tuple(t.to(device) for t in batch)\n",
    "        # unpack the inputs from dataloader\n",
    "        b_input_ids, b_input_mask, b_labels, b_token_types = batch\n",
    "        # clearing the gradients\n",
    "        optimizer.zero_grad()\n",
    "\n",
    "        # forward pass\n",
    "        outputs = model(b_input_ids, b_input_mask ,b_token_types)\n",
    "        logits = outputs\n",
    "        loss_func = BCEWithLogitsLoss()\n",
    "        # converting logits and labels to appropriate shape \n",
    "        loss = loss_func(logits.view(-1,32),b_labels.type_as(logits).view(-1,32)) #convert labels to float for calculation\n",
    "        train_loss_set.append(loss.item())    \n",
    "\n",
    "\n",
    "        # backward pass\n",
    "        loss.backward()\n",
    "        # update parameters and take a step using the computed gradient\n",
    "        optimizer.step()\n",
    "        \n",
    "        # Update tracking variables\n",
    "        tr_loss += loss.item()\n",
    "        nb_tr_examples += b_input_ids.size(0)\n",
    "        nb_tr_steps += 1\n",
    "\n",
    "    print(\"Train loss: {}\".format(tr_loss/nb_tr_steps))\n",
    "\n",
    "    #################################################################\n",
    "    #validation \n",
    "    \n",
    "    # set model to evaluation mode\n",
    "    model.eval()\n",
    "    \n",
    "    # variables to gather outputs\n",
    "    logit_preds,true_labels,pred_labels,tokenized_texts  = [],[],[],[]\n",
    "\n",
    "\n",
    "    # predict\n",
    "    for i, batch in enumerate(validation_dataloader):\n",
    "        batch = tuple(t.to(device) for t in batch) \n",
    "        # Unpack the inputs from our dataloader\n",
    "        b_input_ids, b_input_mask, b_labels, b_token_types = batch\n",
    "        with torch.no_grad():\n",
    "            # forward pass\n",
    "            outs = model(b_input_ids, b_input_mask ,b_token_types)\n",
    "            # Calculate Validation Loss\n",
    "            logits_val = outs\n",
    "            \n",
    "            loss_func_val = BCEWithLogitsLoss() \n",
    "            loss_val = loss_func_val(logits_val.view(-1,32),b_labels.type_as(logits_val).view(-1,32)) #convert labels to float for calculation\n",
    "            valid_loss_set.append(loss_val.item())\n",
    "            \n",
    "            vl_loss += loss_val.item()\n",
    "            nb_vl_examples += b_input_ids.size(0)\n",
    "            nb_vl_steps += 1\n",
    "\n",
    "            b_logit_pred = outs\n",
    "            pred_label = torch.sigmoid(b_logit_pred)\n",
    "\n",
    "            # converting tensors to numpy arrays\n",
    "            b_logit_pred = b_logit_pred.detach().cpu().numpy()\n",
    "            pred_label = pred_label.to('cpu').numpy()\n",
    "            b_labels = b_labels.to('cpu').numpy()\n",
    "            \n",
    "        tokenized_texts.append(b_input_ids)\n",
    "        logit_preds.append(b_logit_pred)\n",
    "        true_labels.append(b_labels)\n",
    "        pred_labels.append(pred_label)\n",
    "        \n",
    "    print(\"Validation loss: {}\".format(vl_loss/nb_vl_steps))\n",
    "    \n",
    "    # flatten outputs\n",
    "    pred_labels = [item for sublist in pred_labels for item in sublist]\n",
    "    true_labels = [item for sublist in true_labels for item in sublist]\n",
    "    \n",
    "    # Calculate Accuracy\n",
    "    threshold = 0.50\n",
    "    pred_bools = [pl>threshold for pl in pred_labels]\n",
    "    true_bools = [tl==1 for tl in true_labels]\n",
    "    val_f1_accuracy = f1_score(true_bools,pred_bools,average='micro')*100\n",
    "    val_flat_accuracy = accuracy_score(true_bools, pred_bools)*100\n",
    "\n",
    "    print('F1 Validation Accuracy: ', val_f1_accuracy)\n",
    "    print('Flat Validation Accuracy: ', val_flat_accuracy)\n",
    "    \n",
    "    # early_stopping needs the validation loss to check if it has decresed, \n",
    "    # and if it has, it will make a checkpoint of the current model\n",
    "    early_stopping(vl_loss/nb_vl_steps, model)\n",
    "\n",
    "    if early_stopping.early_stop:\n",
    "        print(\"Early stopping\")\n",
    "        break"
   ]
  },
  {
   "cell_type": "code",
   "execution_count": 164,
   "id": "715b00c8",
   "metadata": {},
   "outputs": [
    {
     "data": {
      "image/png": "[encoded data removed]",
      "text/plain": [
       "<Figure size 500x500 with 1 Axes>"
      ]
     },
     "metadata": {},
     "output_type": "display_data"
    },
    {
     "data": {
      "image/png": "[encoded data removed]",
      "text/plain": [
       "<Figure size 500x500 with 1 Axes>"
      ]
     },
     "metadata": {},
     "output_type": "display_data"
    },
    {
     "data": {
      "image/png": "[encoded data removed]",
      "text/plain": [
       "<Figure size 1500x800 with 1 Axes>"
      ]
     },
     "metadata": {},
     "output_type": "display_data"
    }
   ],
   "source": [
    "plt.figure(figsize=(15,8))\n",
    "plt.title(\"Training loss\")\n",
    "plt.xlabel(\"Batch\")\n",
    "plt.ylabel(\"Loss\")\n",
    "plt.plot(train_loss_set)\n",
    "plt.show()"
   ]
  },
  {
   "cell_type": "code",
   "execution_count": 165,
   "id": "575f413d",
   "metadata": {},
   "outputs": [
    {
     "data": {
      "text/plain": [
       "<All keys matched successfully>"
      ]
     },
     "execution_count": 165,
     "metadata": {},
     "output_type": "execute_result"
    }
   ],
   "source": [
    "# load the last checkpoint with the best model\n",
    "model.load_state_dict(torch.load(model_path))"
   ]
  },
  {
   "cell_type": "code",
   "execution_count": 166,
   "id": "02ca7093",
   "metadata": {},
   "outputs": [
    {
     "name": "stderr",
     "output_type": "stream",
     "text": [
      "Truncation was not explicitly activated but `max_length` is provided a specific value, please use `truncation=True` to explicitly truncate examples to max length. Defaulting to 'longest_first' truncation strategy. If you encode pairs of sequences (GLUE-style) with the tokenizer you can select this strategy more precisely by providing a specific strategy to `truncation`.\n"
     ]
    }
   ],
   "source": [
    "# Encoding input data\n",
    "test_encodings = tokenizer.batch_encode_plus(test_newsitems,max_length=max_length,pad_to_max_length=True)\n",
    "test_input_ids = test_encodings['input_ids']\n",
    "test_token_type_ids = test_encodings['token_type_ids']\n",
    "test_attention_masks = test_encodings['attention_mask']"
   ]
  },
  {
   "cell_type": "code",
   "execution_count": 167,
   "id": "a4d19f8e",
   "metadata": {},
   "outputs": [],
   "source": [
    "# Make tensors out of data\n",
    "test_inputs = torch.tensor(test_input_ids)\n",
    "test_labels = torch.tensor(test_labels)\n",
    "test_masks = torch.tensor(test_attention_masks)\n",
    "test_token_types = torch.tensor(test_token_type_ids)\n",
    "# Create test dataloader\n",
    "test_data = TensorDataset(test_inputs, test_masks, test_labels, test_token_types)\n",
    "test_sampler = SequentialSampler(test_data)\n",
    "test_dataloader = DataLoader(test_data, sampler=test_sampler, batch_size=batch_size)"
   ]
  },
  {
   "cell_type": "markdown",
   "id": "19629c24",
   "metadata": {},
   "source": [
    "# Testing The Model"
   ]
  },
  {
   "cell_type": "code",
   "execution_count": 168,
   "id": "7db67ae3",
   "metadata": {},
   "outputs": [],
   "source": [
    "# testing \n",
    "\n",
    "# put model in evaluation mode \n",
    "model.eval()\n",
    "\n",
    "#track variables\n",
    "logit_preds,true_labels,pred_labels,tokenized_texts  = [],[],[],[]\n",
    "\n",
    "# predict\n",
    "# reading input from each batch\n",
    "for i, batch in enumerate(test_dataloader):\n",
    "    batch = tuple(t.to(device) for t in batch)\n",
    "    # unpack the inputs from test dataloader\n",
    "    b_input_ids, b_input_mask, b_labels, b_token_types = batch\n",
    "    with torch.no_grad():\n",
    "        # forward pass\n",
    "        outs = model(b_input_ids, b_input_mask ,b_token_types)\n",
    "        b_logit_pred = outs\n",
    "        pred_label = torch.sigmoid(b_logit_pred)\n",
    "\n",
    "        # converting into numpy arrays \n",
    "        b_logit_pred = b_logit_pred.detach().cpu().numpy()\n",
    "        pred_label = pred_label.to('cpu').numpy()\n",
    "        b_labels = b_labels.to('cpu').numpy()\n",
    "        \n",
    "    # appending output variables \n",
    "    tokenized_texts.append(b_input_ids)\n",
    "    logit_preds.append(b_logit_pred)\n",
    "    pred_labels.append(pred_label)  \n",
    "    true_labels.append(b_labels) \n",
    "    \n",
    "# flatten output variables\n",
    "tokenized_texts = [item for sublist in tokenized_texts for item in sublist]\n",
    "pred_labels = [item for sublist in pred_labels for item in sublist]\n",
    "true_labels = [item for sublist in true_labels for item in sublist]\n",
    " \n",
    "# Converting flattened binary values to boolean values\n",
    "true_bools = [tl==1 for tl in true_labels]"
   ]
  },
  {
   "cell_type": "code",
   "execution_count": 170,
   "id": "823e6dfe",
   "metadata": {},
   "outputs": [
    {
     "name": "stdout",
     "output_type": "stream",
     "text": [
      "Test F1 Accuracy:  0.9547352412553574\n",
      "Test Flat Accuracy:  0.8373493975903614 \n",
      "\n",
      "              precision    recall  f1-score   support\n",
      "\n",
      "           0       0.78      0.71      0.74       326\n",
      "           1       1.00      1.00      1.00      2158\n",
      "           2       0.78      0.71      0.74       326\n",
      "           3       0.89      0.85      0.87       256\n",
      "           4       1.00      1.00      1.00      2158\n",
      "           5       1.00      1.00      1.00      2158\n",
      "           6       0.98      0.98      0.98      1638\n",
      "           7       0.75      0.90      0.82        72\n",
      "           8       0.97      0.97      0.97       740\n",
      "           9       0.88      0.88      0.88       317\n",
      "          10       0.98      0.98      0.98      1467\n",
      "          11       0.91      0.86      0.88       187\n",
      "          12       0.94      0.85      0.89       269\n",
      "          13       0.91      0.80      0.86       133\n",
      "          14       0.94      0.87      0.90       389\n",
      "          15       1.00      0.57      0.73        14\n",
      "          16       0.93      0.45      0.61        31\n",
      "          17       0.87      0.85      0.86       230\n",
      "          18       0.92      0.89      0.91       226\n",
      "          19       0.98      0.97      0.98      1261\n",
      "          20       0.91      0.94      0.92       417\n",
      "          21       0.87      0.80      0.84       168\n",
      "          22       0.98      0.98      0.98       483\n",
      "          23       0.96      0.96      0.96      1352\n",
      "          24       0.89      0.85      0.87       357\n",
      "          25       0.89      0.80      0.84       343\n",
      "          26       0.94      0.89      0.91       215\n",
      "          27       0.90      0.80      0.85        69\n",
      "          28       0.90      0.73      0.81        75\n",
      "          29       0.92      0.88      0.90       155\n",
      "          30       0.90      0.93      0.92       228\n",
      "          31       1.00      0.40      0.57         5\n",
      "\n",
      "   micro avg       0.96      0.95      0.95     18223\n",
      "   macro avg       0.92      0.85      0.87     18223\n",
      "weighted avg       0.96      0.95      0.95     18223\n",
      " samples avg       0.98      0.97      0.97     18223\n",
      "\n"
     ]
    }
   ],
   "source": [
    "pred_bools = [pl>0.50 for pl in pred_labels] #boolean output after thresholding\n",
    "\n",
    "# Print and save classification report\n",
    "print('Test F1 Accuracy: ', f1_score(true_bools, pred_bools,average='micro'))\n",
    "print('Test Flat Accuracy: ', accuracy_score(true_bools, pred_bools),'\\n')\n",
    "clf_report = classification_report(true_bools,pred_bools)\n",
    "pickle.dump(clf_report, open('Reuters_Bert_Text_Classification_report.txt','wb'))\n",
    "print(clf_report)"
   ]
  },
  {
   "cell_type": "code",
   "execution_count": 171,
   "id": "24d250c0",
   "metadata": {},
   "outputs": [
    {
     "name": "stdout",
     "output_type": "stream",
     "text": [
      "Best Threshold:  0.41000000000000003\n",
      "Test F1 Accuracy:  0.955564099747336\n",
      "Test Flat Accuracy:  0.8410565338276181 \n",
      "\n",
      "              precision    recall  f1-score   support\n",
      "\n",
      "           0       0.77      0.75      0.76       326\n",
      "           1       1.00      1.00      1.00      2158\n",
      "           2       0.77      0.74      0.76       326\n",
      "           3       0.89      0.89      0.89       256\n",
      "           4       1.00      1.00      1.00      2158\n",
      "           5       1.00      1.00      1.00      2158\n",
      "           6       0.98      0.98      0.98      1638\n",
      "           7       0.74      0.92      0.82        72\n",
      "           8       0.96      0.97      0.97       740\n",
      "           9       0.86      0.89      0.88       317\n",
      "          10       0.98      0.99      0.98      1467\n",
      "          11       0.90      0.86      0.88       187\n",
      "          12       0.94      0.87      0.90       269\n",
      "          13       0.91      0.80      0.85       133\n",
      "          14       0.93      0.89      0.91       389\n",
      "          15       1.00      0.57      0.73        14\n",
      "          16       0.93      0.45      0.61        31\n",
      "          17       0.85      0.87      0.86       230\n",
      "          18       0.91      0.90      0.91       226\n",
      "          19       0.98      0.97      0.98      1261\n",
      "          20       0.90      0.95      0.92       417\n",
      "          21       0.85      0.83      0.84       168\n",
      "          22       0.97      0.98      0.98       483\n",
      "          23       0.96      0.97      0.96      1352\n",
      "          24       0.88      0.87      0.87       357\n",
      "          25       0.88      0.82      0.85       343\n",
      "          26       0.91      0.90      0.90       215\n",
      "          27       0.87      0.86      0.86        69\n",
      "          28       0.91      0.79      0.84        75\n",
      "          29       0.91      0.92      0.91       155\n",
      "          30       0.89      0.94      0.92       228\n",
      "          31       1.00      0.60      0.75         5\n",
      "\n",
      "   micro avg       0.96      0.95      0.96     18223\n",
      "   macro avg       0.91      0.87      0.88     18223\n",
      "weighted avg       0.96      0.95      0.96     18223\n",
      " samples avg       0.97      0.97      0.97     18223\n",
      "\n"
     ]
    }
   ],
   "source": [
    "# Calculate Accuracy - maximize F1 accuracy by tuning threshold values. First with 'macro_thresholds' on the order of e^-1 then with 'micro_thresholds' on the order of e^-2\n",
    "\n",
    "macro_thresholds = np.array(range(1,10))/10\n",
    "\n",
    "f1_results, flat_acc_results = [], []\n",
    "for th in macro_thresholds:\n",
    "    pred_bools = [pl>th for pl in pred_labels]\n",
    "    test_f1_accuracy = f1_score(true_bools,pred_bools,average='micro')\n",
    "    test_flat_accuracy = accuracy_score(true_bools, pred_bools)\n",
    "    f1_results.append(test_f1_accuracy)\n",
    "    flat_acc_results.append(test_flat_accuracy)\n",
    "\n",
    "best_macro_th = macro_thresholds[np.argmax(f1_results)] #best macro threshold value\n",
    "\n",
    "micro_thresholds = (np.array(range(10))/100)+best_macro_th #calculating micro threshold values\n",
    "\n",
    "f1_results, flat_acc_results = [], []\n",
    "for th in micro_thresholds:\n",
    "    pred_bools = [pl>th for pl in pred_labels]\n",
    "    test_f1_accuracy = f1_score(true_bools,pred_bools,average='micro')\n",
    "    test_flat_accuracy = accuracy_score(true_bools, pred_bools)\n",
    "    f1_results.append(test_f1_accuracy)\n",
    "    flat_acc_results.append(test_flat_accuracy)\n",
    "\n",
    "best_f1_idx = np.argmax(f1_results) #best threshold value\n",
    "\n",
    "# Printing and saving classification report\n",
    "print('Best Threshold: ', micro_thresholds[best_f1_idx])\n",
    "print('Test F1 Accuracy: ', f1_results[best_f1_idx])\n",
    "print('Test Flat Accuracy: ', flat_acc_results[best_f1_idx], '\\n')\n",
    "\n",
    "best_pred_bools = [pl>micro_thresholds[best_f1_idx] for pl in pred_labels]\n",
    "clf_report_optimized = classification_report(true_bools,best_pred_bools)\n",
    "pickle.dump(clf_report_optimized, open('Reuters_Bert_Text_Classification_report_optimized.txt','wb'))\n",
    "print(clf_report_optimized)"
   ]
  },
  {
   "cell_type": "code",
   "execution_count": null,
   "id": "a6fa306c",
   "metadata": {},
   "outputs": [],
   "source": []
  }
 ],
 "metadata": {
  "kernelspec": {
   "display_name": "demo",
   "language": "python",
   "name": "demo"
  },
  "language_info": {
   "codemirror_mode": {
    "name": "ipython",
    "version": 3
   },
   "file_extension": ".py",
   "mimetype": "text/x-python",
   "name": "python",
   "nbconvert_exporter": "python",
   "pygments_lexer": "ipython3",
   "version": "3.9.13"
  }
 },
 "nbformat": 4,
 "nbformat_minor": 5
}
